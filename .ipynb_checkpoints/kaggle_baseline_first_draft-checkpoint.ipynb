{
 "cells": [
  {
   "cell_type": "code",
   "execution_count": 1,
   "id": "79245f75",
   "metadata": {},
   "outputs": [],
   "source": [
    "import pandas as pd\n",
    "import numpy as np\n",
    "import matplotlib.pyplot as plt\n",
    "from sklearn.tree import DecisionTreeRegressor\n",
    "from sklearn.preprocessing import OneHotEncoder\n",
    "from sklearn.model_selection import train_test_split\n",
    "from sklearn.metrics import mean_squared_error\n",
    "from sklearn.ensemble import RandomForestRegressor"
   ]
  },
  {
   "cell_type": "markdown",
   "id": "f588a33e",
   "metadata": {},
   "source": [
    "## EDA"
   ]
  },
  {
   "cell_type": "code",
   "execution_count": 2,
   "id": "3b4217b3",
   "metadata": {},
   "outputs": [],
   "source": [
    "train = pd.read_csv('train.csv')\n",
    "test = pd.read_csv('test.csv')"
   ]
  },
  {
   "cell_type": "code",
   "execution_count": 3,
   "id": "e5424a45",
   "metadata": {},
   "outputs": [
    {
     "name": "stdout",
     "output_type": "stream",
     "text": [
      "<class 'pandas.core.frame.DataFrame'>\n",
      "RangeIndex: 1460 entries, 0 to 1459\n",
      "Data columns (total 81 columns):\n",
      " #   Column         Non-Null Count  Dtype  \n",
      "---  ------         --------------  -----  \n",
      " 0   Id             1460 non-null   int64  \n",
      " 1   MSSubClass     1460 non-null   int64  \n",
      " 2   MSZoning       1460 non-null   object \n",
      " 3   LotFrontage    1201 non-null   float64\n",
      " 4   LotArea        1460 non-null   int64  \n",
      " 5   Street         1460 non-null   object \n",
      " 6   Alley          91 non-null     object \n",
      " 7   LotShape       1460 non-null   object \n",
      " 8   LandContour    1460 non-null   object \n",
      " 9   Utilities      1460 non-null   object \n",
      " 10  LotConfig      1460 non-null   object \n",
      " 11  LandSlope      1460 non-null   object \n",
      " 12  Neighborhood   1460 non-null   object \n",
      " 13  Condition1     1460 non-null   object \n",
      " 14  Condition2     1460 non-null   object \n",
      " 15  BldgType       1460 non-null   object \n",
      " 16  HouseStyle     1460 non-null   object \n",
      " 17  OverallQual    1460 non-null   int64  \n",
      " 18  OverallCond    1460 non-null   int64  \n",
      " 19  YearBuilt      1460 non-null   int64  \n",
      " 20  YearRemodAdd   1460 non-null   int64  \n",
      " 21  RoofStyle      1460 non-null   object \n",
      " 22  RoofMatl       1460 non-null   object \n",
      " 23  Exterior1st    1460 non-null   object \n",
      " 24  Exterior2nd    1460 non-null   object \n",
      " 25  MasVnrType     1452 non-null   object \n",
      " 26  MasVnrArea     1452 non-null   float64\n",
      " 27  ExterQual      1460 non-null   object \n",
      " 28  ExterCond      1460 non-null   object \n",
      " 29  Foundation     1460 non-null   object \n",
      " 30  BsmtQual       1423 non-null   object \n",
      " 31  BsmtCond       1423 non-null   object \n",
      " 32  BsmtExposure   1422 non-null   object \n",
      " 33  BsmtFinType1   1423 non-null   object \n",
      " 34  BsmtFinSF1     1460 non-null   int64  \n",
      " 35  BsmtFinType2   1422 non-null   object \n",
      " 36  BsmtFinSF2     1460 non-null   int64  \n",
      " 37  BsmtUnfSF      1460 non-null   int64  \n",
      " 38  TotalBsmtSF    1460 non-null   int64  \n",
      " 39  Heating        1460 non-null   object \n",
      " 40  HeatingQC      1460 non-null   object \n",
      " 41  CentralAir     1460 non-null   object \n",
      " 42  Electrical     1459 non-null   object \n",
      " 43  1stFlrSF       1460 non-null   int64  \n",
      " 44  2ndFlrSF       1460 non-null   int64  \n",
      " 45  LowQualFinSF   1460 non-null   int64  \n",
      " 46  GrLivArea      1460 non-null   int64  \n",
      " 47  BsmtFullBath   1460 non-null   int64  \n",
      " 48  BsmtHalfBath   1460 non-null   int64  \n",
      " 49  FullBath       1460 non-null   int64  \n",
      " 50  HalfBath       1460 non-null   int64  \n",
      " 51  BedroomAbvGr   1460 non-null   int64  \n",
      " 52  KitchenAbvGr   1460 non-null   int64  \n",
      " 53  KitchenQual    1460 non-null   object \n",
      " 54  TotRmsAbvGrd   1460 non-null   int64  \n",
      " 55  Functional     1460 non-null   object \n",
      " 56  Fireplaces     1460 non-null   int64  \n",
      " 57  FireplaceQu    770 non-null    object \n",
      " 58  GarageType     1379 non-null   object \n",
      " 59  GarageYrBlt    1379 non-null   float64\n",
      " 60  GarageFinish   1379 non-null   object \n",
      " 61  GarageCars     1460 non-null   int64  \n",
      " 62  GarageArea     1460 non-null   int64  \n",
      " 63  GarageQual     1379 non-null   object \n",
      " 64  GarageCond     1379 non-null   object \n",
      " 65  PavedDrive     1460 non-null   object \n",
      " 66  WoodDeckSF     1460 non-null   int64  \n",
      " 67  OpenPorchSF    1460 non-null   int64  \n",
      " 68  EnclosedPorch  1460 non-null   int64  \n",
      " 69  3SsnPorch      1460 non-null   int64  \n",
      " 70  ScreenPorch    1460 non-null   int64  \n",
      " 71  PoolArea       1460 non-null   int64  \n",
      " 72  PoolQC         7 non-null      object \n",
      " 73  Fence          281 non-null    object \n",
      " 74  MiscFeature    54 non-null     object \n",
      " 75  MiscVal        1460 non-null   int64  \n",
      " 76  MoSold         1460 non-null   int64  \n",
      " 77  YrSold         1460 non-null   int64  \n",
      " 78  SaleType       1460 non-null   object \n",
      " 79  SaleCondition  1460 non-null   object \n",
      " 80  SalePrice      1460 non-null   int64  \n",
      "dtypes: float64(3), int64(35), object(43)\n",
      "memory usage: 924.0+ KB\n"
     ]
    }
   ],
   "source": [
    "train.info()"
   ]
  },
  {
   "cell_type": "markdown",
   "id": "5f76c75e",
   "metadata": {},
   "source": [
    "Lets find columns with missing values:"
   ]
  },
  {
   "cell_type": "code",
   "execution_count": 4,
   "id": "daf8f542",
   "metadata": {},
   "outputs": [
    {
     "data": {
      "text/plain": [
       "PoolQC          1453\n",
       "MiscFeature     1406\n",
       "Alley           1369\n",
       "Fence           1179\n",
       "FireplaceQu      690\n",
       "LotFrontage      259\n",
       "GarageType        81\n",
       "GarageYrBlt       81\n",
       "GarageFinish      81\n",
       "GarageQual        81\n",
       "GarageCond        81\n",
       "BsmtExposure      38\n",
       "BsmtFinType2      38\n",
       "BsmtFinType1      37\n",
       "BsmtCond          37\n",
       "BsmtQual          37\n",
       "MasVnrArea         8\n",
       "MasVnrType         8\n",
       "Electrical         1\n",
       "dtype: int64"
      ]
     },
     "execution_count": 4,
     "metadata": {},
     "output_type": "execute_result"
    }
   ],
   "source": [
    "train.isna().sum()[(train.isna().sum() > 0)].sort_values(ascending=False)"
   ]
  },
  {
   "cell_type": "code",
   "execution_count": 5,
   "id": "44c5ed18",
   "metadata": {},
   "outputs": [],
   "source": [
    "na_columns = list(train.isna().sum()[(train.isna().sum() > 0)].sort_values(ascending=False).index)"
   ]
  },
  {
   "cell_type": "code",
   "execution_count": 6,
   "id": "730855ae",
   "metadata": {},
   "outputs": [
    {
     "data": {
      "text/plain": [
       "['PoolQC',\n",
       " 'MiscFeature',\n",
       " 'Alley',\n",
       " 'Fence',\n",
       " 'FireplaceQu',\n",
       " 'LotFrontage',\n",
       " 'GarageType',\n",
       " 'GarageYrBlt',\n",
       " 'GarageFinish',\n",
       " 'GarageQual',\n",
       " 'GarageCond',\n",
       " 'BsmtExposure',\n",
       " 'BsmtFinType2',\n",
       " 'BsmtFinType1',\n",
       " 'BsmtCond',\n",
       " 'BsmtQual',\n",
       " 'MasVnrArea',\n",
       " 'MasVnrType',\n",
       " 'Electrical']"
      ]
     },
     "execution_count": 6,
     "metadata": {},
     "output_type": "execute_result"
    }
   ],
   "source": [
    "na_columns"
   ]
  },
  {
   "cell_type": "code",
   "execution_count": null,
   "id": "7a534f0e",
   "metadata": {},
   "outputs": [],
   "source": []
  },
  {
   "cell_type": "code",
   "execution_count": 7,
   "id": "d81e6b66",
   "metadata": {},
   "outputs": [
    {
     "data": {
      "text/html": [
       "<div>\n",
       "<style scoped>\n",
       "    .dataframe tbody tr th:only-of-type {\n",
       "        vertical-align: middle;\n",
       "    }\n",
       "\n",
       "    .dataframe tbody tr th {\n",
       "        vertical-align: top;\n",
       "    }\n",
       "\n",
       "    .dataframe thead th {\n",
       "        text-align: right;\n",
       "    }\n",
       "</style>\n",
       "<table border=\"1\" class=\"dataframe\">\n",
       "  <thead>\n",
       "    <tr style=\"text-align: right;\">\n",
       "      <th></th>\n",
       "      <th>mean</th>\n",
       "      <th>count</th>\n",
       "    </tr>\n",
       "    <tr>\n",
       "      <th>PoolQC</th>\n",
       "      <th></th>\n",
       "      <th></th>\n",
       "    </tr>\n",
       "  </thead>\n",
       "  <tbody>\n",
       "    <tr>\n",
       "      <th>Ex</th>\n",
       "      <td>490000.0</td>\n",
       "      <td>2</td>\n",
       "    </tr>\n",
       "    <tr>\n",
       "      <th>Fa</th>\n",
       "      <td>215500.0</td>\n",
       "      <td>2</td>\n",
       "    </tr>\n",
       "    <tr>\n",
       "      <th>Gd</th>\n",
       "      <td>201990.0</td>\n",
       "      <td>3</td>\n",
       "    </tr>\n",
       "  </tbody>\n",
       "</table>\n",
       "</div>"
      ],
      "text/plain": [
       "            mean  count\n",
       "PoolQC                 \n",
       "Ex      490000.0      2\n",
       "Fa      215500.0      2\n",
       "Gd      201990.0      3"
      ]
     },
     "execution_count": 7,
     "metadata": {},
     "output_type": "execute_result"
    }
   ],
   "source": [
    "train.groupby('PoolQC')['SalePrice'].agg(['mean', 'count'])"
   ]
  },
  {
   "cell_type": "code",
   "execution_count": 8,
   "id": "c4e8cd63",
   "metadata": {},
   "outputs": [
    {
     "data": {
      "text/plain": [
       "180404.66345492084"
      ]
     },
     "execution_count": 8,
     "metadata": {},
     "output_type": "execute_result"
    }
   ],
   "source": [
    "train[train['PoolQC'].isna() & ~train['PoolArea'].isna()]['SalePrice'].mean()"
   ]
  },
  {
   "cell_type": "code",
   "execution_count": 9,
   "id": "9f72d68e",
   "metadata": {},
   "outputs": [
    {
     "data": {
      "text/plain": [
       "7"
      ]
     },
     "execution_count": 9,
     "metadata": {},
     "output_type": "execute_result"
    }
   ],
   "source": [
    "(train['PoolArea'] > 0.0).sum()"
   ]
  },
  {
   "cell_type": "markdown",
   "id": "c49cba2e",
   "metadata": {},
   "source": [
    "This feature indicates if house having a pool as well and prices of houses with pool are more expensive then ones without it."
   ]
  },
  {
   "cell_type": "code",
   "execution_count": null,
   "id": "0fbe52c6",
   "metadata": {},
   "outputs": [],
   "source": []
  },
  {
   "cell_type": "code",
   "execution_count": 10,
   "id": "9324261a",
   "metadata": {},
   "outputs": [
    {
     "data": {
      "text/html": [
       "<div>\n",
       "<style scoped>\n",
       "    .dataframe tbody tr th:only-of-type {\n",
       "        vertical-align: middle;\n",
       "    }\n",
       "\n",
       "    .dataframe tbody tr th {\n",
       "        vertical-align: top;\n",
       "    }\n",
       "\n",
       "    .dataframe thead th {\n",
       "        text-align: right;\n",
       "    }\n",
       "</style>\n",
       "<table border=\"1\" class=\"dataframe\">\n",
       "  <thead>\n",
       "    <tr style=\"text-align: right;\">\n",
       "      <th></th>\n",
       "      <th>mean</th>\n",
       "      <th>count</th>\n",
       "    </tr>\n",
       "    <tr>\n",
       "      <th>MiscFeature</th>\n",
       "      <th></th>\n",
       "      <th></th>\n",
       "    </tr>\n",
       "  </thead>\n",
       "  <tbody>\n",
       "    <tr>\n",
       "      <th>Gar2</th>\n",
       "      <td>170750.000000</td>\n",
       "      <td>2</td>\n",
       "    </tr>\n",
       "    <tr>\n",
       "      <th>Othr</th>\n",
       "      <td>94000.000000</td>\n",
       "      <td>2</td>\n",
       "    </tr>\n",
       "    <tr>\n",
       "      <th>Shed</th>\n",
       "      <td>151187.612245</td>\n",
       "      <td>49</td>\n",
       "    </tr>\n",
       "    <tr>\n",
       "      <th>TenC</th>\n",
       "      <td>250000.000000</td>\n",
       "      <td>1</td>\n",
       "    </tr>\n",
       "  </tbody>\n",
       "</table>\n",
       "</div>"
      ],
      "text/plain": [
       "                      mean  count\n",
       "MiscFeature                      \n",
       "Gar2         170750.000000      2\n",
       "Othr          94000.000000      2\n",
       "Shed         151187.612245     49\n",
       "TenC         250000.000000      1"
      ]
     },
     "execution_count": 10,
     "metadata": {},
     "output_type": "execute_result"
    }
   ],
   "source": [
    "train.groupby('MiscFeature')['SalePrice'].agg(['mean', 'count'])"
   ]
  },
  {
   "cell_type": "code",
   "execution_count": 11,
   "id": "5524ad2c",
   "metadata": {},
   "outputs": [
    {
     "data": {
      "text/plain": [
       "182046.41038406827"
      ]
     },
     "execution_count": 11,
     "metadata": {},
     "output_type": "execute_result"
    }
   ],
   "source": [
    "train[train['MiscFeature'].isna()]['SalePrice'].mean()"
   ]
  },
  {
   "cell_type": "code",
   "execution_count": 12,
   "id": "8a222fbc",
   "metadata": {},
   "outputs": [
    {
     "data": {
      "text/html": [
       "<div>\n",
       "<style scoped>\n",
       "    .dataframe tbody tr th:only-of-type {\n",
       "        vertical-align: middle;\n",
       "    }\n",
       "\n",
       "    .dataframe tbody tr th {\n",
       "        vertical-align: top;\n",
       "    }\n",
       "\n",
       "    .dataframe thead th {\n",
       "        text-align: right;\n",
       "    }\n",
       "</style>\n",
       "<table border=\"1\" class=\"dataframe\">\n",
       "  <thead>\n",
       "    <tr style=\"text-align: right;\">\n",
       "      <th></th>\n",
       "      <th>mean</th>\n",
       "      <th>count</th>\n",
       "    </tr>\n",
       "    <tr>\n",
       "      <th>Alley</th>\n",
       "      <th></th>\n",
       "      <th></th>\n",
       "    </tr>\n",
       "  </thead>\n",
       "  <tbody>\n",
       "    <tr>\n",
       "      <th>Grvl</th>\n",
       "      <td>122219.080000</td>\n",
       "      <td>50</td>\n",
       "    </tr>\n",
       "    <tr>\n",
       "      <th>Pave</th>\n",
       "      <td>168000.585366</td>\n",
       "      <td>41</td>\n",
       "    </tr>\n",
       "  </tbody>\n",
       "</table>\n",
       "</div>"
      ],
      "text/plain": [
       "                mean  count\n",
       "Alley                      \n",
       "Grvl   122219.080000     50\n",
       "Pave   168000.585366     41"
      ]
     },
     "execution_count": 12,
     "metadata": {},
     "output_type": "execute_result"
    }
   ],
   "source": [
    "train.groupby('Alley')['SalePrice'].agg(['mean', 'count'])"
   ]
  },
  {
   "cell_type": "code",
   "execution_count": 13,
   "id": "10793126",
   "metadata": {},
   "outputs": [
    {
     "data": {
      "text/plain": [
       "183452.13148283417"
      ]
     },
     "execution_count": 13,
     "metadata": {},
     "output_type": "execute_result"
    }
   ],
   "source": [
    "train[train['Alley'].isna()]['SalePrice'].mean()"
   ]
  },
  {
   "cell_type": "code",
   "execution_count": 14,
   "id": "73d869b7",
   "metadata": {},
   "outputs": [
    {
     "data": {
      "text/html": [
       "<div>\n",
       "<style scoped>\n",
       "    .dataframe tbody tr th:only-of-type {\n",
       "        vertical-align: middle;\n",
       "    }\n",
       "\n",
       "    .dataframe tbody tr th {\n",
       "        vertical-align: top;\n",
       "    }\n",
       "\n",
       "    .dataframe thead th {\n",
       "        text-align: right;\n",
       "    }\n",
       "</style>\n",
       "<table border=\"1\" class=\"dataframe\">\n",
       "  <thead>\n",
       "    <tr style=\"text-align: right;\">\n",
       "      <th></th>\n",
       "      <th>mean</th>\n",
       "      <th>count</th>\n",
       "    </tr>\n",
       "    <tr>\n",
       "      <th>Fence</th>\n",
       "      <th></th>\n",
       "      <th></th>\n",
       "    </tr>\n",
       "  </thead>\n",
       "  <tbody>\n",
       "    <tr>\n",
       "      <th>GdPrv</th>\n",
       "      <td>178927.457627</td>\n",
       "      <td>59</td>\n",
       "    </tr>\n",
       "    <tr>\n",
       "      <th>GdWo</th>\n",
       "      <td>140379.314815</td>\n",
       "      <td>54</td>\n",
       "    </tr>\n",
       "    <tr>\n",
       "      <th>MnPrv</th>\n",
       "      <td>148751.089172</td>\n",
       "      <td>157</td>\n",
       "    </tr>\n",
       "    <tr>\n",
       "      <th>MnWw</th>\n",
       "      <td>134286.363636</td>\n",
       "      <td>11</td>\n",
       "    </tr>\n",
       "  </tbody>\n",
       "</table>\n",
       "</div>"
      ],
      "text/plain": [
       "                mean  count\n",
       "Fence                      \n",
       "GdPrv  178927.457627     59\n",
       "GdWo   140379.314815     54\n",
       "MnPrv  148751.089172    157\n",
       "MnWw   134286.363636     11"
      ]
     },
     "execution_count": 14,
     "metadata": {},
     "output_type": "execute_result"
    }
   ],
   "source": [
    "train.groupby('Fence')['SalePrice'].agg(['mean', 'count'])"
   ]
  },
  {
   "cell_type": "code",
   "execution_count": 15,
   "id": "630cb545",
   "metadata": {},
   "outputs": [
    {
     "data": {
      "text/html": [
       "<div>\n",
       "<style scoped>\n",
       "    .dataframe tbody tr th:only-of-type {\n",
       "        vertical-align: middle;\n",
       "    }\n",
       "\n",
       "    .dataframe tbody tr th {\n",
       "        vertical-align: top;\n",
       "    }\n",
       "\n",
       "    .dataframe thead th {\n",
       "        text-align: right;\n",
       "    }\n",
       "</style>\n",
       "<table border=\"1\" class=\"dataframe\">\n",
       "  <thead>\n",
       "    <tr style=\"text-align: right;\">\n",
       "      <th></th>\n",
       "      <th>mean</th>\n",
       "      <th>count</th>\n",
       "    </tr>\n",
       "    <tr>\n",
       "      <th>FireplaceQu</th>\n",
       "      <th></th>\n",
       "      <th></th>\n",
       "    </tr>\n",
       "  </thead>\n",
       "  <tbody>\n",
       "    <tr>\n",
       "      <th>Ex</th>\n",
       "      <td>337712.500000</td>\n",
       "      <td>24</td>\n",
       "    </tr>\n",
       "    <tr>\n",
       "      <th>Fa</th>\n",
       "      <td>167298.484848</td>\n",
       "      <td>33</td>\n",
       "    </tr>\n",
       "    <tr>\n",
       "      <th>Gd</th>\n",
       "      <td>226351.415789</td>\n",
       "      <td>380</td>\n",
       "    </tr>\n",
       "    <tr>\n",
       "      <th>Po</th>\n",
       "      <td>129764.150000</td>\n",
       "      <td>20</td>\n",
       "    </tr>\n",
       "    <tr>\n",
       "      <th>TA</th>\n",
       "      <td>205723.488818</td>\n",
       "      <td>313</td>\n",
       "    </tr>\n",
       "  </tbody>\n",
       "</table>\n",
       "</div>"
      ],
      "text/plain": [
       "                      mean  count\n",
       "FireplaceQu                      \n",
       "Ex           337712.500000     24\n",
       "Fa           167298.484848     33\n",
       "Gd           226351.415789    380\n",
       "Po           129764.150000     20\n",
       "TA           205723.488818    313"
      ]
     },
     "execution_count": 15,
     "metadata": {},
     "output_type": "execute_result"
    }
   ],
   "source": [
    "train.groupby('FireplaceQu')['SalePrice'].agg(['mean', 'count'])"
   ]
  },
  {
   "cell_type": "markdown",
   "id": "6b2569f6",
   "metadata": {},
   "source": [
    "PoolQC, MiscFeature and Alley are features containing most NaNs overall. But NaNs of these features mean that it is not applicable feature for the specific house and cound easily be filled with string value \"NA\", as well as most categorical features listed above."
   ]
  },
  {
   "cell_type": "markdown",
   "id": "3ca104b5",
   "metadata": {},
   "source": [
    "Lets see how significant is \"LotFrontage\" - the only numeric feature with missing values:"
   ]
  },
  {
   "cell_type": "code",
   "execution_count": 17,
   "id": "e60e776d",
   "metadata": {},
   "outputs": [
    {
     "data": {
      "text/plain": [
       "<matplotlib.collections.PathCollection at 0x149f3e4d0>"
      ]
     },
     "execution_count": 17,
     "metadata": {},
     "output_type": "execute_result"
    },
    {
     "data": {
      "image/png": "[encoded data removed]",
      "text/plain": [
       "<Figure size 640x480 with 1 Axes>"
      ]
     },
     "metadata": {},
     "output_type": "display_data"
    }
   ],
   "source": [
    "plt.scatter(train['LotFrontage'], train['SalePrice'])"
   ]
  },
  {
   "cell_type": "code",
   "execution_count": 18,
   "id": "745ef1e8",
   "metadata": {},
   "outputs": [
    {
     "data": {
      "text/plain": [
       "0.35179909657067815"
      ]
     },
     "execution_count": 18,
     "metadata": {},
     "output_type": "execute_result"
    }
   ],
   "source": [
    "train['LotFrontage'].corr(train['SalePrice'])"
   ]
  },
  {
   "cell_type": "markdown",
   "id": "cb63c13f",
   "metadata": {},
   "source": [
    "We've seen that there is no trends and strong correlation between LotFrontage and SalePrice, so it is possible to get rid of it instead of filling Nans with some values"
   ]
  },
  {
   "cell_type": "code",
   "execution_count": 19,
   "id": "7b145214",
   "metadata": {},
   "outputs": [
    {
     "data": {
      "text/plain": [
       "GarageYrBlt     81\n",
       "GarageFinish    81\n",
       "GarageQual      81\n",
       "GarageCond      81\n",
       "dtype: int64"
      ]
     },
     "execution_count": 19,
     "metadata": {},
     "output_type": "execute_result"
    }
   ],
   "source": [
    "train[train['GarageType'].isna()][['GarageYrBlt', 'GarageFinish', 'GarageQual', 'GarageCond']].isna().sum()"
   ]
  },
  {
   "cell_type": "markdown",
   "id": "1061c37c",
   "metadata": {},
   "source": [
    "All missing values of features which describe garage are missing simultaneously, which means abscence of the garage itself and also could be filled with \"NA\""
   ]
  },
  {
   "cell_type": "code",
   "execution_count": 20,
   "id": "163e5f6d",
   "metadata": {},
   "outputs": [],
   "source": [
    "garage_cols = ['GarageType', 'GarageYrBlt', 'GarageFinish', 'GarageQual', 'GarageCond']"
   ]
  },
  {
   "cell_type": "code",
   "execution_count": null,
   "id": "4bdd72f4",
   "metadata": {},
   "outputs": [],
   "source": []
  },
  {
   "cell_type": "code",
   "execution_count": 21,
   "id": "bc6f0903",
   "metadata": {},
   "outputs": [
    {
     "data": {
      "text/plain": [
       "BsmtFinType2    37\n",
       "BsmtQual        37\n",
       "BsmtCond        37\n",
       "BsmtFinType1    37\n",
       "dtype: int64"
      ]
     },
     "execution_count": 21,
     "metadata": {},
     "output_type": "execute_result"
    }
   ],
   "source": [
    "train[train['BsmtExposure'].isna()][['BsmtFinType2', 'BsmtQual', 'BsmtCond', 'BsmtFinType1']].isna().sum()"
   ]
  },
  {
   "cell_type": "markdown",
   "id": "9043e88d",
   "metadata": {},
   "source": [
    "## Baseline"
   ]
  },
  {
   "cell_type": "markdown",
   "id": "1f6e456b",
   "metadata": {},
   "source": [
    "### Data Preparation"
   ]
  },
  {
   "cell_type": "code",
   "execution_count": 23,
   "id": "610a9427",
   "metadata": {},
   "outputs": [],
   "source": [
    "data_train = train.copy()"
   ]
  },
  {
   "cell_type": "code",
   "execution_count": 24,
   "id": "92b785be",
   "metadata": {},
   "outputs": [],
   "source": [
    "data_train.drop(['Id', 'LotFrontage'], axis=1, inplace=True)"
   ]
  },
  {
   "cell_type": "code",
   "execution_count": 25,
   "id": "134ce566",
   "metadata": {},
   "outputs": [],
   "source": [
    "for col in data_train.columns:\n",
    "    if data_train[col].dtype == 'object':\n",
    "        data_train[col].fillna('NA', inplace=True)"
   ]
  },
  {
   "cell_type": "code",
   "execution_count": 26,
   "id": "74aba007",
   "metadata": {},
   "outputs": [],
   "source": [
    "data_train['GarageYrBlt'].fillna(data_train['YearBuilt'], inplace=True)"
   ]
  },
  {
   "cell_type": "code",
   "execution_count": 27,
   "id": "f21cd61e",
   "metadata": {},
   "outputs": [
    {
     "data": {
      "text/plain": [
       "234     NA\n",
       "529     NA\n",
       "650     NA\n",
       "936     NA\n",
       "973     NA\n",
       "977     NA\n",
       "1243    NA\n",
       "1278    NA\n",
       "Name: MasVnrType, dtype: object"
      ]
     },
     "execution_count": 27,
     "metadata": {},
     "output_type": "execute_result"
    }
   ],
   "source": [
    "data_train[data_train['MasVnrArea'].isna()]['MasVnrType']"
   ]
  },
  {
   "cell_type": "code",
   "execution_count": 28,
   "id": "44cdb154",
   "metadata": {},
   "outputs": [],
   "source": [
    "data_train['MasVnrArea'].fillna(0.0, inplace=True)"
   ]
  },
  {
   "cell_type": "code",
   "execution_count": 29,
   "id": "542a9b42",
   "metadata": {},
   "outputs": [],
   "source": [
    "def data_preprocessing(data_train):\n",
    "    X_train, X_test, y_train, y_test = train_test_split(data_train.drop('SalePrice', axis=1), \n",
    "                                                        data_train['SalePrice'], \n",
    "                                                        test_size=.25, \n",
    "                                                        random_state=42)\n",
    "    cat_features = []\n",
    "    for i, col in enumerate(data_train.columns):\n",
    "        if data_train[col].dtype == 'object':\n",
    "            cat_features.append(col)\n",
    "    ohe = OneHotEncoder(handle_unknown='infrequent_if_exist')\n",
    "    ohe.fit(X_train[cat_features])\n",
    "    cat_features_df = pd.DataFrame(ohe.transform(X_train[cat_features]).toarray(), \n",
    "                                   index=X_train.index, \n",
    "                                   columns=ohe.get_feature_names_out())\n",
    "    X_train.drop(cat_features, axis=1, inplace=True)\n",
    "    X = X_train.join(cat_features_df)\n",
    "    test_cat_features_df = pd.DataFrame(ohe.transform(X_test[cat_features]).toarray(), \n",
    "                                        index=X_test.index, \n",
    "                                        columns=ohe.get_feature_names_out())\n",
    "    X_test.drop(cat_features, axis=1, inplace=True)\n",
    "    X_t = X_test.join(test_cat_features_df)\n",
    "    return X, X_t, y_train, y_test"
   ]
  },
  {
   "cell_type": "code",
   "execution_count": 30,
   "id": "43ff4b50",
   "metadata": {},
   "outputs": [],
   "source": [
    "X_train, X_test, y_train, y_test = data_preprocessing(data_train)"
   ]
  },
  {
   "cell_type": "code",
   "execution_count": 31,
   "id": "95b6819c",
   "metadata": {},
   "outputs": [
    {
     "data": {
      "text/plain": [
       "((1095, 299), (365, 299), (1095,), (365,))"
      ]
     },
     "execution_count": 31,
     "metadata": {},
     "output_type": "execute_result"
    }
   ],
   "source": [
    "X_train.shape, X_test.shape, y_train.shape, y_test.shape"
   ]
  },
  {
   "cell_type": "markdown",
   "id": "7b4119e4",
   "metadata": {},
   "source": [
    "### Baseline Model DecisionTree"
   ]
  },
  {
   "cell_type": "code",
   "execution_count": 32,
   "id": "4e2306a1",
   "metadata": {},
   "outputs": [
    {
     "data": {
      "text/html": [
       "<style>#sk-container-id-1 {color: black;background-color: white;}#sk-container-id-1 pre{padding: 0;}#sk-container-id-1 div.sk-toggleable {background-color: white;}#sk-container-id-1 label.sk-toggleable__label {cursor: pointer;display: block;width: 100%;margin-bottom: 0;padding: 0.3em;box-sizing: border-box;text-align: center;}#sk-container-id-1 label.sk-toggleable__label-arrow:before {content: \"▸\";float: left;margin-right: 0.25em;color: #696969;}#sk-container-id-1 label.sk-toggleable__label-arrow:hover:before {color: black;}#sk-container-id-1 div.sk-estimator:hover label.sk-toggleable__label-arrow:before {color: black;}#sk-container-id-1 div.sk-toggleable__content {max-height: 0;max-width: 0;overflow: hidden;text-align: left;background-color: #f0f8ff;}#sk-container-id-1 div.sk-toggleable__content pre {margin: 0.2em;color: black;border-radius: 0.25em;background-color: #f0f8ff;}#sk-container-id-1 input.sk-toggleable__control:checked~div.sk-toggleable__content {max-height: 200px;max-width: 100%;overflow: auto;}#sk-container-id-1 input.sk-toggleable__control:checked~label.sk-toggleable__label-arrow:before {content: \"▾\";}#sk-container-id-1 div.sk-estimator input.sk-toggleable__control:checked~label.sk-toggleable__label {background-color: #d4ebff;}#sk-container-id-1 div.sk-label input.sk-toggleable__control:checked~label.sk-toggleable__label {background-color: #d4ebff;}#sk-container-id-1 input.sk-hidden--visually {border: 0;clip: rect(1px 1px 1px 1px);clip: rect(1px, 1px, 1px, 1px);height: 1px;margin: -1px;overflow: hidden;padding: 0;position: absolute;width: 1px;}#sk-container-id-1 div.sk-estimator {font-family: monospace;background-color: #f0f8ff;border: 1px dotted black;border-radius: 0.25em;box-sizing: border-box;margin-bottom: 0.5em;}#sk-container-id-1 div.sk-estimator:hover {background-color: #d4ebff;}#sk-container-id-1 div.sk-parallel-item::after {content: \"\";width: 100%;border-bottom: 1px solid gray;flex-grow: 1;}#sk-container-id-1 div.sk-label:hover label.sk-toggleable__label {background-color: #d4ebff;}#sk-container-id-1 div.sk-serial::before {content: \"\";position: absolute;border-left: 1px solid gray;box-sizing: border-box;top: 0;bottom: 0;left: 50%;z-index: 0;}#sk-container-id-1 div.sk-serial {display: flex;flex-direction: column;align-items: center;background-color: white;padding-right: 0.2em;padding-left: 0.2em;position: relative;}#sk-container-id-1 div.sk-item {position: relative;z-index: 1;}#sk-container-id-1 div.sk-parallel {display: flex;align-items: stretch;justify-content: center;background-color: white;position: relative;}#sk-container-id-1 div.sk-item::before, #sk-container-id-1 div.sk-parallel-item::before {content: \"\";position: absolute;border-left: 1px solid gray;box-sizing: border-box;top: 0;bottom: 0;left: 50%;z-index: -1;}#sk-container-id-1 div.sk-parallel-item {display: flex;flex-direction: column;z-index: 1;position: relative;background-color: white;}#sk-container-id-1 div.sk-parallel-item:first-child::after {align-self: flex-end;width: 50%;}#sk-container-id-1 div.sk-parallel-item:last-child::after {align-self: flex-start;width: 50%;}#sk-container-id-1 div.sk-parallel-item:only-child::after {width: 0;}#sk-container-id-1 div.sk-dashed-wrapped {border: 1px dashed gray;margin: 0 0.4em 0.5em 0.4em;box-sizing: border-box;padding-bottom: 0.4em;background-color: white;}#sk-container-id-1 div.sk-label label {font-family: monospace;font-weight: bold;display: inline-block;line-height: 1.2em;}#sk-container-id-1 div.sk-label-container {text-align: center;}#sk-container-id-1 div.sk-container {/* jupyter's `normalize.less` sets `[hidden] { display: none; }` but bootstrap.min.css set `[hidden] { display: none !important; }` so we also need the `!important` here to be able to override the default hidden behavior on the sphinx rendered scikit-learn.org. See: https://github.com/scikit-learn/scikit-learn/issues/21755 */display: inline-block !important;position: relative;}#sk-container-id-1 div.sk-text-repr-fallback {display: none;}</style><div id=\"sk-container-id-1\" class=\"sk-top-container\"><div class=\"sk-text-repr-fallback\"><pre>DecisionTreeRegressor(random_state=42)</pre><b>In a Jupyter environment, please rerun this cell to show the HTML representation or trust the notebook. <br />On GitHub, the HTML representation is unable to render, please try loading this page with nbviewer.org.</b></div><div class=\"sk-container\" hidden><div class=\"sk-item\"><div class=\"sk-estimator sk-toggleable\"><input class=\"sk-toggleable__control sk-hidden--visually\" id=\"sk-estimator-id-1\" type=\"checkbox\" checked><label for=\"sk-estimator-id-1\" class=\"sk-toggleable__label sk-toggleable__label-arrow\">DecisionTreeRegressor</label><div class=\"sk-toggleable__content\"><pre>DecisionTreeRegressor(random_state=42)</pre></div></div></div></div></div>"
      ],
      "text/plain": [
       "DecisionTreeRegressor(random_state=42)"
      ]
     },
     "execution_count": 32,
     "metadata": {},
     "output_type": "execute_result"
    }
   ],
   "source": [
    "model = DecisionTreeRegressor(random_state=42)\n",
    "model.fit(X_train, y_train)"
   ]
  },
  {
   "cell_type": "code",
   "execution_count": 33,
   "id": "d28e0480",
   "metadata": {},
   "outputs": [],
   "source": [
    "preds = model.predict(X_test)"
   ]
  },
  {
   "cell_type": "code",
   "execution_count": 34,
   "id": "0ce885be",
   "metadata": {},
   "outputs": [],
   "source": []
  },
  {
   "cell_type": "code",
   "execution_count": 35,
   "id": "15693ff8",
   "metadata": {},
   "outputs": [
    {
     "data": {
      "text/plain": [
       "38122.47710777562"
      ]
     },
     "execution_count": 35,
     "metadata": {},
     "output_type": "execute_result"
    }
   ],
   "source": [
    "np.sqrt(mean_squared_error(preds, y_test))"
   ]
  },
  {
   "cell_type": "code",
   "execution_count": 36,
   "id": "2f9e07be",
   "metadata": {},
   "outputs": [
    {
     "data": {
      "text/plain": [
       "OverallQual            0.632764\n",
       "GrLivArea              0.107074\n",
       "1stFlrSF               0.038428\n",
       "2ndFlrSF               0.030746\n",
       "TotalBsmtSF            0.027225\n",
       "BsmtFinSF1             0.027128\n",
       "GarageArea             0.011536\n",
       "YearBuilt              0.009848\n",
       "OpenPorchSF            0.007842\n",
       "GarageType_Detchd      0.007826\n",
       "LotArea                0.007778\n",
       "MoSold                 0.007518\n",
       "Functional_Typ         0.004967\n",
       "YearRemodAdd           0.004940\n",
       "OverallCond            0.004839\n",
       "Exterior2nd_MetalSd    0.004726\n",
       "GarageCars             0.004704\n",
       "BedroomAbvGr           0.004381\n",
       "WoodDeckSF             0.004114\n",
       "KitchenQual_Gd         0.003814\n",
       "dtype: float64"
      ]
     },
     "execution_count": 36,
     "metadata": {},
     "output_type": "execute_result"
    }
   ],
   "source": [
    "pd.Series(model.feature_importances_, index=X_train.columns).sort_values(ascending=False).head(20)"
   ]
  },
  {
   "cell_type": "markdown",
   "id": "599e8d70",
   "metadata": {},
   "source": [
    "### RandomForest with 20 most important features"
   ]
  },
  {
   "cell_type": "code",
   "execution_count": 42,
   "id": "024321ce",
   "metadata": {},
   "outputs": [],
   "source": [
    "important_cols = list(pd.Series(model.feature_importances_, index=X_train.columns)\n",
    "                      .sort_values(ascending=False).head(20).index)"
   ]
  },
  {
   "cell_type": "code",
   "execution_count": 39,
   "id": "7d5f0c7c",
   "metadata": {},
   "outputs": [
    {
     "data": {
      "text/html": [
       "<style>#sk-container-id-2 {color: black;background-color: white;}#sk-container-id-2 pre{padding: 0;}#sk-container-id-2 div.sk-toggleable {background-color: white;}#sk-container-id-2 label.sk-toggleable__label {cursor: pointer;display: block;width: 100%;margin-bottom: 0;padding: 0.3em;box-sizing: border-box;text-align: center;}#sk-container-id-2 label.sk-toggleable__label-arrow:before {content: \"▸\";float: left;margin-right: 0.25em;color: #696969;}#sk-container-id-2 label.sk-toggleable__label-arrow:hover:before {color: black;}#sk-container-id-2 div.sk-estimator:hover label.sk-toggleable__label-arrow:before {color: black;}#sk-container-id-2 div.sk-toggleable__content {max-height: 0;max-width: 0;overflow: hidden;text-align: left;background-color: #f0f8ff;}#sk-container-id-2 div.sk-toggleable__content pre {margin: 0.2em;color: black;border-radius: 0.25em;background-color: #f0f8ff;}#sk-container-id-2 input.sk-toggleable__control:checked~div.sk-toggleable__content {max-height: 200px;max-width: 100%;overflow: auto;}#sk-container-id-2 input.sk-toggleable__control:checked~label.sk-toggleable__label-arrow:before {content: \"▾\";}#sk-container-id-2 div.sk-estimator input.sk-toggleable__control:checked~label.sk-toggleable__label {background-color: #d4ebff;}#sk-container-id-2 div.sk-label input.sk-toggleable__control:checked~label.sk-toggleable__label {background-color: #d4ebff;}#sk-container-id-2 input.sk-hidden--visually {border: 0;clip: rect(1px 1px 1px 1px);clip: rect(1px, 1px, 1px, 1px);height: 1px;margin: -1px;overflow: hidden;padding: 0;position: absolute;width: 1px;}#sk-container-id-2 div.sk-estimator {font-family: monospace;background-color: #f0f8ff;border: 1px dotted black;border-radius: 0.25em;box-sizing: border-box;margin-bottom: 0.5em;}#sk-container-id-2 div.sk-estimator:hover {background-color: #d4ebff;}#sk-container-id-2 div.sk-parallel-item::after {content: \"\";width: 100%;border-bottom: 1px solid gray;flex-grow: 1;}#sk-container-id-2 div.sk-label:hover label.sk-toggleable__label {background-color: #d4ebff;}#sk-container-id-2 div.sk-serial::before {content: \"\";position: absolute;border-left: 1px solid gray;box-sizing: border-box;top: 0;bottom: 0;left: 50%;z-index: 0;}#sk-container-id-2 div.sk-serial {display: flex;flex-direction: column;align-items: center;background-color: white;padding-right: 0.2em;padding-left: 0.2em;position: relative;}#sk-container-id-2 div.sk-item {position: relative;z-index: 1;}#sk-container-id-2 div.sk-parallel {display: flex;align-items: stretch;justify-content: center;background-color: white;position: relative;}#sk-container-id-2 div.sk-item::before, #sk-container-id-2 div.sk-parallel-item::before {content: \"\";position: absolute;border-left: 1px solid gray;box-sizing: border-box;top: 0;bottom: 0;left: 50%;z-index: -1;}#sk-container-id-2 div.sk-parallel-item {display: flex;flex-direction: column;z-index: 1;position: relative;background-color: white;}#sk-container-id-2 div.sk-parallel-item:first-child::after {align-self: flex-end;width: 50%;}#sk-container-id-2 div.sk-parallel-item:last-child::after {align-self: flex-start;width: 50%;}#sk-container-id-2 div.sk-parallel-item:only-child::after {width: 0;}#sk-container-id-2 div.sk-dashed-wrapped {border: 1px dashed gray;margin: 0 0.4em 0.5em 0.4em;box-sizing: border-box;padding-bottom: 0.4em;background-color: white;}#sk-container-id-2 div.sk-label label {font-family: monospace;font-weight: bold;display: inline-block;line-height: 1.2em;}#sk-container-id-2 div.sk-label-container {text-align: center;}#sk-container-id-2 div.sk-container {/* jupyter's `normalize.less` sets `[hidden] { display: none; }` but bootstrap.min.css set `[hidden] { display: none !important; }` so we also need the `!important` here to be able to override the default hidden behavior on the sphinx rendered scikit-learn.org. See: https://github.com/scikit-learn/scikit-learn/issues/21755 */display: inline-block !important;position: relative;}#sk-container-id-2 div.sk-text-repr-fallback {display: none;}</style><div id=\"sk-container-id-2\" class=\"sk-top-container\"><div class=\"sk-text-repr-fallback\"><pre>RandomForestRegressor()</pre><b>In a Jupyter environment, please rerun this cell to show the HTML representation or trust the notebook. <br />On GitHub, the HTML representation is unable to render, please try loading this page with nbviewer.org.</b></div><div class=\"sk-container\" hidden><div class=\"sk-item\"><div class=\"sk-estimator sk-toggleable\"><input class=\"sk-toggleable__control sk-hidden--visually\" id=\"sk-estimator-id-2\" type=\"checkbox\" checked><label for=\"sk-estimator-id-2\" class=\"sk-toggleable__label sk-toggleable__label-arrow\">RandomForestRegressor</label><div class=\"sk-toggleable__content\"><pre>RandomForestRegressor()</pre></div></div></div></div></div>"
      ],
      "text/plain": [
       "RandomForestRegressor()"
      ]
     },
     "execution_count": 39,
     "metadata": {},
     "output_type": "execute_result"
    }
   ],
   "source": [
    "rfr = RandomForestRegressor()\n",
    "rfr.fit(X_train[important_cols], y_train)"
   ]
  },
  {
   "cell_type": "code",
   "execution_count": 40,
   "id": "b1c3d83b",
   "metadata": {},
   "outputs": [
    {
     "data": {
      "text/plain": [
       "26573.449857499203"
      ]
     },
     "execution_count": 40,
     "metadata": {},
     "output_type": "execute_result"
    }
   ],
   "source": [
    "np.sqrt(mean_squared_error(rfr.predict(X_test[important_cols]), y_test))"
   ]
  },
  {
   "cell_type": "code",
   "execution_count": null,
   "id": "2e4a5746",
   "metadata": {},
   "outputs": [],
   "source": []
  },
  {
   "cell_type": "markdown",
   "id": "2e205af8",
   "metadata": {},
   "source": [
    "### CatBoostRegressor"
   ]
  },
  {
   "cell_type": "code",
   "execution_count": 46,
   "id": "14764f23",
   "metadata": {},
   "outputs": [],
   "source": [
    "cat_features = []\n",
    "for i, col in enumerate(data_train.columns):\n",
    "    if data_train[col].dtype == 'object':\n",
    "        cat_features.append(col)"
   ]
  },
  {
   "cell_type": "code",
   "execution_count": 47,
   "id": "effc066f",
   "metadata": {},
   "outputs": [],
   "source": [
    "X = data_train.drop('SalePrice', axis=1)\n",
    "y = data_train['SalePrice']"
   ]
  },
  {
   "cell_type": "code",
   "execution_count": 48,
   "id": "0566ca81",
   "metadata": {},
   "outputs": [],
   "source": [
    "X_train, X_test, y_train, y_test = train_test_split(X, y, test_size=.25, random_state=42)"
   ]
  },
  {
   "cell_type": "code",
   "execution_count": null,
   "id": "fc8e3329",
   "metadata": {},
   "outputs": [],
   "source": []
  },
  {
   "cell_type": "code",
   "execution_count": 43,
   "id": "7710b716",
   "metadata": {},
   "outputs": [],
   "source": [
    "from catboost import Pool, CatBoostRegressor"
   ]
  },
  {
   "cell_type": "code",
   "execution_count": 106,
   "id": "d3d8dbc6",
   "metadata": {},
   "outputs": [
    {
     "name": "stderr",
     "output_type": "stream",
     "text": [
      "/opt/homebrew/Caskroom/miniforge/base/envs/py4dp/lib/python3.10/site-packages/catboost/core.py:1411: FutureWarning: iteritems is deprecated and will be removed in a future version. Use .items instead.\n",
      "  self._init_pool(data, label, cat_features, text_features, embedding_features, embedding_features_data, pairs, weight,\n"
     ]
    },
    {
     "name": "stdout",
     "output_type": "stream",
     "text": [
      "0:\tlearn: 73014.8541800\ttotal: 8.18ms\tremaining: 810ms\n",
      "1:\tlearn: 68499.7071394\ttotal: 14.8ms\tremaining: 723ms\n",
      "2:\tlearn: 64681.6973176\ttotal: 21.1ms\tremaining: 683ms\n",
      "3:\tlearn: 60803.1105376\ttotal: 26.9ms\tremaining: 646ms\n",
      "4:\tlearn: 57781.8973788\ttotal: 32.4ms\tremaining: 616ms\n",
      "5:\tlearn: 54482.1688679\ttotal: 38.2ms\tremaining: 598ms\n",
      "6:\tlearn: 51508.5549518\ttotal: 44.7ms\tremaining: 594ms\n",
      "7:\tlearn: 49174.5790191\ttotal: 49.9ms\tremaining: 574ms\n",
      "8:\tlearn: 46845.4305276\ttotal: 54.7ms\tremaining: 553ms\n",
      "9:\tlearn: 44824.6011162\ttotal: 59.5ms\tremaining: 536ms\n",
      "10:\tlearn: 43030.2827568\ttotal: 64.5ms\tremaining: 522ms\n",
      "11:\tlearn: 41318.3796530\ttotal: 69ms\tremaining: 506ms\n",
      "12:\tlearn: 39786.5651363\ttotal: 74.6ms\tremaining: 500ms\n",
      "13:\tlearn: 38393.2113927\ttotal: 79.2ms\tremaining: 486ms\n",
      "14:\tlearn: 37381.1302701\ttotal: 83.7ms\tremaining: 474ms\n",
      "15:\tlearn: 36070.8579910\ttotal: 89.4ms\tremaining: 469ms\n",
      "16:\tlearn: 34915.8093493\ttotal: 93.7ms\tremaining: 458ms\n",
      "17:\tlearn: 33949.3742538\ttotal: 98.6ms\tremaining: 449ms\n",
      "18:\tlearn: 33051.8629865\ttotal: 104ms\tremaining: 443ms\n",
      "19:\tlearn: 32286.2532234\ttotal: 108ms\tremaining: 432ms\n",
      "20:\tlearn: 31524.8194727\ttotal: 113ms\tremaining: 424ms\n",
      "21:\tlearn: 30776.9213214\ttotal: 117ms\tremaining: 416ms\n",
      "22:\tlearn: 30207.3454168\ttotal: 122ms\tremaining: 407ms\n",
      "23:\tlearn: 29526.5989472\ttotal: 126ms\tremaining: 400ms\n",
      "24:\tlearn: 28902.2436919\ttotal: 132ms\tremaining: 395ms\n",
      "25:\tlearn: 28365.1630366\ttotal: 137ms\tremaining: 389ms\n",
      "26:\tlearn: 27869.8507402\ttotal: 141ms\tremaining: 381ms\n",
      "27:\tlearn: 27399.6032557\ttotal: 145ms\tremaining: 374ms\n",
      "28:\tlearn: 26876.9581820\ttotal: 149ms\tremaining: 366ms\n",
      "29:\tlearn: 26271.1296478\ttotal: 154ms\tremaining: 358ms\n",
      "30:\tlearn: 25828.2371388\ttotal: 158ms\tremaining: 351ms\n",
      "31:\tlearn: 25376.8497391\ttotal: 163ms\tremaining: 346ms\n",
      "32:\tlearn: 24957.4720377\ttotal: 167ms\tremaining: 339ms\n",
      "33:\tlearn: 24508.9135820\ttotal: 171ms\tremaining: 333ms\n",
      "34:\tlearn: 24237.4801330\ttotal: 176ms\tremaining: 326ms\n",
      "35:\tlearn: 23934.2258226\ttotal: 180ms\tremaining: 320ms\n",
      "36:\tlearn: 23702.9239203\ttotal: 185ms\tremaining: 314ms\n",
      "37:\tlearn: 23641.5011291\ttotal: 190ms\tremaining: 310ms\n",
      "38:\tlearn: 23347.3036717\ttotal: 194ms\tremaining: 304ms\n",
      "39:\tlearn: 23120.5553972\ttotal: 200ms\tremaining: 300ms\n",
      "40:\tlearn: 22834.9319305\ttotal: 204ms\tremaining: 294ms\n",
      "41:\tlearn: 22561.4978954\ttotal: 210ms\tremaining: 290ms\n",
      "42:\tlearn: 22297.6387715\ttotal: 215ms\tremaining: 285ms\n",
      "43:\tlearn: 22005.1606144\ttotal: 221ms\tremaining: 281ms\n",
      "44:\tlearn: 21810.0944884\ttotal: 225ms\tremaining: 275ms\n",
      "45:\tlearn: 21619.2918116\ttotal: 230ms\tremaining: 269ms\n",
      "46:\tlearn: 21359.2162633\ttotal: 235ms\tremaining: 265ms\n",
      "47:\tlearn: 21136.2291293\ttotal: 240ms\tremaining: 260ms\n",
      "48:\tlearn: 20958.4634667\ttotal: 244ms\tremaining: 254ms\n",
      "49:\tlearn: 20777.2372587\ttotal: 250ms\tremaining: 250ms\n",
      "50:\tlearn: 20666.2673699\ttotal: 254ms\tremaining: 244ms\n",
      "51:\tlearn: 20614.7683604\ttotal: 258ms\tremaining: 238ms\n",
      "52:\tlearn: 20443.7733579\ttotal: 263ms\tremaining: 233ms\n",
      "53:\tlearn: 20295.2755842\ttotal: 268ms\tremaining: 228ms\n",
      "54:\tlearn: 20227.1932348\ttotal: 273ms\tremaining: 223ms\n",
      "55:\tlearn: 20052.9098777\ttotal: 277ms\tremaining: 218ms\n",
      "56:\tlearn: 19957.5446821\ttotal: 282ms\tremaining: 213ms\n",
      "57:\tlearn: 19894.5082603\ttotal: 287ms\tremaining: 208ms\n",
      "58:\tlearn: 19812.2857079\ttotal: 291ms\tremaining: 202ms\n",
      "59:\tlearn: 19677.4794443\ttotal: 296ms\tremaining: 197ms\n",
      "60:\tlearn: 19545.7395563\ttotal: 300ms\tremaining: 192ms\n",
      "61:\tlearn: 19398.0479074\ttotal: 305ms\tremaining: 187ms\n",
      "62:\tlearn: 19270.9187494\ttotal: 310ms\tremaining: 182ms\n",
      "63:\tlearn: 19103.8922086\ttotal: 314ms\tremaining: 177ms\n",
      "64:\tlearn: 18939.8441073\ttotal: 318ms\tremaining: 171ms\n",
      "65:\tlearn: 18900.4678234\ttotal: 323ms\tremaining: 166ms\n",
      "66:\tlearn: 18836.6719909\ttotal: 326ms\tremaining: 161ms\n",
      "67:\tlearn: 18716.6044251\ttotal: 331ms\tremaining: 156ms\n",
      "68:\tlearn: 18550.4449302\ttotal: 336ms\tremaining: 151ms\n",
      "69:\tlearn: 18417.3195966\ttotal: 340ms\tremaining: 146ms\n",
      "70:\tlearn: 18366.8519710\ttotal: 345ms\tremaining: 141ms\n",
      "71:\tlearn: 18283.9333914\ttotal: 349ms\tremaining: 136ms\n",
      "72:\tlearn: 18155.2216851\ttotal: 354ms\tremaining: 131ms\n",
      "73:\tlearn: 18023.1520419\ttotal: 358ms\tremaining: 126ms\n",
      "74:\tlearn: 17923.7318391\ttotal: 363ms\tremaining: 121ms\n",
      "75:\tlearn: 17788.1778365\ttotal: 368ms\tremaining: 116ms\n",
      "76:\tlearn: 17674.8033282\ttotal: 373ms\tremaining: 111ms\n",
      "77:\tlearn: 17592.3542805\ttotal: 377ms\tremaining: 106ms\n",
      "78:\tlearn: 17513.0252227\ttotal: 382ms\tremaining: 101ms\n",
      "79:\tlearn: 17399.1839700\ttotal: 386ms\tremaining: 96.5ms\n",
      "80:\tlearn: 17289.5105316\ttotal: 391ms\tremaining: 91.6ms\n",
      "81:\tlearn: 17215.7707794\ttotal: 395ms\tremaining: 86.7ms\n",
      "82:\tlearn: 17163.3799349\ttotal: 397ms\tremaining: 81.3ms\n",
      "83:\tlearn: 17093.7867148\ttotal: 401ms\tremaining: 76.4ms\n",
      "84:\tlearn: 16993.4463916\ttotal: 406ms\tremaining: 71.7ms\n",
      "85:\tlearn: 16901.8035645\ttotal: 411ms\tremaining: 66.9ms\n",
      "86:\tlearn: 16872.3156851\ttotal: 415ms\tremaining: 62ms\n",
      "87:\tlearn: 16818.7767324\ttotal: 420ms\tremaining: 57.2ms\n",
      "88:\tlearn: 16761.0201387\ttotal: 425ms\tremaining: 52.5ms\n",
      "89:\tlearn: 16712.8267813\ttotal: 430ms\tremaining: 47.7ms\n",
      "90:\tlearn: 16603.0947295\ttotal: 434ms\tremaining: 42.9ms\n",
      "91:\tlearn: 16454.2374846\ttotal: 439ms\tremaining: 38.2ms\n",
      "92:\tlearn: 16396.3266074\ttotal: 444ms\tremaining: 33.4ms\n",
      "93:\tlearn: 16336.1311921\ttotal: 449ms\tremaining: 28.7ms\n",
      "94:\tlearn: 16261.4522163\ttotal: 453ms\tremaining: 23.9ms\n",
      "95:\tlearn: 16190.8666723\ttotal: 458ms\tremaining: 19.1ms\n",
      "96:\tlearn: 16162.8605774\ttotal: 462ms\tremaining: 14.3ms\n",
      "97:\tlearn: 16086.6217925\ttotal: 467ms\tremaining: 9.52ms\n",
      "98:\tlearn: 16058.8045279\ttotal: 472ms\tremaining: 4.76ms\n",
      "99:\tlearn: 15976.7103190\ttotal: 476ms\tremaining: 0us\n"
     ]
    }
   ],
   "source": [
    "# initialize Pool\n",
    "train_pool = Pool(X_train, \n",
    "                  y_train, \n",
    "                  cat_features=cat_features)\n",
    "test_pool = Pool(X_test, \n",
    "                 cat_features=cat_features) \n",
    "\n",
    "# specify the training parameters \n",
    "model = CatBoostRegressor(iterations=100, \n",
    "                          depth=7, \n",
    "                          learning_rate=0.1, \n",
    "                          loss_function='RMSE', \n",
    "                          random_state=42)\n",
    "#train the model\n",
    "model.fit(train_pool)\n",
    "# make the prediction using the resulting model\n",
    "preds = model.predict(test_pool)\n",
    "#print(preds)"
   ]
  },
  {
   "cell_type": "code",
   "execution_count": 107,
   "id": "cae9e35c",
   "metadata": {},
   "outputs": [
    {
     "data": {
      "text/plain": [
       "25815.873850273794"
      ]
     },
     "execution_count": 107,
     "metadata": {},
     "output_type": "execute_result"
    }
   ],
   "source": [
    "np.sqrt(mean_squared_error(preds, y_test))"
   ]
  },
  {
   "cell_type": "markdown",
   "id": "67417a39",
   "metadata": {},
   "source": [
    "### Test Submission"
   ]
  },
  {
   "cell_type": "code",
   "execution_count": null,
   "id": "06692fc3",
   "metadata": {},
   "outputs": [],
   "source": [
    "data_train = train.copy()\n",
    "\n",
    "data_train.drop(['Id', 'LotFrontage'], axis=1, inplace=True)\n",
    "\n",
    "for col in data_train.columns:\n",
    "    if data_train[col].dtype == 'object':\n",
    "        data_train[col].fillna('NA', inplace=True)\n",
    "\n",
    "data_train['GarageYrBlt'].fillna(data_train['YearBuilt'], inplace=True)\n",
    "\n",
    "data_train[data_train['MasVnrArea'].isna()]['MasVnrType']\n",
    "\n",
    "data_train['MasVnrArea'].fillna(0.0, inplace=True)"
   ]
  }
 ],
 "metadata": {
  "kernelspec": {
   "display_name": "Python 3 (ipykernel)",
   "language": "python",
   "name": "python3"
  },
  "language_info": {
   "codemirror_mode": {
    "name": "ipython",
    "version": 3
   },
   "file_extension": ".py",
   "mimetype": "text/x-python",
   "name": "python",
   "nbconvert_exporter": "python",
   "pygments_lexer": "ipython3",
   "version": "3.9.13"
  }
 },
 "nbformat": 4,
 "nbformat_minor": 5
}
