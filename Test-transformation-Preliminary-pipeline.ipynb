{
 "cells": [
  {
   "cell_type": "code",
   "execution_count": 1,
   "id": "0f52a10c",
   "metadata": {},
   "outputs": [],
   "source": [
    "import pandas as pd\n",
    "import matplotlib.pyplot as plt\n",
    "import numpy as np\n",
    "import seaborn as sns\n",
    "pd.set_option('display.max_columns', None)\n"
   ]
  },
  {
   "cell_type": "code",
   "execution_count": 2,
   "id": "c986d57a",
   "metadata": {},
   "outputs": [],
   "source": [
    "pd.set_option('display.max_rows', 100)"
   ]
  },
  {
   "cell_type": "code",
   "execution_count": 3,
   "id": "d50ada35",
   "metadata": {},
   "outputs": [],
   "source": [
    "train = pd.read_csv('test.csv')"
   ]
  },
  {
   "cell_type": "code",
   "execution_count": 4,
   "id": "62d29980",
   "metadata": {},
   "outputs": [],
   "source": [
    "for col in train.columns:\n",
    "    if train[col].dtype == 'object':\n",
    "        train[col].fillna('N_A', inplace=True)\n",
    "    else:\n",
    "        train[col].fillna(0, inplace=True)"
   ]
  },
  {
   "cell_type": "code",
   "execution_count": 5,
   "id": "e23dcd4d",
   "metadata": {},
   "outputs": [],
   "source": [
    "train['yr_since_renovation'] = (train['YrSold'] - train['YearRemodAdd'])"
   ]
  },
  {
   "cell_type": "code",
   "execution_count": 6,
   "id": "6b489e2d",
   "metadata": {},
   "outputs": [],
   "source": [
    "train.loc[(train['Exterior1st'].isin(['AsbShng', 'AsphShn', 'BrkComm', 'CBlock'])), 'Exterior1st'] = 'Lvl_1'\n",
    "train.loc[(train['Exterior1st'].isin(['HdBoard', 'MetalSd', 'Plywood', 'Stucco', 'Wd Sdng', 'WdShing'])), 'Exterior1st'] = 'Lvl_2'\n",
    "train.loc[(train['Exterior1st'].isin(['VinylSd', 'BrkFace', 'CemntBd', 'Stone', 'ImStucc'])), 'Exterior1st'] = 'Lvl_3'"
   ]
  },
  {
   "cell_type": "code",
   "execution_count": 7,
   "id": "52b225d8",
   "metadata": {},
   "outputs": [],
   "source": [
    "train.loc[(train['MasVnrType'].isin(['BrkFace', 'NA'])), 'MasVnrType'] = 'Lvl_2'\n",
    "train.loc[(train['MasVnrType'].isin(['BrkCmn', 'None'])), 'MasVnrType'] = 'Lvl_1'\n",
    "train.loc[(train['MasVnrType'].isin(['Stone'])), 'MasVnrType'] = 'Lvl_3'"
   ]
  },
  {
   "cell_type": "code",
   "execution_count": 8,
   "id": "85a67b81",
   "metadata": {},
   "outputs": [],
   "source": [
    "train.loc[(train['MasVnrArea'] == 0), 'MasVnrArea'] = 0\n",
    "train.loc[(train['MasVnrArea'] > 0), 'MasVnrArea'] = 1"
   ]
  },
  {
   "cell_type": "code",
   "execution_count": 9,
   "id": "744d3c92",
   "metadata": {},
   "outputs": [],
   "source": [
    "train.loc[(train['ExterQual'].isin(['Fa', 'TA'])), 'ExterQual'] = 0\n",
    "train.loc[(train['ExterQual'].isin(['Ex', 'Gd'])), 'ExterQual'] = 1"
   ]
  },
  {
   "cell_type": "code",
   "execution_count": 10,
   "id": "22f568d5",
   "metadata": {},
   "outputs": [],
   "source": [
    "train.loc[(train['ExterCond'].isin(['Fa', 'Po'])), 'ExterCond'] = 0\n",
    "train.loc[(train['ExterCond'].isin(['Ex', 'Gd', 'TA'])), 'ExterCond'] = 1"
   ]
  },
  {
   "cell_type": "code",
   "execution_count": 11,
   "id": "cd8e7da7",
   "metadata": {},
   "outputs": [],
   "source": [
    "train.loc[(~train['Foundation'].isin(['PConc'])), 'Foundation'] = 0\n",
    "train.loc[(train['Foundation'].isin(['PConc'])), 'Foundation'] = 1"
   ]
  },
  {
   "cell_type": "code",
   "execution_count": 12,
   "id": "64694817",
   "metadata": {},
   "outputs": [],
   "source": [
    "train.loc[(train['BsmtQual'].isin(['Gd', 'Ex'])), 'BsmtQual'] = 1\n",
    "train.loc[(train['BsmtQual'].isin(['Fa', 'NA', 'TA'])), 'BsmtQual'] = 0"
   ]
  },
  {
   "cell_type": "code",
   "execution_count": 13,
   "id": "d4bd1963",
   "metadata": {},
   "outputs": [],
   "source": [
    "train.loc[(train['BsmtCond'].isin(['Gd', 'TA'])), 'BsmtCond'] = 1\n",
    "train.loc[(train['BsmtCond'].isin(['Fa', 'NA', 'Po'])), 'BsmtCond'] = 0"
   ]
  },
  {
   "cell_type": "code",
   "execution_count": 14,
   "id": "89490936",
   "metadata": {},
   "outputs": [],
   "source": [
    "train.loc[(train['BsmtExposure'].isin(['Gd', 'Av', 'Mn'])), 'BsmtExposure'] = 1\n",
    "train.loc[(train['BsmtExposure'].isin(['NA', 'No'])), 'BsmtExposure'] = 0"
   ]
  },
  {
   "cell_type": "code",
   "execution_count": 15,
   "id": "8eaf1b02",
   "metadata": {},
   "outputs": [],
   "source": [
    "train.loc[(train['HeatingQC'].isin(['Ex'])), 'HeatingQC'] = 1\n",
    "train.loc[(train['HeatingQC'].isin(['Fa', 'Gd', 'Po', 'TA'])), 'HeatingQC'] = 0"
   ]
  },
  {
   "cell_type": "code",
   "execution_count": 16,
   "id": "90a7cd93",
   "metadata": {},
   "outputs": [],
   "source": [
    "train.loc[(~train['Electrical'].isin(['SBrkr', 'NA'])), 'Electrical'] = 0\n",
    "train.loc[(train['Electrical'].isin(['SBrkr', 'NA'])), 'Electrical'] = 1"
   ]
  },
  {
   "cell_type": "code",
   "execution_count": 17,
   "id": "196f9cd8",
   "metadata": {},
   "outputs": [],
   "source": [
    "train.loc[(train['BsmtFullBath'] > 0), 'BsmtFullBath'] = 1"
   ]
  },
  {
   "cell_type": "code",
   "execution_count": 18,
   "id": "19a32307",
   "metadata": {},
   "outputs": [],
   "source": [
    "train.loc[(train['FullBath'] <= 1), 'FullBath'] = 1\n",
    "train.loc[(train['FullBath'] > 1), 'FullBath'] = 2"
   ]
  },
  {
   "cell_type": "code",
   "execution_count": 19,
   "id": "6c388011",
   "metadata": {},
   "outputs": [],
   "source": [
    "train.loc[(train['Fireplaces'] >= 1), 'Fireplaces'] = 1"
   ]
  },
  {
   "cell_type": "code",
   "execution_count": 20,
   "id": "6d19eb4b",
   "metadata": {},
   "outputs": [],
   "source": [
    "train.loc[(train['FireplaceQu'].isin(['Gd', 'TA'])), 'FireplaceQu'] = 'Gd'\n",
    "train.loc[(train['FireplaceQu'].isin(['Fa', 'NA', 'Po'])), 'FireplaceQu'] = 'Low'"
   ]
  },
  {
   "cell_type": "code",
   "execution_count": 21,
   "id": "e6bdbddc",
   "metadata": {},
   "outputs": [],
   "source": [
    "train.drop('Id', axis=1, inplace=True)"
   ]
  },
  {
   "cell_type": "code",
   "execution_count": 22,
   "id": "cbb52eb5",
   "metadata": {},
   "outputs": [],
   "source": [
    "train.drop('LotFrontage', axis=1, inplace=True)"
   ]
  },
  {
   "cell_type": "code",
   "execution_count": 23,
   "id": "8b866b0b",
   "metadata": {},
   "outputs": [],
   "source": [
    "n_sorted = ['MeadowV', 'BrDale', 'IDOTRR', 'OldTown', 'Edwards', 'BrkSide',\n",
    "       'Sawyer', 'Blueste', 'SWISU', 'NAmes', 'NPkVill', 'Mitchel', 'SawyerW',\n",
    "       'Gilbert', 'NWAmes', 'Blmngtn', 'CollgCr', 'ClearCr', 'Crawfor',\n",
    "       'Veenker', 'Timber', 'Somerst', 'StoneBr', 'NoRidge', 'NridgHt']"
   ]
  },
  {
   "cell_type": "code",
   "execution_count": 24,
   "id": "a69e72e4",
   "metadata": {},
   "outputs": [],
   "source": [
    "for i, n in enumerate(n_sorted):\n",
    "    train.loc[train['Neighborhood'] == n, 'neighborhoods_ordinal'] = int(i+1)"
   ]
  },
  {
   "cell_type": "code",
   "execution_count": 25,
   "id": "532099ad",
   "metadata": {},
   "outputs": [],
   "source": [
    "train.drop('Neighborhood', axis=1, inplace=True)"
   ]
  },
  {
   "cell_type": "code",
   "execution_count": 26,
   "id": "a5a75392",
   "metadata": {},
   "outputs": [],
   "source": [
    "train['neighborhoods_ordinal'] = train['neighborhoods_ordinal'].astype('int')"
   ]
  },
  {
   "cell_type": "code",
   "execution_count": 27,
   "id": "1975618d",
   "metadata": {},
   "outputs": [],
   "source": [
    "train.to_csv('test_processed.csv', index=False)"
   ]
  },
  {
   "cell_type": "code",
   "execution_count": null,
   "id": "3a1b91bd",
   "metadata": {},
   "outputs": [],
   "source": []
  }
 ],
 "metadata": {
  "kernelspec": {
   "display_name": "Python 3 (ipykernel)",
   "language": "python",
   "name": "python3"
  },
  "language_info": {
   "codemirror_mode": {
    "name": "ipython",
    "version": 3
   },
   "file_extension": ".py",
   "mimetype": "text/x-python",
   "name": "python",
   "nbconvert_exporter": "python",
   "pygments_lexer": "ipython3",
   "version": "3.10.8"
  }
 },
 "nbformat": 4,
 "nbformat_minor": 5
}
