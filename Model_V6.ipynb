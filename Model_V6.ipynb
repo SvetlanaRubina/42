{
 "cells": [
  {
   "cell_type": "code",
   "execution_count": 1,
   "id": "df7e9b33",
   "metadata": {},
   "outputs": [],
   "source": [
    "import pandas as pd\n",
    "import matplotlib.pyplot as plt\n",
    "import numpy as np\n",
    "import seaborn as sns\n",
    "pd.set_option('display.max_columns', None)"
   ]
  },
  {
   "cell_type": "code",
   "execution_count": 2,
   "id": "56c5937b",
   "metadata": {},
   "outputs": [],
   "source": [
    "pd.set_option('display.max_rows', 100)"
   ]
  },
  {
   "cell_type": "code",
   "execution_count": 3,
   "id": "08b2948b",
   "metadata": {},
   "outputs": [],
   "source": [
    "train = pd.read_csv('train.csv')"
   ]
  },
  {
   "cell_type": "markdown",
   "id": "0868b069",
   "metadata": {},
   "source": [
    "Drop outliers:"
   ]
  },
  {
   "cell_type": "code",
   "execution_count": 4,
   "id": "8c23579a",
   "metadata": {},
   "outputs": [],
   "source": [
    "out_index = train[(train.GrLivArea > 4000) & (train.SalePrice < 200000)].index"
   ]
  },
  {
   "cell_type": "code",
   "execution_count": 5,
   "id": "b778f2ea",
   "metadata": {},
   "outputs": [],
   "source": [
    "train.drop(out_index, axis=0, inplace=True)"
   ]
  },
  {
   "cell_type": "code",
   "execution_count": null,
   "id": "fb304ffb",
   "metadata": {},
   "outputs": [],
   "source": []
  },
  {
   "cell_type": "code",
   "execution_count": 6,
   "id": "70288bf0",
   "metadata": {},
   "outputs": [],
   "source": [
    "#train = train[train['GrLivArea'] <= 4000]\n",
    "train.loc[train['LotArea'] > 30000, 'LotArea'] = 30000"
   ]
  },
  {
   "cell_type": "markdown",
   "id": "3879f801",
   "metadata": {},
   "source": [
    "Fill missing values according to logic that NaN represent abscence of the particular feature in the house"
   ]
  },
  {
   "cell_type": "code",
   "execution_count": 7,
   "id": "5b4693c2",
   "metadata": {},
   "outputs": [],
   "source": [
    "for col in train.columns:\n",
    "    if train[col].dtype == 'object':\n",
    "        train[col].fillna('N_A', inplace=True)\n",
    "    else:\n",
    "        train[col].fillna(0, inplace=True)"
   ]
  },
  {
   "cell_type": "code",
   "execution_count": 8,
   "id": "d885dbb7",
   "metadata": {},
   "outputs": [],
   "source": [
    "mapping = {'N_A': 0, \n",
    "           'Po': 1, \n",
    "           'Fa': 2, \n",
    "           'TA': 3, \n",
    "           'Gd': 4, \n",
    "           'Ex': 5}"
   ]
  },
  {
   "cell_type": "code",
   "execution_count": 9,
   "id": "2979bab0",
   "metadata": {},
   "outputs": [],
   "source": [
    "for col in train.columns:\n",
    "    if train[col].unique().any() in ['TA', 'Gd', 'Fa', 'Po', 'Ex']:\n",
    "        train[col] = train[col].map(mapping)"
   ]
  },
  {
   "cell_type": "code",
   "execution_count": 10,
   "id": "92e62223",
   "metadata": {},
   "outputs": [],
   "source": [
    "train['FireplaceQu'] = train['FireplaceQu'].map(mapping)"
   ]
  },
  {
   "cell_type": "markdown",
   "id": "7ec17bef",
   "metadata": {},
   "source": [
    "Generated feature - years scince renovation:"
   ]
  },
  {
   "cell_type": "code",
   "execution_count": 11,
   "id": "448dd39d",
   "metadata": {},
   "outputs": [],
   "source": [
    "train['yr_since_renovation'] = (train['YrSold'] - train['YearRemodAdd'])"
   ]
  },
  {
   "cell_type": "markdown",
   "id": "8a07099e",
   "metadata": {},
   "source": [
    "Keep only residential properties"
   ]
  },
  {
   "cell_type": "markdown",
   "id": "acd2af26",
   "metadata": {},
   "source": [
    "Cathegories transformation:"
   ]
  },
  {
   "cell_type": "raw",
   "id": "af267b5f",
   "metadata": {},
   "source": [
    "train.loc[(train['Exterior1st'].isin(['AsbShng', 'AsphShn', 'BrkComm', 'CBlock'])), 'Exterior1st'] = 'Lvl_1'\n",
    "train.loc[(train['Exterior1st'].isin(['HdBoard', 'MetalSd', 'Plywood', 'Stucco', 'Wd Sdng', 'WdShing'])), 'Exterior1st'] = 'Lvl_2'\n",
    "train.loc[(train['Exterior1st'].isin(['VinylSd', 'BrkFace', 'CemntBd', 'Stone', 'ImStucc'])), 'Exterior1st'] = 'Lvl_3'"
   ]
  },
  {
   "cell_type": "raw",
   "id": "adef0570",
   "metadata": {},
   "source": [
    "train.loc[(train['MasVnrType'].isin(['BrkFace', 'N_A'])), 'MasVnrType'] = 'Lvl_2'\n",
    "train.loc[(train['MasVnrType'].isin(['BrkCmn', 'None'])), 'MasVnrType'] = 'Lvl_1'\n",
    "train.loc[(train['MasVnrType'].isin(['Stone'])), 'MasVnrType'] = 'Lvl_3'"
   ]
  },
  {
   "cell_type": "raw",
   "id": "dcd2c5fe",
   "metadata": {},
   "source": [
    "train.loc[(~train['Foundation'].isin(['PConc'])), 'Foundation'] = 0\n",
    "train.loc[(train['Foundation'].isin(['PConc'])), 'Foundation'] = 1\n",
    "train['Foundation'] = train['Foundation'].astype('bool')"
   ]
  },
  {
   "cell_type": "raw",
   "id": "a4bdf510",
   "metadata": {},
   "source": [
    "train.loc[(train['BsmtExposure'].isin(['Gd', 'Av', 'Mn'])), 'BsmtExposure'] = 1\n",
    "train.loc[(train['BsmtExposure'].isin(['N_A', 'No'])), 'BsmtExposure'] = 0\n",
    "train['BsmtExposure'] = train['BsmtExposure'].astype('bool')"
   ]
  },
  {
   "cell_type": "raw",
   "id": "aa81327a",
   "metadata": {},
   "source": [
    "train.loc[(~train['Electrical'].isin(['SBrkr', 'N_A'])), 'Electrical'] = 0\n",
    "train.loc[(train['Electrical'].isin(['SBrkr', 'N_A'])), 'Electrical'] = 1\n",
    "train['Electrical'] = train['Electrical'].astype('bool')"
   ]
  },
  {
   "cell_type": "code",
   "execution_count": 12,
   "id": "9231a992",
   "metadata": {},
   "outputs": [],
   "source": [
    "train['AreaQual'] = train['GrLivArea'] * train['OverallQual'] * train['OverallCond']\n",
    "train['FireplaceQual'] = train['Fireplaces'] * train['FireplaceQu']\n",
    "train['Bath'] = train['FullBath'] + 0.5 * train['HalfBath']\n",
    "train['BsmtQuCondSF'] = train['TotalBsmtSF'] * train['BsmtCond'] * train['BsmtQual']\n",
    "train['DeckPorchSF'] = train[['WoodDeckSF', 'OpenPorchSF', 'EnclosedPorch', '3SsnPorch', 'ScreenPorch']].sum(axis=1)\n",
    "train['TotalLivingSF'] = train['1stFlrSF'] + train['2ndFlrSF']\n",
    "train['BsmtBath'] = train['BsmtFullBath'] + 0.5 * train['BsmtHalfBath']\n",
    "train['ExterQC'] = train['ExterQual'] + train['ExterCond']\n",
    "train['KitchenQC'] = train['KitchenAbvGr'] * train['KitchenQual']\n",
    "train['HouseAge'] = train['YrSold'] - train['YearBuilt']"
   ]
  },
  {
   "cell_type": "code",
   "execution_count": 13,
   "id": "41da3c72",
   "metadata": {},
   "outputs": [],
   "source": [
    "train['Finished'] = train['yr_since_renovation'].apply(lambda x: 1 if x > 0 else 0)"
   ]
  },
  {
   "cell_type": "code",
   "execution_count": 14,
   "id": "7099381a",
   "metadata": {},
   "outputs": [],
   "source": [
    "train['GarageQu'] = train['GarageQual'] * train['GarageArea'] * train['GarageCond']"
   ]
  },
  {
   "cell_type": "markdown",
   "id": "89edcaec",
   "metadata": {},
   "source": [
    "Drop unnecessaries"
   ]
  },
  {
   "cell_type": "code",
   "execution_count": 15,
   "id": "a634b0d2",
   "metadata": {},
   "outputs": [],
   "source": [
    "train.drop(['MSSubClass', 'MSZoning'], axis=1, inplace=True)"
   ]
  },
  {
   "cell_type": "code",
   "execution_count": 16,
   "id": "339049bb",
   "metadata": {},
   "outputs": [],
   "source": [
    "train.drop('Id', axis=1, inplace=True)"
   ]
  },
  {
   "cell_type": "code",
   "execution_count": 17,
   "id": "4f076173",
   "metadata": {},
   "outputs": [],
   "source": [
    "train.drop('LotFrontage', axis=1, inplace=True)"
   ]
  },
  {
   "cell_type": "code",
   "execution_count": null,
   "id": "16006b40",
   "metadata": {},
   "outputs": [],
   "source": []
  },
  {
   "cell_type": "code",
   "execution_count": null,
   "id": "63f2da95",
   "metadata": {},
   "outputs": [],
   "source": []
  },
  {
   "cell_type": "code",
   "execution_count": 18,
   "id": "357dfc21",
   "metadata": {},
   "outputs": [],
   "source": [
    "#train['AreaQual'] = np.log(train['AreaQual'])\n",
    "#train['SalePrice'] = np.log(train['SalePrice'])"
   ]
  },
  {
   "cell_type": "code",
   "execution_count": null,
   "id": "fb65aa36",
   "metadata": {},
   "outputs": [],
   "source": []
  },
  {
   "cell_type": "markdown",
   "id": "852f1806",
   "metadata": {},
   "source": [
    "Transformation into ordinal feature:"
   ]
  },
  {
   "cell_type": "code",
   "execution_count": 19,
   "id": "cc3cbb07",
   "metadata": {},
   "outputs": [],
   "source": [
    "neighborhoods = (train.groupby('Neighborhood')['SalePrice']\n",
    "                 .agg(['mean', 'median', 'count'])\n",
    "                 .sort_values(by='median', ascending=False))"
   ]
  },
  {
   "cell_type": "code",
   "execution_count": 20,
   "id": "d72a1f34",
   "metadata": {},
   "outputs": [],
   "source": [
    "n_sorted = neighborhoods.sort_values(by='median').index"
   ]
  },
  {
   "cell_type": "code",
   "execution_count": 21,
   "id": "e9a95f14",
   "metadata": {},
   "outputs": [],
   "source": [
    "for i, n in enumerate(n_sorted):\n",
    "    train.loc[train['Neighborhood'] == n, 'neighborhoods_ordinal'] = int(i+1)"
   ]
  },
  {
   "cell_type": "code",
   "execution_count": 22,
   "id": "084912d0",
   "metadata": {},
   "outputs": [],
   "source": [
    "train.drop('Neighborhood', axis=1, inplace=True)"
   ]
  },
  {
   "cell_type": "code",
   "execution_count": null,
   "id": "7573af7f",
   "metadata": {},
   "outputs": [],
   "source": []
  },
  {
   "cell_type": "raw",
   "id": "81d98d63",
   "metadata": {},
   "source": [
    "train.drop([\n",
    "    #'BsmtUnfSF',\n",
    "    #'BsmtFinType1',\n",
    "    #'BsmtFinSF2', \n",
    "    #'BsmtFinSF1',\n",
    "    #'GarageYrBlt',\n",
    "    #'BsmtFinType2',\n",
    "    #'OverallCond',\n",
    "    #'TotalBsmtSF', \n",
    "    #'BsmtCond', \n",
    "    #'BsmtQual',\n",
    "    'YrSold',                    \n",
    "    'YearBuilt', \n",
    "    #'GarageCars', \n",
    "    'YearRemodAdd', \n",
    "    #'OverallQual', \n",
    "    #'GrLivArea',           \n",
    "    #'Fireplaces', \n",
    "    #'FireplaceQu', \n",
    "    #'FullBath', \n",
    "    #'HalfBath', \n",
    "    #'GarageQual', \n",
    "    #'GarageArea', \n",
    "    #'WoodDeckSF', \n",
    "    #'OpenPorchSF', \n",
    "    #'EnclosedPorch', \n",
    "    '3SsnPorch', \n",
    "    #'ScreenPorch',\n",
    "    'Street', \n",
    "    'Utilities', \n",
    "    #'LandSlope', \n",
    "    #'Functional', \n",
    "    'PoolArea', \n",
    "    'PoolQC', \n",
    "    '1stFlrSF', \n",
    "    '2ndFlrSF',\n",
    "    #'BsmtFullBath', \n",
    "    'BsmtHalfBath', \n",
    "    #'GarageCond', \n",
    "    #'ExterQual', \n",
    "    #'ExterCond', \n",
    "    'KitchenAbvGr', \n",
    "    #'KitchenQual', \n",
    "    #'MoSold', \n",
    "    'LowQualFinSF', \n",
    "    'Condition2', \n",
    "    #'RoofMatl', \n",
    "    'MiscFeature', \n",
    "    'MiscVal', \n",
    "    #'BedroomAbvGr', \n",
    "    #'Exterior1st', \n",
    "    #'Exterior2nd', \n",
    "    'Heating', \n",
    "    'Electrical', \n",
    "    'Alley', \n",
    "    #'MasVnrArea', \n",
    "    #'LotShape', \n",
    "    #'RoofStyle', \n",
    "    #'HouseStyle', \n",
    "    #'DeckPorchSF', \n",
    "    #'PavedDrive', \n",
    "    'LandContour',\n",
    "    \n",
    "    \n",
    "    \n",
    "], axis=1, inplace=True)"
   ]
  },
  {
   "cell_type": "code",
   "execution_count": 23,
   "id": "d93ed515",
   "metadata": {},
   "outputs": [
    {
     "name": "stderr",
     "output_type": "stream",
     "text": [
      "/var/folders/5j/zxljzwc916b6zz6z50f_wy740000gn/T/ipykernel_6960/3372031453.py:1: FutureWarning: The default value of numeric_only in DataFrame.skew is deprecated. In a future version, it will default to False. In addition, specifying 'numeric_only=None' is deprecated. Select only valid columns or specify the value of numeric_only to silence this warning.\n",
      "  skewness = train.skew().sort_values(ascending=False)\n"
     ]
    },
    {
     "data": {
      "text/plain": [
       "MiscVal          24.460085\n",
       "PoolArea         15.948945\n",
       "3SsnPorch        10.297106\n",
       "LowQualFinSF      9.004955\n",
       "KitchenAbvGr      4.484883\n",
       "BsmtFinSF2        4.251925\n",
       "ScreenPorch       4.118929\n",
       "BsmtHalfBath      4.100114\n",
       "EnclosedPorch     3.087164\n",
       "MasVnrArea        2.696329\n",
       "OpenPorchSF       2.339829\n",
       "AreaQual          2.240765\n",
       "SalePrice         1.881296\n",
       "LotArea           1.638061\n",
       "WoodDeckSF        1.545805\n",
       "ExterCond         1.395464\n",
       "KitchenQC         1.286082\n",
       "BsmtQuCondSF      1.174327\n",
       "DeckPorchSF       1.104405\n",
       "GrLivArea         1.010992\n",
       "TotalLivingSF     0.957325\n",
       "BsmtUnfSF         0.920903\n",
       "1stFlrSF          0.887637\n",
       "FireplaceQual     0.861493\n",
       "ExterQual         0.820047\n",
       "2ndFlrSF          0.812957\n",
       "BsmtFinSF1        0.764789\n",
       "BsmtQual         -1.294561\n",
       "Finished         -2.994033\n",
       "GarageQual       -3.225777\n",
       "GarageCond       -3.329037\n",
       "BsmtCond         -3.698126\n",
       "GarageYrBlt      -3.866380\n",
       "dtype: float64"
      ]
     },
     "execution_count": 23,
     "metadata": {},
     "output_type": "execute_result"
    }
   ],
   "source": [
    "skewness = train.skew().sort_values(ascending=False)\n",
    "skewness[abs(skewness) > 0.75]"
   ]
  },
  {
   "cell_type": "code",
   "execution_count": 24,
   "id": "8276baad",
   "metadata": {},
   "outputs": [],
   "source": [
    "skewed_cols = list(skewness[abs(skewness) > 0.5].index)\n",
    "\n",
    "# Remove 'MSSubClass' and 'SalePrice'\n",
    "skewed_cols = [\n",
    "    col for col in skewed_cols if col not in ['SalePrice']\n",
    "]\n",
    "\n",
    "# Log-transform skewed columns\n",
    "for col in skewed_cols:\n",
    "    train[col] = np.log(1 + train[col])"
   ]
  },
  {
   "cell_type": "raw",
   "id": "77d3b296",
   "metadata": {},
   "source": [
    "pos_skewed_cols = list(skewness[skewness > 0.5].index)\n",
    "neg_skewed_cols = list(skewness[skewness < -0.5].index)\n",
    "# Remove 'MSSubClass' and 'SalePrice'\n",
    "pos_skewed_cols = [\n",
    "    col for col in pos_skewed_cols if col not in ['SalePrice']\n",
    "]\n",
    "\n",
    "# Log-transform skewed columns\n",
    "for col in pos_skewed_cols:\n",
    "    train[col] = np.log(1 + train[col])\n",
    "for col in neg_skewed_cols:\n",
    "    train[col] = np.sqrt(train[col])"
   ]
  },
  {
   "cell_type": "raw",
   "id": "6f99e53b",
   "metadata": {
    "scrolled": true
   },
   "source": [
    "for col in list(train.columns):\n",
    "    sns.scatterplot(x='AreaQual', y='SalePrice', hue=col, s=15, data=train)\n",
    "    plt.show()"
   ]
  },
  {
   "cell_type": "raw",
   "id": "71826cb7",
   "metadata": {},
   "source": [
    "for col in list(train.columns):\n",
    "    sns.scatterplot(x=col, y='SalePrice', s=15, data=train.sort_values(by='SalePrice'))\n",
    "    plt.show()"
   ]
  },
  {
   "cell_type": "raw",
   "id": "eecc6692",
   "metadata": {},
   "source": [
    "for col in train.columns:\n",
    "    if train[col].dtype == 'float64':\n",
    "        train[col] = train[col].astype('int')"
   ]
  },
  {
   "cell_type": "code",
   "execution_count": 25,
   "id": "1efe798c",
   "metadata": {},
   "outputs": [],
   "source": [
    "#train['AreaQual'] = np.log(train['AreaQual'])\n",
    "#train['DeckPorchSF'] = np.log(train['DeckPorchSF'])\n",
    "#train['TotalLivingSF'] = np.log(train['TotalLivingSF'])\n",
    "#train['SalePrice'] = np.log(train['SalePrice'])"
   ]
  },
  {
   "cell_type": "code",
   "execution_count": 26,
   "id": "0e2caba5",
   "metadata": {},
   "outputs": [
    {
     "name": "stderr",
     "output_type": "stream",
     "text": [
      "/var/folders/5j/zxljzwc916b6zz6z50f_wy740000gn/T/ipykernel_6960/1631727080.py:3: UserWarning: To output multiple subplots, the figure containing the passed axes is being cleared.\n",
      "  train.hist(ax = ax, bins=30)\n"
     ]
    },
    {
     "data": {
      "image/png": "[encoded data removed]",
      "text/plain": [
       "<Figure size 1500x2000 with 64 Axes>"
      ]
     },
     "metadata": {},
     "output_type": "display_data"
    }
   ],
   "source": [
    "fig = plt.figure(figsize = (15,20))\n",
    "ax = fig.gca()\n",
    "train.hist(ax = ax, bins=30)\n",
    "plt.show()"
   ]
  },
  {
   "cell_type": "code",
   "execution_count": 27,
   "id": "d78e2a36",
   "metadata": {},
   "outputs": [
    {
     "data": {
      "text/html": [
       "<div>\n",
       "<style scoped>\n",
       "    .dataframe tbody tr th:only-of-type {\n",
       "        vertical-align: middle;\n",
       "    }\n",
       "\n",
       "    .dataframe tbody tr th {\n",
       "        vertical-align: top;\n",
       "    }\n",
       "\n",
       "    .dataframe thead th {\n",
       "        text-align: right;\n",
       "    }\n",
       "</style>\n",
       "<table border=\"1\" class=\"dataframe\">\n",
       "  <thead>\n",
       "    <tr style=\"text-align: right;\">\n",
       "      <th></th>\n",
       "      <th>LotArea</th>\n",
       "      <th>Street</th>\n",
       "      <th>Alley</th>\n",
       "      <th>LotShape</th>\n",
       "      <th>LandContour</th>\n",
       "      <th>Utilities</th>\n",
       "      <th>LotConfig</th>\n",
       "      <th>LandSlope</th>\n",
       "      <th>Condition1</th>\n",
       "      <th>Condition2</th>\n",
       "      <th>BldgType</th>\n",
       "      <th>HouseStyle</th>\n",
       "      <th>OverallQual</th>\n",
       "      <th>OverallCond</th>\n",
       "      <th>YearBuilt</th>\n",
       "      <th>YearRemodAdd</th>\n",
       "      <th>RoofStyle</th>\n",
       "      <th>RoofMatl</th>\n",
       "      <th>Exterior1st</th>\n",
       "      <th>Exterior2nd</th>\n",
       "      <th>MasVnrType</th>\n",
       "      <th>MasVnrArea</th>\n",
       "      <th>ExterQual</th>\n",
       "      <th>ExterCond</th>\n",
       "      <th>Foundation</th>\n",
       "      <th>BsmtQual</th>\n",
       "      <th>BsmtCond</th>\n",
       "      <th>BsmtExposure</th>\n",
       "      <th>BsmtFinType1</th>\n",
       "      <th>BsmtFinSF1</th>\n",
       "      <th>BsmtFinType2</th>\n",
       "      <th>BsmtFinSF2</th>\n",
       "      <th>BsmtUnfSF</th>\n",
       "      <th>TotalBsmtSF</th>\n",
       "      <th>Heating</th>\n",
       "      <th>HeatingQC</th>\n",
       "      <th>CentralAir</th>\n",
       "      <th>Electrical</th>\n",
       "      <th>1stFlrSF</th>\n",
       "      <th>2ndFlrSF</th>\n",
       "      <th>LowQualFinSF</th>\n",
       "      <th>GrLivArea</th>\n",
       "      <th>BsmtFullBath</th>\n",
       "      <th>BsmtHalfBath</th>\n",
       "      <th>FullBath</th>\n",
       "      <th>HalfBath</th>\n",
       "      <th>BedroomAbvGr</th>\n",
       "      <th>KitchenAbvGr</th>\n",
       "      <th>KitchenQual</th>\n",
       "      <th>TotRmsAbvGrd</th>\n",
       "      <th>Functional</th>\n",
       "      <th>Fireplaces</th>\n",
       "      <th>FireplaceQu</th>\n",
       "      <th>GarageType</th>\n",
       "      <th>GarageYrBlt</th>\n",
       "      <th>GarageFinish</th>\n",
       "      <th>GarageCars</th>\n",
       "      <th>GarageArea</th>\n",
       "      <th>GarageQual</th>\n",
       "      <th>GarageCond</th>\n",
       "      <th>PavedDrive</th>\n",
       "      <th>WoodDeckSF</th>\n",
       "      <th>OpenPorchSF</th>\n",
       "      <th>EnclosedPorch</th>\n",
       "      <th>3SsnPorch</th>\n",
       "      <th>ScreenPorch</th>\n",
       "      <th>PoolArea</th>\n",
       "      <th>PoolQC</th>\n",
       "      <th>Fence</th>\n",
       "      <th>MiscFeature</th>\n",
       "      <th>MiscVal</th>\n",
       "      <th>MoSold</th>\n",
       "      <th>YrSold</th>\n",
       "      <th>SaleType</th>\n",
       "      <th>SaleCondition</th>\n",
       "      <th>SalePrice</th>\n",
       "      <th>yr_since_renovation</th>\n",
       "      <th>AreaQual</th>\n",
       "      <th>FireplaceQual</th>\n",
       "      <th>Bath</th>\n",
       "      <th>BsmtQuCondSF</th>\n",
       "      <th>DeckPorchSF</th>\n",
       "      <th>TotalLivingSF</th>\n",
       "      <th>BsmtBath</th>\n",
       "      <th>ExterQC</th>\n",
       "      <th>KitchenQC</th>\n",
       "      <th>HouseAge</th>\n",
       "      <th>Finished</th>\n",
       "      <th>GarageQu</th>\n",
       "      <th>neighborhoods_ordinal</th>\n",
       "    </tr>\n",
       "  </thead>\n",
       "  <tbody>\n",
       "    <tr>\n",
       "      <th>0</th>\n",
       "      <td>9.042040</td>\n",
       "      <td>Pave</td>\n",
       "      <td>N_A</td>\n",
       "      <td>Reg</td>\n",
       "      <td>Lvl</td>\n",
       "      <td>AllPub</td>\n",
       "      <td>Inside</td>\n",
       "      <td>Gtl</td>\n",
       "      <td>Norm</td>\n",
       "      <td>Norm</td>\n",
       "      <td>1Fam</td>\n",
       "      <td>2Story</td>\n",
       "      <td>7</td>\n",
       "      <td>1.791759</td>\n",
       "      <td>7.602900</td>\n",
       "      <td>7.602900</td>\n",
       "      <td>Gable</td>\n",
       "      <td>CompShg</td>\n",
       "      <td>VinylSd</td>\n",
       "      <td>VinylSd</td>\n",
       "      <td>BrkFace</td>\n",
       "      <td>5.283204</td>\n",
       "      <td>1.609438</td>\n",
       "      <td>1.386294</td>\n",
       "      <td>PConc</td>\n",
       "      <td>1.609438</td>\n",
       "      <td>1.386294</td>\n",
       "      <td>No</td>\n",
       "      <td>GLQ</td>\n",
       "      <td>6.561031</td>\n",
       "      <td>Unf</td>\n",
       "      <td>0.0</td>\n",
       "      <td>5.017280</td>\n",
       "      <td>6.753438</td>\n",
       "      <td>GasA</td>\n",
       "      <td>1.791759</td>\n",
       "      <td>Y</td>\n",
       "      <td>SBrkr</td>\n",
       "      <td>6.753438</td>\n",
       "      <td>6.751101</td>\n",
       "      <td>0.0</td>\n",
       "      <td>7.444833</td>\n",
       "      <td>0.693147</td>\n",
       "      <td>0.000000</td>\n",
       "      <td>2</td>\n",
       "      <td>0.693147</td>\n",
       "      <td>3</td>\n",
       "      <td>0.693147</td>\n",
       "      <td>4</td>\n",
       "      <td>2.197225</td>\n",
       "      <td>Typ</td>\n",
       "      <td>0.000000</td>\n",
       "      <td>0</td>\n",
       "      <td>Attchd</td>\n",
       "      <td>7.602900</td>\n",
       "      <td>RFn</td>\n",
       "      <td>2</td>\n",
       "      <td>548</td>\n",
       "      <td>1.386294</td>\n",
       "      <td>1.386294</td>\n",
       "      <td>Y</td>\n",
       "      <td>0.000000</td>\n",
       "      <td>4.127134</td>\n",
       "      <td>0.000000</td>\n",
       "      <td>0.0</td>\n",
       "      <td>0.0</td>\n",
       "      <td>0.0</td>\n",
       "      <td>N_A</td>\n",
       "      <td>N_A</td>\n",
       "      <td>N_A</td>\n",
       "      <td>0.0</td>\n",
       "      <td>2</td>\n",
       "      <td>2008</td>\n",
       "      <td>WD</td>\n",
       "      <td>Normal</td>\n",
       "      <td>208500</td>\n",
       "      <td>1.791759</td>\n",
       "      <td>10.999613</td>\n",
       "      <td>0.000000</td>\n",
       "      <td>2.5</td>\n",
       "      <td>9.237274</td>\n",
       "      <td>4.127134</td>\n",
       "      <td>7.444833</td>\n",
       "      <td>0.693147</td>\n",
       "      <td>7</td>\n",
       "      <td>1.609438</td>\n",
       "      <td>1.791759</td>\n",
       "      <td>0.693147</td>\n",
       "      <td>8.503703</td>\n",
       "      <td>17.0</td>\n",
       "    </tr>\n",
       "    <tr>\n",
       "      <th>1</th>\n",
       "      <td>9.169623</td>\n",
       "      <td>Pave</td>\n",
       "      <td>N_A</td>\n",
       "      <td>Reg</td>\n",
       "      <td>Lvl</td>\n",
       "      <td>AllPub</td>\n",
       "      <td>FR2</td>\n",
       "      <td>Gtl</td>\n",
       "      <td>Feedr</td>\n",
       "      <td>Norm</td>\n",
       "      <td>1Fam</td>\n",
       "      <td>1Story</td>\n",
       "      <td>6</td>\n",
       "      <td>2.197225</td>\n",
       "      <td>7.589336</td>\n",
       "      <td>7.589336</td>\n",
       "      <td>Gable</td>\n",
       "      <td>CompShg</td>\n",
       "      <td>MetalSd</td>\n",
       "      <td>MetalSd</td>\n",
       "      <td>None</td>\n",
       "      <td>0.000000</td>\n",
       "      <td>1.386294</td>\n",
       "      <td>1.386294</td>\n",
       "      <td>CBlock</td>\n",
       "      <td>1.609438</td>\n",
       "      <td>1.386294</td>\n",
       "      <td>Gd</td>\n",
       "      <td>ALQ</td>\n",
       "      <td>6.886532</td>\n",
       "      <td>Unf</td>\n",
       "      <td>0.0</td>\n",
       "      <td>5.652489</td>\n",
       "      <td>7.141245</td>\n",
       "      <td>GasA</td>\n",
       "      <td>1.791759</td>\n",
       "      <td>Y</td>\n",
       "      <td>SBrkr</td>\n",
       "      <td>7.141245</td>\n",
       "      <td>0.000000</td>\n",
       "      <td>0.0</td>\n",
       "      <td>7.141245</td>\n",
       "      <td>0.000000</td>\n",
       "      <td>0.693147</td>\n",
       "      <td>2</td>\n",
       "      <td>0.000000</td>\n",
       "      <td>3</td>\n",
       "      <td>0.693147</td>\n",
       "      <td>3</td>\n",
       "      <td>1.945910</td>\n",
       "      <td>Typ</td>\n",
       "      <td>0.693147</td>\n",
       "      <td>3</td>\n",
       "      <td>Attchd</td>\n",
       "      <td>7.589336</td>\n",
       "      <td>RFn</td>\n",
       "      <td>2</td>\n",
       "      <td>460</td>\n",
       "      <td>1.386294</td>\n",
       "      <td>1.386294</td>\n",
       "      <td>Y</td>\n",
       "      <td>5.700444</td>\n",
       "      <td>0.000000</td>\n",
       "      <td>0.000000</td>\n",
       "      <td>0.0</td>\n",
       "      <td>0.0</td>\n",
       "      <td>0.0</td>\n",
       "      <td>N_A</td>\n",
       "      <td>N_A</td>\n",
       "      <td>N_A</td>\n",
       "      <td>0.0</td>\n",
       "      <td>5</td>\n",
       "      <td>2007</td>\n",
       "      <td>WD</td>\n",
       "      <td>Normal</td>\n",
       "      <td>181500</td>\n",
       "      <td>3.465736</td>\n",
       "      <td>11.011671</td>\n",
       "      <td>1.386294</td>\n",
       "      <td>2.0</td>\n",
       "      <td>9.625426</td>\n",
       "      <td>5.700444</td>\n",
       "      <td>7.141245</td>\n",
       "      <td>0.405465</td>\n",
       "      <td>6</td>\n",
       "      <td>1.386294</td>\n",
       "      <td>3.465736</td>\n",
       "      <td>0.693147</td>\n",
       "      <td>8.328693</td>\n",
       "      <td>20.0</td>\n",
       "    </tr>\n",
       "    <tr>\n",
       "      <th>2</th>\n",
       "      <td>9.328212</td>\n",
       "      <td>Pave</td>\n",
       "      <td>N_A</td>\n",
       "      <td>IR1</td>\n",
       "      <td>Lvl</td>\n",
       "      <td>AllPub</td>\n",
       "      <td>Inside</td>\n",
       "      <td>Gtl</td>\n",
       "      <td>Norm</td>\n",
       "      <td>Norm</td>\n",
       "      <td>1Fam</td>\n",
       "      <td>2Story</td>\n",
       "      <td>7</td>\n",
       "      <td>1.791759</td>\n",
       "      <td>7.601902</td>\n",
       "      <td>7.602401</td>\n",
       "      <td>Gable</td>\n",
       "      <td>CompShg</td>\n",
       "      <td>VinylSd</td>\n",
       "      <td>VinylSd</td>\n",
       "      <td>BrkFace</td>\n",
       "      <td>5.093750</td>\n",
       "      <td>1.609438</td>\n",
       "      <td>1.386294</td>\n",
       "      <td>PConc</td>\n",
       "      <td>1.609438</td>\n",
       "      <td>1.386294</td>\n",
       "      <td>Mn</td>\n",
       "      <td>GLQ</td>\n",
       "      <td>6.188264</td>\n",
       "      <td>Unf</td>\n",
       "      <td>0.0</td>\n",
       "      <td>6.075346</td>\n",
       "      <td>6.825460</td>\n",
       "      <td>GasA</td>\n",
       "      <td>1.791759</td>\n",
       "      <td>Y</td>\n",
       "      <td>SBrkr</td>\n",
       "      <td>6.825460</td>\n",
       "      <td>6.765039</td>\n",
       "      <td>0.0</td>\n",
       "      <td>7.488294</td>\n",
       "      <td>0.693147</td>\n",
       "      <td>0.000000</td>\n",
       "      <td>2</td>\n",
       "      <td>0.693147</td>\n",
       "      <td>3</td>\n",
       "      <td>0.693147</td>\n",
       "      <td>4</td>\n",
       "      <td>1.945910</td>\n",
       "      <td>Typ</td>\n",
       "      <td>0.693147</td>\n",
       "      <td>3</td>\n",
       "      <td>Attchd</td>\n",
       "      <td>7.601902</td>\n",
       "      <td>RFn</td>\n",
       "      <td>2</td>\n",
       "      <td>608</td>\n",
       "      <td>1.386294</td>\n",
       "      <td>1.386294</td>\n",
       "      <td>Y</td>\n",
       "      <td>0.000000</td>\n",
       "      <td>3.761200</td>\n",
       "      <td>0.000000</td>\n",
       "      <td>0.0</td>\n",
       "      <td>0.0</td>\n",
       "      <td>0.0</td>\n",
       "      <td>N_A</td>\n",
       "      <td>N_A</td>\n",
       "      <td>N_A</td>\n",
       "      <td>0.0</td>\n",
       "      <td>9</td>\n",
       "      <td>2008</td>\n",
       "      <td>WD</td>\n",
       "      <td>Normal</td>\n",
       "      <td>223500</td>\n",
       "      <td>1.945910</td>\n",
       "      <td>11.043098</td>\n",
       "      <td>1.386294</td>\n",
       "      <td>2.5</td>\n",
       "      <td>9.309371</td>\n",
       "      <td>3.761200</td>\n",
       "      <td>7.488294</td>\n",
       "      <td>0.693147</td>\n",
       "      <td>7</td>\n",
       "      <td>1.609438</td>\n",
       "      <td>2.079442</td>\n",
       "      <td>0.693147</td>\n",
       "      <td>8.607582</td>\n",
       "      <td>17.0</td>\n",
       "    </tr>\n",
       "    <tr>\n",
       "      <th>3</th>\n",
       "      <td>9.164401</td>\n",
       "      <td>Pave</td>\n",
       "      <td>N_A</td>\n",
       "      <td>IR1</td>\n",
       "      <td>Lvl</td>\n",
       "      <td>AllPub</td>\n",
       "      <td>Corner</td>\n",
       "      <td>Gtl</td>\n",
       "      <td>Norm</td>\n",
       "      <td>Norm</td>\n",
       "      <td>1Fam</td>\n",
       "      <td>2Story</td>\n",
       "      <td>7</td>\n",
       "      <td>1.791759</td>\n",
       "      <td>7.557995</td>\n",
       "      <td>7.586296</td>\n",
       "      <td>Gable</td>\n",
       "      <td>CompShg</td>\n",
       "      <td>Wd Sdng</td>\n",
       "      <td>Wd Shng</td>\n",
       "      <td>None</td>\n",
       "      <td>0.000000</td>\n",
       "      <td>1.386294</td>\n",
       "      <td>1.386294</td>\n",
       "      <td>BrkTil</td>\n",
       "      <td>1.386294</td>\n",
       "      <td>1.609438</td>\n",
       "      <td>No</td>\n",
       "      <td>ALQ</td>\n",
       "      <td>5.379897</td>\n",
       "      <td>Unf</td>\n",
       "      <td>0.0</td>\n",
       "      <td>6.293419</td>\n",
       "      <td>6.629363</td>\n",
       "      <td>GasA</td>\n",
       "      <td>1.609438</td>\n",
       "      <td>Y</td>\n",
       "      <td>SBrkr</td>\n",
       "      <td>6.869014</td>\n",
       "      <td>6.629363</td>\n",
       "      <td>0.0</td>\n",
       "      <td>7.448916</td>\n",
       "      <td>0.693147</td>\n",
       "      <td>0.000000</td>\n",
       "      <td>1</td>\n",
       "      <td>0.000000</td>\n",
       "      <td>3</td>\n",
       "      <td>0.693147</td>\n",
       "      <td>4</td>\n",
       "      <td>2.079442</td>\n",
       "      <td>Typ</td>\n",
       "      <td>0.693147</td>\n",
       "      <td>4</td>\n",
       "      <td>Detchd</td>\n",
       "      <td>7.600402</td>\n",
       "      <td>Unf</td>\n",
       "      <td>3</td>\n",
       "      <td>642</td>\n",
       "      <td>1.386294</td>\n",
       "      <td>1.386294</td>\n",
       "      <td>Y</td>\n",
       "      <td>0.000000</td>\n",
       "      <td>3.583519</td>\n",
       "      <td>5.609472</td>\n",
       "      <td>0.0</td>\n",
       "      <td>0.0</td>\n",
       "      <td>0.0</td>\n",
       "      <td>N_A</td>\n",
       "      <td>N_A</td>\n",
       "      <td>N_A</td>\n",
       "      <td>0.0</td>\n",
       "      <td>2</td>\n",
       "      <td>2006</td>\n",
       "      <td>WD</td>\n",
       "      <td>Abnorml</td>\n",
       "      <td>140000</td>\n",
       "      <td>3.610918</td>\n",
       "      <td>11.003699</td>\n",
       "      <td>1.609438</td>\n",
       "      <td>1.0</td>\n",
       "      <td>9.113058</td>\n",
       "      <td>5.730100</td>\n",
       "      <td>7.448916</td>\n",
       "      <td>0.693147</td>\n",
       "      <td>6</td>\n",
       "      <td>1.609438</td>\n",
       "      <td>4.521789</td>\n",
       "      <td>0.693147</td>\n",
       "      <td>8.661986</td>\n",
       "      <td>19.0</td>\n",
       "    </tr>\n",
       "    <tr>\n",
       "      <th>4</th>\n",
       "      <td>9.565284</td>\n",
       "      <td>Pave</td>\n",
       "      <td>N_A</td>\n",
       "      <td>IR1</td>\n",
       "      <td>Lvl</td>\n",
       "      <td>AllPub</td>\n",
       "      <td>FR2</td>\n",
       "      <td>Gtl</td>\n",
       "      <td>Norm</td>\n",
       "      <td>Norm</td>\n",
       "      <td>1Fam</td>\n",
       "      <td>2Story</td>\n",
       "      <td>8</td>\n",
       "      <td>1.791759</td>\n",
       "      <td>7.601402</td>\n",
       "      <td>7.601402</td>\n",
       "      <td>Gable</td>\n",
       "      <td>CompShg</td>\n",
       "      <td>VinylSd</td>\n",
       "      <td>VinylSd</td>\n",
       "      <td>BrkFace</td>\n",
       "      <td>5.860786</td>\n",
       "      <td>1.609438</td>\n",
       "      <td>1.386294</td>\n",
       "      <td>PConc</td>\n",
       "      <td>1.609438</td>\n",
       "      <td>1.386294</td>\n",
       "      <td>Av</td>\n",
       "      <td>GLQ</td>\n",
       "      <td>6.486161</td>\n",
       "      <td>Unf</td>\n",
       "      <td>0.0</td>\n",
       "      <td>6.196444</td>\n",
       "      <td>7.044033</td>\n",
       "      <td>GasA</td>\n",
       "      <td>1.791759</td>\n",
       "      <td>Y</td>\n",
       "      <td>SBrkr</td>\n",
       "      <td>7.044033</td>\n",
       "      <td>6.960348</td>\n",
       "      <td>0.0</td>\n",
       "      <td>7.695758</td>\n",
       "      <td>0.693147</td>\n",
       "      <td>0.000000</td>\n",
       "      <td>2</td>\n",
       "      <td>0.693147</td>\n",
       "      <td>4</td>\n",
       "      <td>0.693147</td>\n",
       "      <td>4</td>\n",
       "      <td>2.302585</td>\n",
       "      <td>Typ</td>\n",
       "      <td>0.693147</td>\n",
       "      <td>3</td>\n",
       "      <td>Attchd</td>\n",
       "      <td>7.601402</td>\n",
       "      <td>RFn</td>\n",
       "      <td>3</td>\n",
       "      <td>836</td>\n",
       "      <td>1.386294</td>\n",
       "      <td>1.386294</td>\n",
       "      <td>Y</td>\n",
       "      <td>5.262690</td>\n",
       "      <td>4.442651</td>\n",
       "      <td>0.000000</td>\n",
       "      <td>0.0</td>\n",
       "      <td>0.0</td>\n",
       "      <td>0.0</td>\n",
       "      <td>N_A</td>\n",
       "      <td>N_A</td>\n",
       "      <td>N_A</td>\n",
       "      <td>0.0</td>\n",
       "      <td>12</td>\n",
       "      <td>2008</td>\n",
       "      <td>WD</td>\n",
       "      <td>Normal</td>\n",
       "      <td>250000</td>\n",
       "      <td>2.197225</td>\n",
       "      <td>11.384194</td>\n",
       "      <td>1.386294</td>\n",
       "      <td>2.5</td>\n",
       "      <td>9.528139</td>\n",
       "      <td>5.624018</td>\n",
       "      <td>7.695758</td>\n",
       "      <td>0.693147</td>\n",
       "      <td>7</td>\n",
       "      <td>1.609438</td>\n",
       "      <td>2.197225</td>\n",
       "      <td>0.693147</td>\n",
       "      <td>8.925986</td>\n",
       "      <td>24.0</td>\n",
       "    </tr>\n",
       "  </tbody>\n",
       "</table>\n",
       "</div>"
      ],
      "text/plain": [
       "    LotArea Street Alley LotShape LandContour Utilities LotConfig LandSlope  \\\n",
       "0  9.042040   Pave   N_A      Reg         Lvl    AllPub    Inside       Gtl   \n",
       "1  9.169623   Pave   N_A      Reg         Lvl    AllPub       FR2       Gtl   \n",
       "2  9.328212   Pave   N_A      IR1         Lvl    AllPub    Inside       Gtl   \n",
       "3  9.164401   Pave   N_A      IR1         Lvl    AllPub    Corner       Gtl   \n",
       "4  9.565284   Pave   N_A      IR1         Lvl    AllPub       FR2       Gtl   \n",
       "\n",
       "  Condition1 Condition2 BldgType HouseStyle  OverallQual  OverallCond  \\\n",
       "0       Norm       Norm     1Fam     2Story            7     1.791759   \n",
       "1      Feedr       Norm     1Fam     1Story            6     2.197225   \n",
       "2       Norm       Norm     1Fam     2Story            7     1.791759   \n",
       "3       Norm       Norm     1Fam     2Story            7     1.791759   \n",
       "4       Norm       Norm     1Fam     2Story            8     1.791759   \n",
       "\n",
       "   YearBuilt  YearRemodAdd RoofStyle RoofMatl Exterior1st Exterior2nd  \\\n",
       "0   7.602900      7.602900     Gable  CompShg     VinylSd     VinylSd   \n",
       "1   7.589336      7.589336     Gable  CompShg     MetalSd     MetalSd   \n",
       "2   7.601902      7.602401     Gable  CompShg     VinylSd     VinylSd   \n",
       "3   7.557995      7.586296     Gable  CompShg     Wd Sdng     Wd Shng   \n",
       "4   7.601402      7.601402     Gable  CompShg     VinylSd     VinylSd   \n",
       "\n",
       "  MasVnrType  MasVnrArea  ExterQual  ExterCond Foundation  BsmtQual  BsmtCond  \\\n",
       "0    BrkFace    5.283204   1.609438   1.386294      PConc  1.609438  1.386294   \n",
       "1       None    0.000000   1.386294   1.386294     CBlock  1.609438  1.386294   \n",
       "2    BrkFace    5.093750   1.609438   1.386294      PConc  1.609438  1.386294   \n",
       "3       None    0.000000   1.386294   1.386294     BrkTil  1.386294  1.609438   \n",
       "4    BrkFace    5.860786   1.609438   1.386294      PConc  1.609438  1.386294   \n",
       "\n",
       "  BsmtExposure BsmtFinType1  BsmtFinSF1 BsmtFinType2  BsmtFinSF2  BsmtUnfSF  \\\n",
       "0           No          GLQ    6.561031          Unf         0.0   5.017280   \n",
       "1           Gd          ALQ    6.886532          Unf         0.0   5.652489   \n",
       "2           Mn          GLQ    6.188264          Unf         0.0   6.075346   \n",
       "3           No          ALQ    5.379897          Unf         0.0   6.293419   \n",
       "4           Av          GLQ    6.486161          Unf         0.0   6.196444   \n",
       "\n",
       "   TotalBsmtSF Heating  HeatingQC CentralAir Electrical  1stFlrSF  2ndFlrSF  \\\n",
       "0     6.753438    GasA   1.791759          Y      SBrkr  6.753438  6.751101   \n",
       "1     7.141245    GasA   1.791759          Y      SBrkr  7.141245  0.000000   \n",
       "2     6.825460    GasA   1.791759          Y      SBrkr  6.825460  6.765039   \n",
       "3     6.629363    GasA   1.609438          Y      SBrkr  6.869014  6.629363   \n",
       "4     7.044033    GasA   1.791759          Y      SBrkr  7.044033  6.960348   \n",
       "\n",
       "   LowQualFinSF  GrLivArea  BsmtFullBath  BsmtHalfBath  FullBath  HalfBath  \\\n",
       "0           0.0   7.444833      0.693147      0.000000         2  0.693147   \n",
       "1           0.0   7.141245      0.000000      0.693147         2  0.000000   \n",
       "2           0.0   7.488294      0.693147      0.000000         2  0.693147   \n",
       "3           0.0   7.448916      0.693147      0.000000         1  0.000000   \n",
       "4           0.0   7.695758      0.693147      0.000000         2  0.693147   \n",
       "\n",
       "   BedroomAbvGr  KitchenAbvGr  KitchenQual  TotRmsAbvGrd Functional  \\\n",
       "0             3      0.693147            4      2.197225        Typ   \n",
       "1             3      0.693147            3      1.945910        Typ   \n",
       "2             3      0.693147            4      1.945910        Typ   \n",
       "3             3      0.693147            4      2.079442        Typ   \n",
       "4             4      0.693147            4      2.302585        Typ   \n",
       "\n",
       "   Fireplaces  FireplaceQu GarageType  GarageYrBlt GarageFinish  GarageCars  \\\n",
       "0    0.000000            0     Attchd     7.602900          RFn           2   \n",
       "1    0.693147            3     Attchd     7.589336          RFn           2   \n",
       "2    0.693147            3     Attchd     7.601902          RFn           2   \n",
       "3    0.693147            4     Detchd     7.600402          Unf           3   \n",
       "4    0.693147            3     Attchd     7.601402          RFn           3   \n",
       "\n",
       "   GarageArea  GarageQual  GarageCond PavedDrive  WoodDeckSF  OpenPorchSF  \\\n",
       "0         548    1.386294    1.386294          Y    0.000000     4.127134   \n",
       "1         460    1.386294    1.386294          Y    5.700444     0.000000   \n",
       "2         608    1.386294    1.386294          Y    0.000000     3.761200   \n",
       "3         642    1.386294    1.386294          Y    0.000000     3.583519   \n",
       "4         836    1.386294    1.386294          Y    5.262690     4.442651   \n",
       "\n",
       "   EnclosedPorch  3SsnPorch  ScreenPorch  PoolArea PoolQC Fence MiscFeature  \\\n",
       "0       0.000000        0.0          0.0       0.0    N_A   N_A         N_A   \n",
       "1       0.000000        0.0          0.0       0.0    N_A   N_A         N_A   \n",
       "2       0.000000        0.0          0.0       0.0    N_A   N_A         N_A   \n",
       "3       5.609472        0.0          0.0       0.0    N_A   N_A         N_A   \n",
       "4       0.000000        0.0          0.0       0.0    N_A   N_A         N_A   \n",
       "\n",
       "   MiscVal  MoSold  YrSold SaleType SaleCondition  SalePrice  \\\n",
       "0      0.0       2    2008       WD        Normal     208500   \n",
       "1      0.0       5    2007       WD        Normal     181500   \n",
       "2      0.0       9    2008       WD        Normal     223500   \n",
       "3      0.0       2    2006       WD       Abnorml     140000   \n",
       "4      0.0      12    2008       WD        Normal     250000   \n",
       "\n",
       "   yr_since_renovation   AreaQual  FireplaceQual  Bath  BsmtQuCondSF  \\\n",
       "0             1.791759  10.999613       0.000000   2.5      9.237274   \n",
       "1             3.465736  11.011671       1.386294   2.0      9.625426   \n",
       "2             1.945910  11.043098       1.386294   2.5      9.309371   \n",
       "3             3.610918  11.003699       1.609438   1.0      9.113058   \n",
       "4             2.197225  11.384194       1.386294   2.5      9.528139   \n",
       "\n",
       "   DeckPorchSF  TotalLivingSF  BsmtBath  ExterQC  KitchenQC  HouseAge  \\\n",
       "0     4.127134       7.444833  0.693147        7   1.609438  1.791759   \n",
       "1     5.700444       7.141245  0.405465        6   1.386294  3.465736   \n",
       "2     3.761200       7.488294  0.693147        7   1.609438  2.079442   \n",
       "3     5.730100       7.448916  0.693147        6   1.609438  4.521789   \n",
       "4     5.624018       7.695758  0.693147        7   1.609438  2.197225   \n",
       "\n",
       "   Finished  GarageQu  neighborhoods_ordinal  \n",
       "0  0.693147  8.503703                   17.0  \n",
       "1  0.693147  8.328693                   20.0  \n",
       "2  0.693147  8.607582                   17.0  \n",
       "3  0.693147  8.661986                   19.0  \n",
       "4  0.693147  8.925986                   24.0  "
      ]
     },
     "execution_count": 27,
     "metadata": {},
     "output_type": "execute_result"
    }
   ],
   "source": [
    "train.head()"
   ]
  },
  {
   "cell_type": "code",
   "execution_count": 28,
   "id": "768752b0",
   "metadata": {},
   "outputs": [
    {
     "data": {
      "text/html": [
       "<div>\n",
       "<style scoped>\n",
       "    .dataframe tbody tr th:only-of-type {\n",
       "        vertical-align: middle;\n",
       "    }\n",
       "\n",
       "    .dataframe tbody tr th {\n",
       "        vertical-align: top;\n",
       "    }\n",
       "\n",
       "    .dataframe thead th {\n",
       "        text-align: right;\n",
       "    }\n",
       "</style>\n",
       "<table border=\"1\" class=\"dataframe\">\n",
       "  <thead>\n",
       "    <tr style=\"text-align: right;\">\n",
       "      <th></th>\n",
       "      <th>LotArea</th>\n",
       "      <th>OverallQual</th>\n",
       "      <th>OverallCond</th>\n",
       "      <th>YearBuilt</th>\n",
       "      <th>YearRemodAdd</th>\n",
       "      <th>MasVnrArea</th>\n",
       "      <th>ExterQual</th>\n",
       "      <th>ExterCond</th>\n",
       "      <th>BsmtQual</th>\n",
       "      <th>BsmtCond</th>\n",
       "      <th>BsmtFinSF1</th>\n",
       "      <th>BsmtFinSF2</th>\n",
       "      <th>BsmtUnfSF</th>\n",
       "      <th>TotalBsmtSF</th>\n",
       "      <th>HeatingQC</th>\n",
       "      <th>1stFlrSF</th>\n",
       "      <th>2ndFlrSF</th>\n",
       "      <th>LowQualFinSF</th>\n",
       "      <th>GrLivArea</th>\n",
       "      <th>BsmtFullBath</th>\n",
       "      <th>BsmtHalfBath</th>\n",
       "      <th>FullBath</th>\n",
       "      <th>HalfBath</th>\n",
       "      <th>BedroomAbvGr</th>\n",
       "      <th>KitchenAbvGr</th>\n",
       "      <th>KitchenQual</th>\n",
       "      <th>TotRmsAbvGrd</th>\n",
       "      <th>Fireplaces</th>\n",
       "      <th>FireplaceQu</th>\n",
       "      <th>GarageYrBlt</th>\n",
       "      <th>GarageCars</th>\n",
       "      <th>GarageArea</th>\n",
       "      <th>GarageQual</th>\n",
       "      <th>GarageCond</th>\n",
       "      <th>WoodDeckSF</th>\n",
       "      <th>OpenPorchSF</th>\n",
       "      <th>EnclosedPorch</th>\n",
       "      <th>3SsnPorch</th>\n",
       "      <th>ScreenPorch</th>\n",
       "      <th>PoolArea</th>\n",
       "      <th>MiscVal</th>\n",
       "      <th>MoSold</th>\n",
       "      <th>YrSold</th>\n",
       "      <th>SalePrice</th>\n",
       "      <th>yr_since_renovation</th>\n",
       "      <th>AreaQual</th>\n",
       "      <th>FireplaceQual</th>\n",
       "      <th>Bath</th>\n",
       "      <th>BsmtQuCondSF</th>\n",
       "      <th>DeckPorchSF</th>\n",
       "      <th>TotalLivingSF</th>\n",
       "      <th>BsmtBath</th>\n",
       "      <th>ExterQC</th>\n",
       "      <th>KitchenQC</th>\n",
       "      <th>HouseAge</th>\n",
       "      <th>Finished</th>\n",
       "      <th>GarageQu</th>\n",
       "      <th>neighborhoods_ordinal</th>\n",
       "    </tr>\n",
       "  </thead>\n",
       "  <tbody>\n",
       "    <tr>\n",
       "      <th>count</th>\n",
       "      <td>1458.000000</td>\n",
       "      <td>1458.000000</td>\n",
       "      <td>1458.000000</td>\n",
       "      <td>1458.000000</td>\n",
       "      <td>1458.000000</td>\n",
       "      <td>1458.000000</td>\n",
       "      <td>1458.000000</td>\n",
       "      <td>1458.000000</td>\n",
       "      <td>1458.000000</td>\n",
       "      <td>1458.000000</td>\n",
       "      <td>1458.000000</td>\n",
       "      <td>1458.000000</td>\n",
       "      <td>1458.000000</td>\n",
       "      <td>1458.000000</td>\n",
       "      <td>1458.000000</td>\n",
       "      <td>1458.000000</td>\n",
       "      <td>1458.000000</td>\n",
       "      <td>1458.000000</td>\n",
       "      <td>1458.000000</td>\n",
       "      <td>1458.000000</td>\n",
       "      <td>1458.000000</td>\n",
       "      <td>1458.000000</td>\n",
       "      <td>1458.000000</td>\n",
       "      <td>1458.000000</td>\n",
       "      <td>1458.000000</td>\n",
       "      <td>1458.000000</td>\n",
       "      <td>1458.000000</td>\n",
       "      <td>1458.000000</td>\n",
       "      <td>1458.000000</td>\n",
       "      <td>1458.000000</td>\n",
       "      <td>1458.000000</td>\n",
       "      <td>1458.000000</td>\n",
       "      <td>1458.000000</td>\n",
       "      <td>1458.000000</td>\n",
       "      <td>1458.000000</td>\n",
       "      <td>1458.000000</td>\n",
       "      <td>1458.000000</td>\n",
       "      <td>1458.000000</td>\n",
       "      <td>1458.000000</td>\n",
       "      <td>1458.000000</td>\n",
       "      <td>1458.000000</td>\n",
       "      <td>1458.000000</td>\n",
       "      <td>1458.000000</td>\n",
       "      <td>1458.000000</td>\n",
       "      <td>1458.000000</td>\n",
       "      <td>1458.000000</td>\n",
       "      <td>1458.000000</td>\n",
       "      <td>1458.000000</td>\n",
       "      <td>1458.000000</td>\n",
       "      <td>1458.000000</td>\n",
       "      <td>1458.000000</td>\n",
       "      <td>1458.000000</td>\n",
       "      <td>1458.000000</td>\n",
       "      <td>1458.000000</td>\n",
       "      <td>1458.000000</td>\n",
       "      <td>1458.000000</td>\n",
       "      <td>1458.000000</td>\n",
       "      <td>1458.000000</td>\n",
       "    </tr>\n",
       "    <tr>\n",
       "      <th>mean</th>\n",
       "      <td>9.100068</td>\n",
       "      <td>6.093964</td>\n",
       "      <td>1.869372</td>\n",
       "      <td>7.586796</td>\n",
       "      <td>7.593740</td>\n",
       "      <td>2.114038</td>\n",
       "      <td>1.472124</td>\n",
       "      <td>1.403473</td>\n",
       "      <td>1.471885</td>\n",
       "      <td>1.351232</td>\n",
       "      <td>4.224311</td>\n",
       "      <td>0.656297</td>\n",
       "      <td>5.647261</td>\n",
       "      <td>6.748318</td>\n",
       "      <td>1.618549</td>\n",
       "      <td>7.006746</td>\n",
       "      <td>2.858779</td>\n",
       "      <td>0.099951</td>\n",
       "      <td>7.266762</td>\n",
       "      <td>0.290565</td>\n",
       "      <td>0.039540</td>\n",
       "      <td>1.563786</td>\n",
       "      <td>0.262435</td>\n",
       "      <td>2.866255</td>\n",
       "      <td>0.711699</td>\n",
       "      <td>3.509602</td>\n",
       "      <td>1.993679</td>\n",
       "      <td>0.398997</td>\n",
       "      <td>1.822359</td>\n",
       "      <td>7.168809</td>\n",
       "      <td>1.766118</td>\n",
       "      <td>472.050069</td>\n",
       "      <td>1.301358</td>\n",
       "      <td>1.300978</td>\n",
       "      <td>2.453229</td>\n",
       "      <td>2.303690</td>\n",
       "      <td>0.698976</td>\n",
       "      <td>0.085796</td>\n",
       "      <td>0.411235</td>\n",
       "      <td>0.026237</td>\n",
       "      <td>0.233776</td>\n",
       "      <td>6.323045</td>\n",
       "      <td>2007.816187</td>\n",
       "      <td>180932.919067</td>\n",
       "      <td>2.576752</td>\n",
       "      <td>10.744729</td>\n",
       "      <td>0.826451</td>\n",
       "      <td>1.754801</td>\n",
       "      <td>9.041563</td>\n",
       "      <td>4.246671</td>\n",
       "      <td>7.262974</td>\n",
       "      <td>0.312638</td>\n",
       "      <td>6.477366</td>\n",
       "      <td>1.520684</td>\n",
       "      <td>3.054231</td>\n",
       "      <td>0.634672</td>\n",
       "      <td>7.855410</td>\n",
       "      <td>12.849108</td>\n",
       "    </tr>\n",
       "    <tr>\n",
       "      <th>std</th>\n",
       "      <td>0.483175</td>\n",
       "      <td>1.376369</td>\n",
       "      <td>0.168491</td>\n",
       "      <td>0.015385</td>\n",
       "      <td>0.010422</td>\n",
       "      <td>2.625175</td>\n",
       "      <td>0.125470</td>\n",
       "      <td>0.083384</td>\n",
       "      <td>0.279300</td>\n",
       "      <td>0.230240</td>\n",
       "      <td>2.990471</td>\n",
       "      <td>1.846151</td>\n",
       "      <td>1.855010</td>\n",
       "      <td>1.144830</td>\n",
       "      <td>0.201881</td>\n",
       "      <td>0.314193</td>\n",
       "      <td>3.291819</td>\n",
       "      <td>0.747857</td>\n",
       "      <td>0.330142</td>\n",
       "      <td>0.349280</td>\n",
       "      <td>0.162704</td>\n",
       "      <td>0.549891</td>\n",
       "      <td>0.341731</td>\n",
       "      <td>0.816323</td>\n",
       "      <td>0.089326</td>\n",
       "      <td>0.661919</td>\n",
       "      <td>0.213483</td>\n",
       "      <td>0.394008</td>\n",
       "      <td>1.810325</td>\n",
       "      <td>1.739331</td>\n",
       "      <td>0.747104</td>\n",
       "      <td>212.239248</td>\n",
       "      <td>0.322729</td>\n",
       "      <td>0.323089</td>\n",
       "      <td>2.595991</td>\n",
       "      <td>2.149862</td>\n",
       "      <td>1.728308</td>\n",
       "      <td>0.667326</td>\n",
       "      <td>1.404074</td>\n",
       "      <td>0.408374</td>\n",
       "      <td>1.226840</td>\n",
       "      <td>2.700167</td>\n",
       "      <td>1.328826</td>\n",
       "      <td>79495.055285</td>\n",
       "      <td>1.286766</td>\n",
       "      <td>0.542929</td>\n",
       "      <td>0.812174</td>\n",
       "      <td>0.634509</td>\n",
       "      <td>1.540606</td>\n",
       "      <td>2.075330</td>\n",
       "      <td>0.330435</td>\n",
       "      <td>0.345777</td>\n",
       "      <td>0.673935</td>\n",
       "      <td>0.176319</td>\n",
       "      <td>1.312660</td>\n",
       "      <td>0.192713</td>\n",
       "      <td>1.956664</td>\n",
       "      <td>6.685031</td>\n",
       "    </tr>\n",
       "    <tr>\n",
       "      <th>min</th>\n",
       "      <td>7.170888</td>\n",
       "      <td>1.000000</td>\n",
       "      <td>0.693147</td>\n",
       "      <td>7.535297</td>\n",
       "      <td>7.576097</td>\n",
       "      <td>0.000000</td>\n",
       "      <td>1.098612</td>\n",
       "      <td>0.693147</td>\n",
       "      <td>0.000000</td>\n",
       "      <td>0.000000</td>\n",
       "      <td>0.000000</td>\n",
       "      <td>0.000000</td>\n",
       "      <td>0.000000</td>\n",
       "      <td>0.000000</td>\n",
       "      <td>0.693147</td>\n",
       "      <td>5.814131</td>\n",
       "      <td>0.000000</td>\n",
       "      <td>0.000000</td>\n",
       "      <td>5.814131</td>\n",
       "      <td>0.000000</td>\n",
       "      <td>0.000000</td>\n",
       "      <td>0.000000</td>\n",
       "      <td>0.000000</td>\n",
       "      <td>0.000000</td>\n",
       "      <td>0.000000</td>\n",
       "      <td>2.000000</td>\n",
       "      <td>1.098612</td>\n",
       "      <td>0.000000</td>\n",
       "      <td>0.000000</td>\n",
       "      <td>0.000000</td>\n",
       "      <td>0.000000</td>\n",
       "      <td>0.000000</td>\n",
       "      <td>0.000000</td>\n",
       "      <td>0.000000</td>\n",
       "      <td>0.000000</td>\n",
       "      <td>0.000000</td>\n",
       "      <td>0.000000</td>\n",
       "      <td>0.000000</td>\n",
       "      <td>0.000000</td>\n",
       "      <td>0.000000</td>\n",
       "      <td>0.000000</td>\n",
       "      <td>1.000000</td>\n",
       "      <td>2006.000000</td>\n",
       "      <td>34900.000000</td>\n",
       "      <td>0.000000</td>\n",
       "      <td>6.807935</td>\n",
       "      <td>0.000000</td>\n",
       "      <td>0.000000</td>\n",
       "      <td>0.000000</td>\n",
       "      <td>0.000000</td>\n",
       "      <td>5.814131</td>\n",
       "      <td>0.000000</td>\n",
       "      <td>4.000000</td>\n",
       "      <td>0.000000</td>\n",
       "      <td>0.000000</td>\n",
       "      <td>0.000000</td>\n",
       "      <td>0.000000</td>\n",
       "      <td>1.000000</td>\n",
       "    </tr>\n",
       "    <tr>\n",
       "      <th>25%</th>\n",
       "      <td>8.928706</td>\n",
       "      <td>5.000000</td>\n",
       "      <td>1.791759</td>\n",
       "      <td>7.578145</td>\n",
       "      <td>7.584773</td>\n",
       "      <td>0.000000</td>\n",
       "      <td>1.386294</td>\n",
       "      <td>1.386294</td>\n",
       "      <td>1.386294</td>\n",
       "      <td>1.386294</td>\n",
       "      <td>0.000000</td>\n",
       "      <td>0.000000</td>\n",
       "      <td>5.411646</td>\n",
       "      <td>6.679913</td>\n",
       "      <td>1.386294</td>\n",
       "      <td>6.783325</td>\n",
       "      <td>0.000000</td>\n",
       "      <td>0.000000</td>\n",
       "      <td>7.029530</td>\n",
       "      <td>0.000000</td>\n",
       "      <td>0.000000</td>\n",
       "      <td>1.000000</td>\n",
       "      <td>0.000000</td>\n",
       "      <td>2.000000</td>\n",
       "      <td>0.693147</td>\n",
       "      <td>3.000000</td>\n",
       "      <td>1.791759</td>\n",
       "      <td>0.000000</td>\n",
       "      <td>0.000000</td>\n",
       "      <td>7.580189</td>\n",
       "      <td>1.000000</td>\n",
       "      <td>331.500000</td>\n",
       "      <td>1.386294</td>\n",
       "      <td>1.386294</td>\n",
       "      <td>0.000000</td>\n",
       "      <td>0.000000</td>\n",
       "      <td>0.000000</td>\n",
       "      <td>0.000000</td>\n",
       "      <td>0.000000</td>\n",
       "      <td>0.000000</td>\n",
       "      <td>0.000000</td>\n",
       "      <td>5.000000</td>\n",
       "      <td>2007.000000</td>\n",
       "      <td>129925.000000</td>\n",
       "      <td>1.609438</td>\n",
       "      <td>10.414693</td>\n",
       "      <td>0.000000</td>\n",
       "      <td>1.000000</td>\n",
       "      <td>8.955738</td>\n",
       "      <td>3.828641</td>\n",
       "      <td>7.024871</td>\n",
       "      <td>0.000000</td>\n",
       "      <td>6.000000</td>\n",
       "      <td>1.386294</td>\n",
       "      <td>2.197225</td>\n",
       "      <td>0.693147</td>\n",
       "      <td>7.940584</td>\n",
       "      <td>7.000000</td>\n",
       "    </tr>\n",
       "    <tr>\n",
       "      <th>50%</th>\n",
       "      <td>9.156518</td>\n",
       "      <td>6.000000</td>\n",
       "      <td>1.791759</td>\n",
       "      <td>7.587564</td>\n",
       "      <td>7.598399</td>\n",
       "      <td>0.000000</td>\n",
       "      <td>1.386294</td>\n",
       "      <td>1.386294</td>\n",
       "      <td>1.609438</td>\n",
       "      <td>1.386294</td>\n",
       "      <td>5.948032</td>\n",
       "      <td>0.000000</td>\n",
       "      <td>6.170651</td>\n",
       "      <td>6.899723</td>\n",
       "      <td>1.791759</td>\n",
       "      <td>6.991177</td>\n",
       "      <td>0.000000</td>\n",
       "      <td>0.000000</td>\n",
       "      <td>7.287901</td>\n",
       "      <td>0.000000</td>\n",
       "      <td>0.000000</td>\n",
       "      <td>2.000000</td>\n",
       "      <td>0.000000</td>\n",
       "      <td>3.000000</td>\n",
       "      <td>0.693147</td>\n",
       "      <td>3.000000</td>\n",
       "      <td>1.945910</td>\n",
       "      <td>0.693147</td>\n",
       "      <td>2.000000</td>\n",
       "      <td>7.589842</td>\n",
       "      <td>2.000000</td>\n",
       "      <td>479.500000</td>\n",
       "      <td>1.386294</td>\n",
       "      <td>1.386294</td>\n",
       "      <td>0.000000</td>\n",
       "      <td>3.238486</td>\n",
       "      <td>0.000000</td>\n",
       "      <td>0.000000</td>\n",
       "      <td>0.000000</td>\n",
       "      <td>0.000000</td>\n",
       "      <td>0.000000</td>\n",
       "      <td>6.000000</td>\n",
       "      <td>2008.000000</td>\n",
       "      <td>163000.000000</td>\n",
       "      <td>2.708050</td>\n",
       "      <td>10.783134</td>\n",
       "      <td>1.098612</td>\n",
       "      <td>2.000000</td>\n",
       "      <td>9.225672</td>\n",
       "      <td>5.105945</td>\n",
       "      <td>7.284821</td>\n",
       "      <td>0.000000</td>\n",
       "      <td>6.000000</td>\n",
       "      <td>1.609438</td>\n",
       "      <td>3.583519</td>\n",
       "      <td>0.693147</td>\n",
       "      <td>8.367068</td>\n",
       "      <td>13.000000</td>\n",
       "    </tr>\n",
       "    <tr>\n",
       "      <th>75%</th>\n",
       "      <td>9.358847</td>\n",
       "      <td>7.000000</td>\n",
       "      <td>1.945910</td>\n",
       "      <td>7.601402</td>\n",
       "      <td>7.603399</td>\n",
       "      <td>5.104426</td>\n",
       "      <td>1.609438</td>\n",
       "      <td>1.386294</td>\n",
       "      <td>1.609438</td>\n",
       "      <td>1.386294</td>\n",
       "      <td>6.568075</td>\n",
       "      <td>0.000000</td>\n",
       "      <td>6.695799</td>\n",
       "      <td>7.168387</td>\n",
       "      <td>1.791759</td>\n",
       "      <td>7.238317</td>\n",
       "      <td>6.591674</td>\n",
       "      <td>0.000000</td>\n",
       "      <td>7.482682</td>\n",
       "      <td>0.693147</td>\n",
       "      <td>0.000000</td>\n",
       "      <td>2.000000</td>\n",
       "      <td>0.693147</td>\n",
       "      <td>3.000000</td>\n",
       "      <td>0.693147</td>\n",
       "      <td>4.000000</td>\n",
       "      <td>2.079442</td>\n",
       "      <td>0.693147</td>\n",
       "      <td>4.000000</td>\n",
       "      <td>7.601902</td>\n",
       "      <td>2.000000</td>\n",
       "      <td>576.000000</td>\n",
       "      <td>1.386294</td>\n",
       "      <td>1.386294</td>\n",
       "      <td>5.129899</td>\n",
       "      <td>4.234107</td>\n",
       "      <td>0.000000</td>\n",
       "      <td>0.000000</td>\n",
       "      <td>0.000000</td>\n",
       "      <td>0.000000</td>\n",
       "      <td>0.000000</td>\n",
       "      <td>8.000000</td>\n",
       "      <td>2009.000000</td>\n",
       "      <td>214000.000000</td>\n",
       "      <td>3.737670</td>\n",
       "      <td>11.101757</td>\n",
       "      <td>1.609438</td>\n",
       "      <td>2.500000</td>\n",
       "      <td>9.616671</td>\n",
       "      <td>5.583496</td>\n",
       "      <td>7.481556</td>\n",
       "      <td>0.693147</td>\n",
       "      <td>7.000000</td>\n",
       "      <td>1.609438</td>\n",
       "      <td>4.007333</td>\n",
       "      <td>0.693147</td>\n",
       "      <td>8.553525</td>\n",
       "      <td>17.000000</td>\n",
       "    </tr>\n",
       "    <tr>\n",
       "      <th>max</th>\n",
       "      <td>10.308986</td>\n",
       "      <td>10.000000</td>\n",
       "      <td>2.302585</td>\n",
       "      <td>7.606387</td>\n",
       "      <td>7.606387</td>\n",
       "      <td>7.378384</td>\n",
       "      <td>1.791759</td>\n",
       "      <td>1.791759</td>\n",
       "      <td>1.791759</td>\n",
       "      <td>1.609438</td>\n",
       "      <td>7.691200</td>\n",
       "      <td>7.296413</td>\n",
       "      <td>7.756623</td>\n",
       "      <td>8.073091</td>\n",
       "      <td>1.791759</td>\n",
       "      <td>8.079928</td>\n",
       "      <td>7.633370</td>\n",
       "      <td>6.350886</td>\n",
       "      <td>8.406708</td>\n",
       "      <td>1.386294</td>\n",
       "      <td>1.098612</td>\n",
       "      <td>3.000000</td>\n",
       "      <td>1.098612</td>\n",
       "      <td>8.000000</td>\n",
       "      <td>1.386294</td>\n",
       "      <td>5.000000</td>\n",
       "      <td>2.708050</td>\n",
       "      <td>1.386294</td>\n",
       "      <td>5.000000</td>\n",
       "      <td>7.606387</td>\n",
       "      <td>4.000000</td>\n",
       "      <td>1390.000000</td>\n",
       "      <td>1.791759</td>\n",
       "      <td>1.791759</td>\n",
       "      <td>6.754604</td>\n",
       "      <td>6.306275</td>\n",
       "      <td>6.315358</td>\n",
       "      <td>6.232448</td>\n",
       "      <td>6.175867</td>\n",
       "      <td>6.605298</td>\n",
       "      <td>9.648660</td>\n",
       "      <td>12.000000</td>\n",
       "      <td>2010.000000</td>\n",
       "      <td>755000.000000</td>\n",
       "      <td>4.110874</td>\n",
       "      <td>12.690722</td>\n",
       "      <td>2.772589</td>\n",
       "      <td>3.500000</td>\n",
       "      <td>10.745292</td>\n",
       "      <td>6.935370</td>\n",
       "      <td>8.406708</td>\n",
       "      <td>1.386294</td>\n",
       "      <td>10.000000</td>\n",
       "      <td>2.302585</td>\n",
       "      <td>4.919981</td>\n",
       "      <td>0.693147</td>\n",
       "      <td>10.047631</td>\n",
       "      <td>25.000000</td>\n",
       "    </tr>\n",
       "  </tbody>\n",
       "</table>\n",
       "</div>"
      ],
      "text/plain": [
       "           LotArea  OverallQual  OverallCond    YearBuilt  YearRemodAdd  \\\n",
       "count  1458.000000  1458.000000  1458.000000  1458.000000   1458.000000   \n",
       "mean      9.100068     6.093964     1.869372     7.586796      7.593740   \n",
       "std       0.483175     1.376369     0.168491     0.015385      0.010422   \n",
       "min       7.170888     1.000000     0.693147     7.535297      7.576097   \n",
       "25%       8.928706     5.000000     1.791759     7.578145      7.584773   \n",
       "50%       9.156518     6.000000     1.791759     7.587564      7.598399   \n",
       "75%       9.358847     7.000000     1.945910     7.601402      7.603399   \n",
       "max      10.308986    10.000000     2.302585     7.606387      7.606387   \n",
       "\n",
       "        MasVnrArea    ExterQual    ExterCond     BsmtQual     BsmtCond  \\\n",
       "count  1458.000000  1458.000000  1458.000000  1458.000000  1458.000000   \n",
       "mean      2.114038     1.472124     1.403473     1.471885     1.351232   \n",
       "std       2.625175     0.125470     0.083384     0.279300     0.230240   \n",
       "min       0.000000     1.098612     0.693147     0.000000     0.000000   \n",
       "25%       0.000000     1.386294     1.386294     1.386294     1.386294   \n",
       "50%       0.000000     1.386294     1.386294     1.609438     1.386294   \n",
       "75%       5.104426     1.609438     1.386294     1.609438     1.386294   \n",
       "max       7.378384     1.791759     1.791759     1.791759     1.609438   \n",
       "\n",
       "        BsmtFinSF1   BsmtFinSF2    BsmtUnfSF  TotalBsmtSF    HeatingQC  \\\n",
       "count  1458.000000  1458.000000  1458.000000  1458.000000  1458.000000   \n",
       "mean      4.224311     0.656297     5.647261     6.748318     1.618549   \n",
       "std       2.990471     1.846151     1.855010     1.144830     0.201881   \n",
       "min       0.000000     0.000000     0.000000     0.000000     0.693147   \n",
       "25%       0.000000     0.000000     5.411646     6.679913     1.386294   \n",
       "50%       5.948032     0.000000     6.170651     6.899723     1.791759   \n",
       "75%       6.568075     0.000000     6.695799     7.168387     1.791759   \n",
       "max       7.691200     7.296413     7.756623     8.073091     1.791759   \n",
       "\n",
       "          1stFlrSF     2ndFlrSF  LowQualFinSF    GrLivArea  BsmtFullBath  \\\n",
       "count  1458.000000  1458.000000   1458.000000  1458.000000   1458.000000   \n",
       "mean      7.006746     2.858779      0.099951     7.266762      0.290565   \n",
       "std       0.314193     3.291819      0.747857     0.330142      0.349280   \n",
       "min       5.814131     0.000000      0.000000     5.814131      0.000000   \n",
       "25%       6.783325     0.000000      0.000000     7.029530      0.000000   \n",
       "50%       6.991177     0.000000      0.000000     7.287901      0.000000   \n",
       "75%       7.238317     6.591674      0.000000     7.482682      0.693147   \n",
       "max       8.079928     7.633370      6.350886     8.406708      1.386294   \n",
       "\n",
       "       BsmtHalfBath     FullBath     HalfBath  BedroomAbvGr  KitchenAbvGr  \\\n",
       "count   1458.000000  1458.000000  1458.000000   1458.000000   1458.000000   \n",
       "mean       0.039540     1.563786     0.262435      2.866255      0.711699   \n",
       "std        0.162704     0.549891     0.341731      0.816323      0.089326   \n",
       "min        0.000000     0.000000     0.000000      0.000000      0.000000   \n",
       "25%        0.000000     1.000000     0.000000      2.000000      0.693147   \n",
       "50%        0.000000     2.000000     0.000000      3.000000      0.693147   \n",
       "75%        0.000000     2.000000     0.693147      3.000000      0.693147   \n",
       "max        1.098612     3.000000     1.098612      8.000000      1.386294   \n",
       "\n",
       "       KitchenQual  TotRmsAbvGrd   Fireplaces  FireplaceQu  GarageYrBlt  \\\n",
       "count  1458.000000   1458.000000  1458.000000  1458.000000  1458.000000   \n",
       "mean      3.509602      1.993679     0.398997     1.822359     7.168809   \n",
       "std       0.661919      0.213483     0.394008     1.810325     1.739331   \n",
       "min       2.000000      1.098612     0.000000     0.000000     0.000000   \n",
       "25%       3.000000      1.791759     0.000000     0.000000     7.580189   \n",
       "50%       3.000000      1.945910     0.693147     2.000000     7.589842   \n",
       "75%       4.000000      2.079442     0.693147     4.000000     7.601902   \n",
       "max       5.000000      2.708050     1.386294     5.000000     7.606387   \n",
       "\n",
       "        GarageCars   GarageArea   GarageQual   GarageCond   WoodDeckSF  \\\n",
       "count  1458.000000  1458.000000  1458.000000  1458.000000  1458.000000   \n",
       "mean      1.766118   472.050069     1.301358     1.300978     2.453229   \n",
       "std       0.747104   212.239248     0.322729     0.323089     2.595991   \n",
       "min       0.000000     0.000000     0.000000     0.000000     0.000000   \n",
       "25%       1.000000   331.500000     1.386294     1.386294     0.000000   \n",
       "50%       2.000000   479.500000     1.386294     1.386294     0.000000   \n",
       "75%       2.000000   576.000000     1.386294     1.386294     5.129899   \n",
       "max       4.000000  1390.000000     1.791759     1.791759     6.754604   \n",
       "\n",
       "       OpenPorchSF  EnclosedPorch    3SsnPorch  ScreenPorch     PoolArea  \\\n",
       "count  1458.000000    1458.000000  1458.000000  1458.000000  1458.000000   \n",
       "mean      2.303690       0.698976     0.085796     0.411235     0.026237   \n",
       "std       2.149862       1.728308     0.667326     1.404074     0.408374   \n",
       "min       0.000000       0.000000     0.000000     0.000000     0.000000   \n",
       "25%       0.000000       0.000000     0.000000     0.000000     0.000000   \n",
       "50%       3.238486       0.000000     0.000000     0.000000     0.000000   \n",
       "75%       4.234107       0.000000     0.000000     0.000000     0.000000   \n",
       "max       6.306275       6.315358     6.232448     6.175867     6.605298   \n",
       "\n",
       "           MiscVal       MoSold       YrSold      SalePrice  \\\n",
       "count  1458.000000  1458.000000  1458.000000    1458.000000   \n",
       "mean      0.233776     6.323045  2007.816187  180932.919067   \n",
       "std       1.226840     2.700167     1.328826   79495.055285   \n",
       "min       0.000000     1.000000  2006.000000   34900.000000   \n",
       "25%       0.000000     5.000000  2007.000000  129925.000000   \n",
       "50%       0.000000     6.000000  2008.000000  163000.000000   \n",
       "75%       0.000000     8.000000  2009.000000  214000.000000   \n",
       "max       9.648660    12.000000  2010.000000  755000.000000   \n",
       "\n",
       "       yr_since_renovation     AreaQual  FireplaceQual         Bath  \\\n",
       "count          1458.000000  1458.000000    1458.000000  1458.000000   \n",
       "mean              2.576752    10.744729       0.826451     1.754801   \n",
       "std               1.286766     0.542929       0.812174     0.634509   \n",
       "min               0.000000     6.807935       0.000000     0.000000   \n",
       "25%               1.609438    10.414693       0.000000     1.000000   \n",
       "50%               2.708050    10.783134       1.098612     2.000000   \n",
       "75%               3.737670    11.101757       1.609438     2.500000   \n",
       "max               4.110874    12.690722       2.772589     3.500000   \n",
       "\n",
       "       BsmtQuCondSF  DeckPorchSF  TotalLivingSF     BsmtBath      ExterQC  \\\n",
       "count   1458.000000  1458.000000    1458.000000  1458.000000  1458.000000   \n",
       "mean       9.041563     4.246671       7.262974     0.312638     6.477366   \n",
       "std        1.540606     2.075330       0.330435     0.345777     0.673935   \n",
       "min        0.000000     0.000000       5.814131     0.000000     4.000000   \n",
       "25%        8.955738     3.828641       7.024871     0.000000     6.000000   \n",
       "50%        9.225672     5.105945       7.284821     0.000000     6.000000   \n",
       "75%        9.616671     5.583496       7.481556     0.693147     7.000000   \n",
       "max       10.745292     6.935370       8.406708     1.386294    10.000000   \n",
       "\n",
       "         KitchenQC     HouseAge     Finished     GarageQu  \\\n",
       "count  1458.000000  1458.000000  1458.000000  1458.000000   \n",
       "mean      1.520684     3.054231     0.634672     7.855410   \n",
       "std       0.176319     1.312660     0.192713     1.956664   \n",
       "min       0.000000     0.000000     0.000000     0.000000   \n",
       "25%       1.386294     2.197225     0.693147     7.940584   \n",
       "50%       1.609438     3.583519     0.693147     8.367068   \n",
       "75%       1.609438     4.007333     0.693147     8.553525   \n",
       "max       2.302585     4.919981     0.693147    10.047631   \n",
       "\n",
       "       neighborhoods_ordinal  \n",
       "count            1458.000000  \n",
       "mean               12.849108  \n",
       "std                 6.685031  \n",
       "min                 1.000000  \n",
       "25%                 7.000000  \n",
       "50%                13.000000  \n",
       "75%                17.000000  \n",
       "max                25.000000  "
      ]
     },
     "execution_count": 28,
     "metadata": {},
     "output_type": "execute_result"
    }
   ],
   "source": [
    "train.describe()"
   ]
  },
  {
   "cell_type": "markdown",
   "id": "7c47dcac",
   "metadata": {},
   "source": [
    "### Modeling"
   ]
  },
  {
   "cell_type": "code",
   "execution_count": 29,
   "id": "206252c2",
   "metadata": {},
   "outputs": [],
   "source": [
    "from catboost import Pool, CatBoostRegressor"
   ]
  },
  {
   "cell_type": "code",
   "execution_count": 30,
   "id": "c8313a0a",
   "metadata": {},
   "outputs": [],
   "source": [
    "from sklearn.model_selection import GridSearchCV\n",
    "from sklearn.metrics import mean_squared_error\n",
    "from sklearn.model_selection import train_test_split"
   ]
  },
  {
   "cell_type": "code",
   "execution_count": 31,
   "id": "cfa4b137",
   "metadata": {},
   "outputs": [],
   "source": [
    "def extract_cat_features(data):\n",
    "    cat_features = []\n",
    "    num_features = []\n",
    "    for i, col in enumerate(data.columns):\n",
    "        if data[col].dtype == 'object':\n",
    "            cat_features.append(col)\n",
    "        elif data[col].dtype == 'bool':\n",
    "            cat_features.append(col)\n",
    "        else:\n",
    "            num_features.append(col)\n",
    "    #cat_features.append('MSSubClass') #!! is numeric but represents categories\n",
    "    return cat_features, num_features"
   ]
  },
  {
   "cell_type": "code",
   "execution_count": 32,
   "id": "c8cc6b96",
   "metadata": {},
   "outputs": [],
   "source": [
    "def prepare_and_split_data(input_data, test_size=0):\n",
    "    data = input_data.copy()\n",
    "    for col in data.columns:\n",
    "        if data[col].dtype == 'object':\n",
    "            data[col].fillna('N_A', inplace=True)\n",
    "        else:\n",
    "            data[col].fillna(0, inplace=True)\n",
    "    X = data.drop('SalePrice', axis=1)\n",
    "    y = data['SalePrice']\n",
    "    if test_size > 0:\n",
    "        X_train, X_test, y_train, y_test = train_test_split(X, y, test_size=test_size, random_state=42)\n",
    "        return X_train, X_test, y_train, y_test\n",
    "    else:\n",
    "        return X, y"
   ]
  },
  {
   "cell_type": "code",
   "execution_count": 33,
   "id": "889d71fa",
   "metadata": {},
   "outputs": [],
   "source": [
    "cat_features, num_features = extract_cat_features(train)"
   ]
  },
  {
   "cell_type": "code",
   "execution_count": 96,
   "id": "fa26ed6d",
   "metadata": {},
   "outputs": [],
   "source": [
    "X_train, X_test, y_train, y_test = prepare_and_split_data(train, test_size=.05)"
   ]
  },
  {
   "cell_type": "code",
   "execution_count": 119,
   "id": "fd62416f",
   "metadata": {},
   "outputs": [
    {
     "name": "stdout",
     "output_type": "stream",
     "text": [
      "0:\tlearn: 51946.4006651\ttotal: 3.05ms\tremaining: 1.83s\n",
      "100:\tlearn: 10908.7575828\ttotal: 138ms\tremaining: 683ms\n",
      "200:\tlearn: 8396.5740407\ttotal: 265ms\tremaining: 526ms\n",
      "300:\tlearn: 7213.0915655\ttotal: 392ms\tremaining: 390ms\n",
      "400:\tlearn: 6492.3189427\ttotal: 517ms\tremaining: 257ms\n",
      "500:\tlearn: 5977.6139292\ttotal: 643ms\tremaining: 127ms\n",
      "599:\tlearn: 5624.6499051\ttotal: 767ms\tremaining: 0us\n"
     ]
    },
    {
     "data": {
      "text/plain": [
       "16539.741529362498"
      ]
     },
     "execution_count": 119,
     "metadata": {},
     "output_type": "execute_result"
    }
   ],
   "source": [
    "# initialize Pool\n",
    "train_pool = Pool(X_train, \n",
    "                  y_train, \n",
    "                  cat_features=cat_features)\n",
    "\n",
    "#test_pool = Pool(test, \n",
    "#                 cat_features=cat_features) \n",
    "\n",
    "eval_pool = Pool(X_test, \n",
    "                 y_test, \n",
    "                 cat_features=cat_features)\n",
    "\n",
    "# specify the training parameters \n",
    "model = CatBoostRegressor(iterations=600, \n",
    "                          depth=5, \n",
    "                          learning_rate=0.1, \n",
    "                          loss_function='MAE',\n",
    "                          l2_leaf_reg=8,\n",
    "                          one_hot_max_size=30,\n",
    "                          random_state=42,\n",
    "                          random_strength=1,\n",
    "                          \n",
    "                          #ignored_features=ignored_features,\n",
    "                          \n",
    "                          verbose=100\n",
    "                          )\n",
    "#train the model\n",
    "model.fit(train_pool)#, eval_set=eval_pool)#, early_stopping_rounds=20)\n",
    "# make the prediction using the resulting model\n",
    "preds = model.predict(eval_pool)\n",
    "np.sqrt(mean_squared_error(preds, y_test))"
   ]
  },
  {
   "cell_type": "code",
   "execution_count": 120,
   "id": "fa2a1312",
   "metadata": {},
   "outputs": [
    {
     "data": {
      "text/plain": [
       "16539.741529362498"
      ]
     },
     "execution_count": 120,
     "metadata": {},
     "output_type": "execute_result"
    }
   ],
   "source": [
    "np.sqrt(mean_squared_error(preds, y_test))"
   ]
  },
  {
   "cell_type": "code",
   "execution_count": 113,
   "id": "848ab9a1",
   "metadata": {},
   "outputs": [],
   "source": [
    "from sklearn.metrics import r2_score\n",
    "from sklearn.metrics import mean_squared_log_error"
   ]
  },
  {
   "cell_type": "code",
   "execution_count": 114,
   "id": "cc6e9eae",
   "metadata": {},
   "outputs": [
    {
     "data": {
      "text/plain": [
       "0.09582376563877108"
      ]
     },
     "execution_count": 114,
     "metadata": {},
     "output_type": "execute_result"
    }
   ],
   "source": [
    "np.sqrt(mean_squared_log_error(preds, y_test))"
   ]
  },
  {
   "cell_type": "code",
   "execution_count": 110,
   "id": "b48a519b",
   "metadata": {},
   "outputs": [
    {
     "data": {
      "text/plain": [
       "0.9408444053549303"
      ]
     },
     "execution_count": 110,
     "metadata": {},
     "output_type": "execute_result"
    }
   ],
   "source": [
    "r2_score(preds, y_test)"
   ]
  },
  {
   "cell_type": "code",
   "execution_count": 40,
   "id": "46f07fdc",
   "metadata": {},
   "outputs": [
    {
     "data": {
      "text/plain": [
       "1182   -157292.645150\n",
       "218     -68013.544914\n",
       "426     -61031.203324\n",
       "451     -38366.922318\n",
       "231     -38254.509303\n",
       "            ...      \n",
       "477      45124.209005\n",
       "1322     45815.040757\n",
       "716      54480.300137\n",
       "70       56534.832127\n",
       "529      68774.057999\n",
       "Name: SalePrice, Length: 365, dtype: float64"
      ]
     },
     "execution_count": 40,
     "metadata": {},
     "output_type": "execute_result"
    }
   ],
   "source": [
    "pd.Series((preds - y_test).sort_values(ascending=True))"
   ]
  },
  {
   "cell_type": "code",
   "execution_count": 41,
   "id": "d1e06f40",
   "metadata": {},
   "outputs": [
    {
     "data": {
      "text/plain": [
       "<matplotlib.lines.Line2D at 0x1853c12d0>"
      ]
     },
     "execution_count": 41,
     "metadata": {},
     "output_type": "execute_result"
    },
    {
     "data": {
      "image/png": "[encoded data removed]",
      "text/plain": [
       "<Figure size 2000x1000 with 1 Axes>"
      ]
     },
     "metadata": {},
     "output_type": "display_data"
    }
   ],
   "source": [
    "plt.figure(figsize=(20,10))\n",
    "plt.scatter(range(len(preds)), (preds - y_test))\n",
    "plt.axhline(0, c='r')\n",
    "plt.axhline(20000, c='g')\n",
    "plt.axhline(-20000, c='g')"
   ]
  },
  {
   "cell_type": "code",
   "execution_count": 42,
   "id": "59c8a192",
   "metadata": {
    "scrolled": false
   },
   "outputs": [
    {
     "data": {
      "text/html": [
       "<div>\n",
       "<style scoped>\n",
       "    .dataframe tbody tr th:only-of-type {\n",
       "        vertical-align: middle;\n",
       "    }\n",
       "\n",
       "    .dataframe tbody tr th {\n",
       "        vertical-align: top;\n",
       "    }\n",
       "\n",
       "    .dataframe thead th {\n",
       "        text-align: right;\n",
       "    }\n",
       "</style>\n",
       "<table border=\"1\" class=\"dataframe\">\n",
       "  <thead>\n",
       "    <tr style=\"text-align: right;\">\n",
       "      <th></th>\n",
       "      <th>Feature Id</th>\n",
       "      <th>Importances</th>\n",
       "    </tr>\n",
       "  </thead>\n",
       "  <tbody>\n",
       "    <tr>\n",
       "      <th>0</th>\n",
       "      <td>AreaQual</td>\n",
       "      <td>12.816932</td>\n",
       "    </tr>\n",
       "    <tr>\n",
       "      <th>1</th>\n",
       "      <td>neighborhoods_ordinal</td>\n",
       "      <td>8.247640</td>\n",
       "    </tr>\n",
       "    <tr>\n",
       "      <th>2</th>\n",
       "      <td>TotalLivingSF</td>\n",
       "      <td>6.040752</td>\n",
       "    </tr>\n",
       "    <tr>\n",
       "      <th>3</th>\n",
       "      <td>LotArea</td>\n",
       "      <td>5.272880</td>\n",
       "    </tr>\n",
       "    <tr>\n",
       "      <th>4</th>\n",
       "      <td>BsmtQuCondSF</td>\n",
       "      <td>4.387120</td>\n",
       "    </tr>\n",
       "    <tr>\n",
       "      <th>5</th>\n",
       "      <td>TotalBsmtSF</td>\n",
       "      <td>4.227474</td>\n",
       "    </tr>\n",
       "    <tr>\n",
       "      <th>6</th>\n",
       "      <td>OverallQual</td>\n",
       "      <td>3.889731</td>\n",
       "    </tr>\n",
       "    <tr>\n",
       "      <th>7</th>\n",
       "      <td>1stFlrSF</td>\n",
       "      <td>3.533523</td>\n",
       "    </tr>\n",
       "    <tr>\n",
       "      <th>8</th>\n",
       "      <td>HouseAge</td>\n",
       "      <td>3.251758</td>\n",
       "    </tr>\n",
       "    <tr>\n",
       "      <th>9</th>\n",
       "      <td>DeckPorchSF</td>\n",
       "      <td>2.851781</td>\n",
       "    </tr>\n",
       "    <tr>\n",
       "      <th>10</th>\n",
       "      <td>KitchenQual</td>\n",
       "      <td>2.846137</td>\n",
       "    </tr>\n",
       "    <tr>\n",
       "      <th>11</th>\n",
       "      <td>GrLivArea</td>\n",
       "      <td>2.722174</td>\n",
       "    </tr>\n",
       "    <tr>\n",
       "      <th>12</th>\n",
       "      <td>BsmtFinSF1</td>\n",
       "      <td>2.187479</td>\n",
       "    </tr>\n",
       "    <tr>\n",
       "      <th>13</th>\n",
       "      <td>FireplaceQu</td>\n",
       "      <td>2.147785</td>\n",
       "    </tr>\n",
       "    <tr>\n",
       "      <th>14</th>\n",
       "      <td>GarageCars</td>\n",
       "      <td>2.069582</td>\n",
       "    </tr>\n",
       "    <tr>\n",
       "      <th>15</th>\n",
       "      <td>HalfBath</td>\n",
       "      <td>1.814445</td>\n",
       "    </tr>\n",
       "    <tr>\n",
       "      <th>16</th>\n",
       "      <td>ExterQual</td>\n",
       "      <td>1.786035</td>\n",
       "    </tr>\n",
       "    <tr>\n",
       "      <th>17</th>\n",
       "      <td>2ndFlrSF</td>\n",
       "      <td>1.739541</td>\n",
       "    </tr>\n",
       "    <tr>\n",
       "      <th>18</th>\n",
       "      <td>GarageArea</td>\n",
       "      <td>1.669103</td>\n",
       "    </tr>\n",
       "    <tr>\n",
       "      <th>19</th>\n",
       "      <td>BsmtFullBath</td>\n",
       "      <td>1.516885</td>\n",
       "    </tr>\n",
       "    <tr>\n",
       "      <th>20</th>\n",
       "      <td>YearBuilt</td>\n",
       "      <td>1.507994</td>\n",
       "    </tr>\n",
       "    <tr>\n",
       "      <th>21</th>\n",
       "      <td>GarageYrBlt</td>\n",
       "      <td>1.340314</td>\n",
       "    </tr>\n",
       "    <tr>\n",
       "      <th>22</th>\n",
       "      <td>FireplaceQual</td>\n",
       "      <td>1.298146</td>\n",
       "    </tr>\n",
       "    <tr>\n",
       "      <th>23</th>\n",
       "      <td>BsmtUnfSF</td>\n",
       "      <td>1.292770</td>\n",
       "    </tr>\n",
       "    <tr>\n",
       "      <th>24</th>\n",
       "      <td>yr_since_renovation</td>\n",
       "      <td>1.105592</td>\n",
       "    </tr>\n",
       "    <tr>\n",
       "      <th>25</th>\n",
       "      <td>GarageQu</td>\n",
       "      <td>1.066124</td>\n",
       "    </tr>\n",
       "    <tr>\n",
       "      <th>26</th>\n",
       "      <td>FullBath</td>\n",
       "      <td>0.948410</td>\n",
       "    </tr>\n",
       "    <tr>\n",
       "      <th>27</th>\n",
       "      <td>GarageFinish</td>\n",
       "      <td>0.915242</td>\n",
       "    </tr>\n",
       "    <tr>\n",
       "      <th>28</th>\n",
       "      <td>YearRemodAdd</td>\n",
       "      <td>0.899991</td>\n",
       "    </tr>\n",
       "    <tr>\n",
       "      <th>29</th>\n",
       "      <td>BsmtQual</td>\n",
       "      <td>0.833473</td>\n",
       "    </tr>\n",
       "    <tr>\n",
       "      <th>30</th>\n",
       "      <td>BsmtExposure</td>\n",
       "      <td>0.827214</td>\n",
       "    </tr>\n",
       "    <tr>\n",
       "      <th>31</th>\n",
       "      <td>LotConfig</td>\n",
       "      <td>0.818082</td>\n",
       "    </tr>\n",
       "    <tr>\n",
       "      <th>32</th>\n",
       "      <td>BsmtFinType1</td>\n",
       "      <td>0.733058</td>\n",
       "    </tr>\n",
       "    <tr>\n",
       "      <th>33</th>\n",
       "      <td>SaleCondition</td>\n",
       "      <td>0.662450</td>\n",
       "    </tr>\n",
       "    <tr>\n",
       "      <th>34</th>\n",
       "      <td>MasVnrArea</td>\n",
       "      <td>0.644827</td>\n",
       "    </tr>\n",
       "    <tr>\n",
       "      <th>35</th>\n",
       "      <td>Bath</td>\n",
       "      <td>0.643162</td>\n",
       "    </tr>\n",
       "    <tr>\n",
       "      <th>36</th>\n",
       "      <td>BsmtBath</td>\n",
       "      <td>0.622655</td>\n",
       "    </tr>\n",
       "    <tr>\n",
       "      <th>37</th>\n",
       "      <td>Exterior1st</td>\n",
       "      <td>0.516386</td>\n",
       "    </tr>\n",
       "    <tr>\n",
       "      <th>38</th>\n",
       "      <td>Foundation</td>\n",
       "      <td>0.488291</td>\n",
       "    </tr>\n",
       "    <tr>\n",
       "      <th>39</th>\n",
       "      <td>PavedDrive</td>\n",
       "      <td>0.478870</td>\n",
       "    </tr>\n",
       "    <tr>\n",
       "      <th>40</th>\n",
       "      <td>OpenPorchSF</td>\n",
       "      <td>0.477131</td>\n",
       "    </tr>\n",
       "    <tr>\n",
       "      <th>41</th>\n",
       "      <td>Condition1</td>\n",
       "      <td>0.468289</td>\n",
       "    </tr>\n",
       "    <tr>\n",
       "      <th>42</th>\n",
       "      <td>WoodDeckSF</td>\n",
       "      <td>0.459515</td>\n",
       "    </tr>\n",
       "    <tr>\n",
       "      <th>43</th>\n",
       "      <td>MoSold</td>\n",
       "      <td>0.397015</td>\n",
       "    </tr>\n",
       "    <tr>\n",
       "      <th>44</th>\n",
       "      <td>OverallCond</td>\n",
       "      <td>0.372676</td>\n",
       "    </tr>\n",
       "    <tr>\n",
       "      <th>45</th>\n",
       "      <td>Fireplaces</td>\n",
       "      <td>0.368270</td>\n",
       "    </tr>\n",
       "    <tr>\n",
       "      <th>46</th>\n",
       "      <td>GarageQual</td>\n",
       "      <td>0.336829</td>\n",
       "    </tr>\n",
       "    <tr>\n",
       "      <th>47</th>\n",
       "      <td>LandSlope</td>\n",
       "      <td>0.328258</td>\n",
       "    </tr>\n",
       "    <tr>\n",
       "      <th>48</th>\n",
       "      <td>GarageType</td>\n",
       "      <td>0.321560</td>\n",
       "    </tr>\n",
       "    <tr>\n",
       "      <th>49</th>\n",
       "      <td>BedroomAbvGr</td>\n",
       "      <td>0.307021</td>\n",
       "    </tr>\n",
       "    <tr>\n",
       "      <th>50</th>\n",
       "      <td>Functional</td>\n",
       "      <td>0.266197</td>\n",
       "    </tr>\n",
       "    <tr>\n",
       "      <th>51</th>\n",
       "      <td>Exterior2nd</td>\n",
       "      <td>0.251740</td>\n",
       "    </tr>\n",
       "    <tr>\n",
       "      <th>52</th>\n",
       "      <td>YrSold</td>\n",
       "      <td>0.249063</td>\n",
       "    </tr>\n",
       "    <tr>\n",
       "      <th>53</th>\n",
       "      <td>GarageCond</td>\n",
       "      <td>0.248387</td>\n",
       "    </tr>\n",
       "    <tr>\n",
       "      <th>54</th>\n",
       "      <td>HeatingQC</td>\n",
       "      <td>0.216090</td>\n",
       "    </tr>\n",
       "    <tr>\n",
       "      <th>55</th>\n",
       "      <td>TotRmsAbvGrd</td>\n",
       "      <td>0.207130</td>\n",
       "    </tr>\n",
       "    <tr>\n",
       "      <th>56</th>\n",
       "      <td>EnclosedPorch</td>\n",
       "      <td>0.193289</td>\n",
       "    </tr>\n",
       "    <tr>\n",
       "      <th>57</th>\n",
       "      <td>RoofStyle</td>\n",
       "      <td>0.187908</td>\n",
       "    </tr>\n",
       "    <tr>\n",
       "      <th>58</th>\n",
       "      <td>ScreenPorch</td>\n",
       "      <td>0.171207</td>\n",
       "    </tr>\n",
       "    <tr>\n",
       "      <th>59</th>\n",
       "      <td>BsmtFinSF2</td>\n",
       "      <td>0.149610</td>\n",
       "    </tr>\n",
       "    <tr>\n",
       "      <th>60</th>\n",
       "      <td>RoofMatl</td>\n",
       "      <td>0.136850</td>\n",
       "    </tr>\n",
       "    <tr>\n",
       "      <th>61</th>\n",
       "      <td>LotShape</td>\n",
       "      <td>0.122061</td>\n",
       "    </tr>\n",
       "    <tr>\n",
       "      <th>62</th>\n",
       "      <td>BsmtCond</td>\n",
       "      <td>0.117513</td>\n",
       "    </tr>\n",
       "    <tr>\n",
       "      <th>63</th>\n",
       "      <td>MasVnrType</td>\n",
       "      <td>0.110575</td>\n",
       "    </tr>\n",
       "    <tr>\n",
       "      <th>64</th>\n",
       "      <td>KitchenQC</td>\n",
       "      <td>0.105439</td>\n",
       "    </tr>\n",
       "    <tr>\n",
       "      <th>65</th>\n",
       "      <td>HouseStyle</td>\n",
       "      <td>0.102140</td>\n",
       "    </tr>\n",
       "    <tr>\n",
       "      <th>66</th>\n",
       "      <td>CentralAir</td>\n",
       "      <td>0.083450</td>\n",
       "    </tr>\n",
       "    <tr>\n",
       "      <th>67</th>\n",
       "      <td>BldgType</td>\n",
       "      <td>0.079557</td>\n",
       "    </tr>\n",
       "    <tr>\n",
       "      <th>68</th>\n",
       "      <td>BsmtFinType2</td>\n",
       "      <td>0.071182</td>\n",
       "    </tr>\n",
       "    <tr>\n",
       "      <th>69</th>\n",
       "      <td>ExterQC</td>\n",
       "      <td>0.063716</td>\n",
       "    </tr>\n",
       "    <tr>\n",
       "      <th>70</th>\n",
       "      <td>SaleType</td>\n",
       "      <td>0.061610</td>\n",
       "    </tr>\n",
       "    <tr>\n",
       "      <th>71</th>\n",
       "      <td>BsmtHalfBath</td>\n",
       "      <td>0.049009</td>\n",
       "    </tr>\n",
       "    <tr>\n",
       "      <th>72</th>\n",
       "      <td>KitchenAbvGr</td>\n",
       "      <td>0.043634</td>\n",
       "    </tr>\n",
       "    <tr>\n",
       "      <th>73</th>\n",
       "      <td>3SsnPorch</td>\n",
       "      <td>0.042886</td>\n",
       "    </tr>\n",
       "    <tr>\n",
       "      <th>74</th>\n",
       "      <td>LandContour</td>\n",
       "      <td>0.042752</td>\n",
       "    </tr>\n",
       "    <tr>\n",
       "      <th>75</th>\n",
       "      <td>LowQualFinSF</td>\n",
       "      <td>0.037897</td>\n",
       "    </tr>\n",
       "    <tr>\n",
       "      <th>76</th>\n",
       "      <td>Fence</td>\n",
       "      <td>0.023544</td>\n",
       "    </tr>\n",
       "    <tr>\n",
       "      <th>77</th>\n",
       "      <td>Electrical</td>\n",
       "      <td>0.018399</td>\n",
       "    </tr>\n",
       "    <tr>\n",
       "      <th>78</th>\n",
       "      <td>Alley</td>\n",
       "      <td>0.009752</td>\n",
       "    </tr>\n",
       "    <tr>\n",
       "      <th>79</th>\n",
       "      <td>Street</td>\n",
       "      <td>0.008935</td>\n",
       "    </tr>\n",
       "    <tr>\n",
       "      <th>80</th>\n",
       "      <td>ExterCond</td>\n",
       "      <td>0.008555</td>\n",
       "    </tr>\n",
       "    <tr>\n",
       "      <th>81</th>\n",
       "      <td>MiscVal</td>\n",
       "      <td>0.008492</td>\n",
       "    </tr>\n",
       "    <tr>\n",
       "      <th>82</th>\n",
       "      <td>Heating</td>\n",
       "      <td>0.007376</td>\n",
       "    </tr>\n",
       "    <tr>\n",
       "      <th>83</th>\n",
       "      <td>Finished</td>\n",
       "      <td>0.002975</td>\n",
       "    </tr>\n",
       "    <tr>\n",
       "      <th>84</th>\n",
       "      <td>PoolArea</td>\n",
       "      <td>0.002152</td>\n",
       "    </tr>\n",
       "    <tr>\n",
       "      <th>85</th>\n",
       "      <td>Condition2</td>\n",
       "      <td>0.000287</td>\n",
       "    </tr>\n",
       "    <tr>\n",
       "      <th>86</th>\n",
       "      <td>MiscFeature</td>\n",
       "      <td>0.000271</td>\n",
       "    </tr>\n",
       "    <tr>\n",
       "      <th>87</th>\n",
       "      <td>Utilities</td>\n",
       "      <td>0.000000</td>\n",
       "    </tr>\n",
       "    <tr>\n",
       "      <th>88</th>\n",
       "      <td>PoolQC</td>\n",
       "      <td>0.000000</td>\n",
       "    </tr>\n",
       "  </tbody>\n",
       "</table>\n",
       "</div>"
      ],
      "text/plain": [
       "               Feature Id  Importances\n",
       "0                AreaQual    12.816932\n",
       "1   neighborhoods_ordinal     8.247640\n",
       "2           TotalLivingSF     6.040752\n",
       "3                 LotArea     5.272880\n",
       "4            BsmtQuCondSF     4.387120\n",
       "5             TotalBsmtSF     4.227474\n",
       "6             OverallQual     3.889731\n",
       "7                1stFlrSF     3.533523\n",
       "8                HouseAge     3.251758\n",
       "9             DeckPorchSF     2.851781\n",
       "10            KitchenQual     2.846137\n",
       "11              GrLivArea     2.722174\n",
       "12             BsmtFinSF1     2.187479\n",
       "13            FireplaceQu     2.147785\n",
       "14             GarageCars     2.069582\n",
       "15               HalfBath     1.814445\n",
       "16              ExterQual     1.786035\n",
       "17               2ndFlrSF     1.739541\n",
       "18             GarageArea     1.669103\n",
       "19           BsmtFullBath     1.516885\n",
       "20              YearBuilt     1.507994\n",
       "21            GarageYrBlt     1.340314\n",
       "22          FireplaceQual     1.298146\n",
       "23              BsmtUnfSF     1.292770\n",
       "24    yr_since_renovation     1.105592\n",
       "25               GarageQu     1.066124\n",
       "26               FullBath     0.948410\n",
       "27           GarageFinish     0.915242\n",
       "28           YearRemodAdd     0.899991\n",
       "29               BsmtQual     0.833473\n",
       "30           BsmtExposure     0.827214\n",
       "31              LotConfig     0.818082\n",
       "32           BsmtFinType1     0.733058\n",
       "33          SaleCondition     0.662450\n",
       "34             MasVnrArea     0.644827\n",
       "35                   Bath     0.643162\n",
       "36               BsmtBath     0.622655\n",
       "37            Exterior1st     0.516386\n",
       "38             Foundation     0.488291\n",
       "39             PavedDrive     0.478870\n",
       "40            OpenPorchSF     0.477131\n",
       "41             Condition1     0.468289\n",
       "42             WoodDeckSF     0.459515\n",
       "43                 MoSold     0.397015\n",
       "44            OverallCond     0.372676\n",
       "45             Fireplaces     0.368270\n",
       "46             GarageQual     0.336829\n",
       "47              LandSlope     0.328258\n",
       "48             GarageType     0.321560\n",
       "49           BedroomAbvGr     0.307021\n",
       "50             Functional     0.266197\n",
       "51            Exterior2nd     0.251740\n",
       "52                 YrSold     0.249063\n",
       "53             GarageCond     0.248387\n",
       "54              HeatingQC     0.216090\n",
       "55           TotRmsAbvGrd     0.207130\n",
       "56          EnclosedPorch     0.193289\n",
       "57              RoofStyle     0.187908\n",
       "58            ScreenPorch     0.171207\n",
       "59             BsmtFinSF2     0.149610\n",
       "60               RoofMatl     0.136850\n",
       "61               LotShape     0.122061\n",
       "62               BsmtCond     0.117513\n",
       "63             MasVnrType     0.110575\n",
       "64              KitchenQC     0.105439\n",
       "65             HouseStyle     0.102140\n",
       "66             CentralAir     0.083450\n",
       "67               BldgType     0.079557\n",
       "68           BsmtFinType2     0.071182\n",
       "69                ExterQC     0.063716\n",
       "70               SaleType     0.061610\n",
       "71           BsmtHalfBath     0.049009\n",
       "72           KitchenAbvGr     0.043634\n",
       "73              3SsnPorch     0.042886\n",
       "74            LandContour     0.042752\n",
       "75           LowQualFinSF     0.037897\n",
       "76                  Fence     0.023544\n",
       "77             Electrical     0.018399\n",
       "78                  Alley     0.009752\n",
       "79                 Street     0.008935\n",
       "80              ExterCond     0.008555\n",
       "81                MiscVal     0.008492\n",
       "82                Heating     0.007376\n",
       "83               Finished     0.002975\n",
       "84               PoolArea     0.002152\n",
       "85             Condition2     0.000287\n",
       "86            MiscFeature     0.000271\n",
       "87              Utilities     0.000000\n",
       "88                 PoolQC     0.000000"
      ]
     },
     "execution_count": 42,
     "metadata": {},
     "output_type": "execute_result"
    }
   ],
   "source": [
    "model.get_feature_importance(prettified=True)"
   ]
  },
  {
   "cell_type": "code",
   "execution_count": null,
   "id": "205108f6",
   "metadata": {},
   "outputs": [],
   "source": []
  },
  {
   "cell_type": "code",
   "execution_count": null,
   "id": "461d585f",
   "metadata": {},
   "outputs": [],
   "source": []
  },
  {
   "cell_type": "code",
   "execution_count": null,
   "id": "15db1f13",
   "metadata": {},
   "outputs": [],
   "source": []
  },
  {
   "cell_type": "code",
   "execution_count": null,
   "id": "e689ea85",
   "metadata": {},
   "outputs": [],
   "source": []
  },
  {
   "cell_type": "code",
   "execution_count": null,
   "id": "a7428a2d",
   "metadata": {},
   "outputs": [],
   "source": []
  },
  {
   "cell_type": "code",
   "execution_count": 43,
   "id": "dde746ec",
   "metadata": {},
   "outputs": [],
   "source": [
    "from sklearn.preprocessing import OneHotEncoder, StandardScaler\n"
   ]
  },
  {
   "cell_type": "code",
   "execution_count": 44,
   "id": "936ebbbc",
   "metadata": {},
   "outputs": [],
   "source": [
    "def data_preprocessing(data_train, test_size=.25):\n",
    "    X_train, X_test, y_train, y_test = train_test_split(data_train.drop('SalePrice', axis=1), \n",
    "                                                        data_train['SalePrice'], \n",
    "                                                        test_size=test_size, \n",
    "                                                        random_state=42)\n",
    "    categories = []\n",
    "    for col in data_train.columns:\n",
    "        if data_train[col].dtype == 'object':\n",
    "            categories.append(col)\n",
    "    ohe = OneHotEncoder(handle_unknown='infrequent_if_exist')\n",
    "    ohe.fit(X_train[categories])\n",
    "    cat_features_df = pd.DataFrame(ohe.transform(X_train[categories]).toarray(), \n",
    "                                   index=X_train.index, \n",
    "                                   columns=ohe.get_feature_names_out())\n",
    "    X_train.drop(categories, axis=1, inplace=True)\n",
    "    X = X_train.join(cat_features_df)\n",
    "    test_cat_features_df = pd.DataFrame(ohe.transform(X_test[categories]).toarray(), \n",
    "                                        index=X_test.index, \n",
    "                                        columns=ohe.get_feature_names_out())\n",
    "    X_test.drop(categories, axis=1, inplace=True)\n",
    "    X_t = X_test.join(test_cat_features_df)\n",
    "    return X, X_t, y_train, y_test"
   ]
  },
  {
   "cell_type": "code",
   "execution_count": 45,
   "id": "e8153bea",
   "metadata": {},
   "outputs": [],
   "source": [
    "X_train1, X_test1, y_train1, y_test1 = data_preprocessing(train[num_features], test_size=.25)"
   ]
  },
  {
   "cell_type": "code",
   "execution_count": 46,
   "id": "0fd4fd80",
   "metadata": {},
   "outputs": [],
   "source": [
    "from sklearn.preprocessing import RobustScaler"
   ]
  },
  {
   "cell_type": "code",
   "execution_count": 47,
   "id": "e2aeb926",
   "metadata": {},
   "outputs": [],
   "source": [
    "#scaler = RobustScaler()\n",
    "scaler = StandardScaler()"
   ]
  },
  {
   "cell_type": "code",
   "execution_count": 48,
   "id": "87ff6f5a",
   "metadata": {},
   "outputs": [
    {
     "data": {
      "text/html": [
       "<style>#sk-container-id-1 {color: black;background-color: white;}#sk-container-id-1 pre{padding: 0;}#sk-container-id-1 div.sk-toggleable {background-color: white;}#sk-container-id-1 label.sk-toggleable__label {cursor: pointer;display: block;width: 100%;margin-bottom: 0;padding: 0.3em;box-sizing: border-box;text-align: center;}#sk-container-id-1 label.sk-toggleable__label-arrow:before {content: \"▸\";float: left;margin-right: 0.25em;color: #696969;}#sk-container-id-1 label.sk-toggleable__label-arrow:hover:before {color: black;}#sk-container-id-1 div.sk-estimator:hover label.sk-toggleable__label-arrow:before {color: black;}#sk-container-id-1 div.sk-toggleable__content {max-height: 0;max-width: 0;overflow: hidden;text-align: left;background-color: #f0f8ff;}#sk-container-id-1 div.sk-toggleable__content pre {margin: 0.2em;color: black;border-radius: 0.25em;background-color: #f0f8ff;}#sk-container-id-1 input.sk-toggleable__control:checked~div.sk-toggleable__content {max-height: 200px;max-width: 100%;overflow: auto;}#sk-container-id-1 input.sk-toggleable__control:checked~label.sk-toggleable__label-arrow:before {content: \"▾\";}#sk-container-id-1 div.sk-estimator input.sk-toggleable__control:checked~label.sk-toggleable__label {background-color: #d4ebff;}#sk-container-id-1 div.sk-label input.sk-toggleable__control:checked~label.sk-toggleable__label {background-color: #d4ebff;}#sk-container-id-1 input.sk-hidden--visually {border: 0;clip: rect(1px 1px 1px 1px);clip: rect(1px, 1px, 1px, 1px);height: 1px;margin: -1px;overflow: hidden;padding: 0;position: absolute;width: 1px;}#sk-container-id-1 div.sk-estimator {font-family: monospace;background-color: #f0f8ff;border: 1px dotted black;border-radius: 0.25em;box-sizing: border-box;margin-bottom: 0.5em;}#sk-container-id-1 div.sk-estimator:hover {background-color: #d4ebff;}#sk-container-id-1 div.sk-parallel-item::after {content: \"\";width: 100%;border-bottom: 1px solid gray;flex-grow: 1;}#sk-container-id-1 div.sk-label:hover label.sk-toggleable__label {background-color: #d4ebff;}#sk-container-id-1 div.sk-serial::before {content: \"\";position: absolute;border-left: 1px solid gray;box-sizing: border-box;top: 0;bottom: 0;left: 50%;z-index: 0;}#sk-container-id-1 div.sk-serial {display: flex;flex-direction: column;align-items: center;background-color: white;padding-right: 0.2em;padding-left: 0.2em;position: relative;}#sk-container-id-1 div.sk-item {position: relative;z-index: 1;}#sk-container-id-1 div.sk-parallel {display: flex;align-items: stretch;justify-content: center;background-color: white;position: relative;}#sk-container-id-1 div.sk-item::before, #sk-container-id-1 div.sk-parallel-item::before {content: \"\";position: absolute;border-left: 1px solid gray;box-sizing: border-box;top: 0;bottom: 0;left: 50%;z-index: -1;}#sk-container-id-1 div.sk-parallel-item {display: flex;flex-direction: column;z-index: 1;position: relative;background-color: white;}#sk-container-id-1 div.sk-parallel-item:first-child::after {align-self: flex-end;width: 50%;}#sk-container-id-1 div.sk-parallel-item:last-child::after {align-self: flex-start;width: 50%;}#sk-container-id-1 div.sk-parallel-item:only-child::after {width: 0;}#sk-container-id-1 div.sk-dashed-wrapped {border: 1px dashed gray;margin: 0 0.4em 0.5em 0.4em;box-sizing: border-box;padding-bottom: 0.4em;background-color: white;}#sk-container-id-1 div.sk-label label {font-family: monospace;font-weight: bold;display: inline-block;line-height: 1.2em;}#sk-container-id-1 div.sk-label-container {text-align: center;}#sk-container-id-1 div.sk-container {/* jupyter's `normalize.less` sets `[hidden] { display: none; }` but bootstrap.min.css set `[hidden] { display: none !important; }` so we also need the `!important` here to be able to override the default hidden behavior on the sphinx rendered scikit-learn.org. See: https://github.com/scikit-learn/scikit-learn/issues/21755 */display: inline-block !important;position: relative;}#sk-container-id-1 div.sk-text-repr-fallback {display: none;}</style><div id=\"sk-container-id-1\" class=\"sk-top-container\"><div class=\"sk-text-repr-fallback\"><pre>StandardScaler()</pre><b>In a Jupyter environment, please rerun this cell to show the HTML representation or trust the notebook. <br />On GitHub, the HTML representation is unable to render, please try loading this page with nbviewer.org.</b></div><div class=\"sk-container\" hidden><div class=\"sk-item\"><div class=\"sk-estimator sk-toggleable\"><input class=\"sk-toggleable__control sk-hidden--visually\" id=\"sk-estimator-id-1\" type=\"checkbox\" checked><label for=\"sk-estimator-id-1\" class=\"sk-toggleable__label sk-toggleable__label-arrow\">StandardScaler</label><div class=\"sk-toggleable__content\"><pre>StandardScaler()</pre></div></div></div></div></div>"
      ],
      "text/plain": [
       "StandardScaler()"
      ]
     },
     "execution_count": 48,
     "metadata": {},
     "output_type": "execute_result"
    }
   ],
   "source": [
    "scaler.fit(X_train1)"
   ]
  },
  {
   "cell_type": "code",
   "execution_count": 49,
   "id": "4148f4d3",
   "metadata": {},
   "outputs": [],
   "source": [
    "X_train1_s = scaler.transform(X_train1)\n",
    "X_test1_s = scaler.transform(X_test1)"
   ]
  },
  {
   "cell_type": "code",
   "execution_count": 50,
   "id": "098aa8de",
   "metadata": {},
   "outputs": [],
   "source": [
    "y_train_log = np.log(y_train1)\n",
    "y_test_log = np.log(y_test1)"
   ]
  },
  {
   "cell_type": "code",
   "execution_count": 51,
   "id": "d78ce8c0",
   "metadata": {},
   "outputs": [],
   "source": [
    "from sklearn.linear_model import Lasso, LinearRegression, Ridge"
   ]
  },
  {
   "cell_type": "code",
   "execution_count": 52,
   "id": "a0dede7e",
   "metadata": {},
   "outputs": [],
   "source": [
    "lasso = Lasso(alpha=50.0, \n",
    "      fit_intercept=True, \n",
    "      precompute=False, \n",
    "      copy_X=True, \n",
    "      max_iter=5000, \n",
    "      tol=0.0001, \n",
    "      warm_start=False, \n",
    "      positive=False, \n",
    "      random_state=42, \n",
    "      selection='random')"
   ]
  },
  {
   "cell_type": "code",
   "execution_count": 53,
   "id": "98ac4afb",
   "metadata": {},
   "outputs": [
    {
     "name": "stderr",
     "output_type": "stream",
     "text": [
      "/Users/gdyskin/opt/anaconda3/envs/YDATA/lib/python3.10/site-packages/sklearn/linear_model/_coordinate_descent.py:631: ConvergenceWarning: Objective did not converge. You might want to increase the number of iterations, check the scale of the features or consider increasing regularisation. Duality gap: 1.440e+09, tolerance: 6.971e+08\n",
      "  model = cd_fast.enet_coordinate_descent(\n"
     ]
    },
    {
     "data": {
      "text/html": [
       "<style>#sk-container-id-2 {color: black;background-color: white;}#sk-container-id-2 pre{padding: 0;}#sk-container-id-2 div.sk-toggleable {background-color: white;}#sk-container-id-2 label.sk-toggleable__label {cursor: pointer;display: block;width: 100%;margin-bottom: 0;padding: 0.3em;box-sizing: border-box;text-align: center;}#sk-container-id-2 label.sk-toggleable__label-arrow:before {content: \"▸\";float: left;margin-right: 0.25em;color: #696969;}#sk-container-id-2 label.sk-toggleable__label-arrow:hover:before {color: black;}#sk-container-id-2 div.sk-estimator:hover label.sk-toggleable__label-arrow:before {color: black;}#sk-container-id-2 div.sk-toggleable__content {max-height: 0;max-width: 0;overflow: hidden;text-align: left;background-color: #f0f8ff;}#sk-container-id-2 div.sk-toggleable__content pre {margin: 0.2em;color: black;border-radius: 0.25em;background-color: #f0f8ff;}#sk-container-id-2 input.sk-toggleable__control:checked~div.sk-toggleable__content {max-height: 200px;max-width: 100%;overflow: auto;}#sk-container-id-2 input.sk-toggleable__control:checked~label.sk-toggleable__label-arrow:before {content: \"▾\";}#sk-container-id-2 div.sk-estimator input.sk-toggleable__control:checked~label.sk-toggleable__label {background-color: #d4ebff;}#sk-container-id-2 div.sk-label input.sk-toggleable__control:checked~label.sk-toggleable__label {background-color: #d4ebff;}#sk-container-id-2 input.sk-hidden--visually {border: 0;clip: rect(1px 1px 1px 1px);clip: rect(1px, 1px, 1px, 1px);height: 1px;margin: -1px;overflow: hidden;padding: 0;position: absolute;width: 1px;}#sk-container-id-2 div.sk-estimator {font-family: monospace;background-color: #f0f8ff;border: 1px dotted black;border-radius: 0.25em;box-sizing: border-box;margin-bottom: 0.5em;}#sk-container-id-2 div.sk-estimator:hover {background-color: #d4ebff;}#sk-container-id-2 div.sk-parallel-item::after {content: \"\";width: 100%;border-bottom: 1px solid gray;flex-grow: 1;}#sk-container-id-2 div.sk-label:hover label.sk-toggleable__label {background-color: #d4ebff;}#sk-container-id-2 div.sk-serial::before {content: \"\";position: absolute;border-left: 1px solid gray;box-sizing: border-box;top: 0;bottom: 0;left: 50%;z-index: 0;}#sk-container-id-2 div.sk-serial {display: flex;flex-direction: column;align-items: center;background-color: white;padding-right: 0.2em;padding-left: 0.2em;position: relative;}#sk-container-id-2 div.sk-item {position: relative;z-index: 1;}#sk-container-id-2 div.sk-parallel {display: flex;align-items: stretch;justify-content: center;background-color: white;position: relative;}#sk-container-id-2 div.sk-item::before, #sk-container-id-2 div.sk-parallel-item::before {content: \"\";position: absolute;border-left: 1px solid gray;box-sizing: border-box;top: 0;bottom: 0;left: 50%;z-index: -1;}#sk-container-id-2 div.sk-parallel-item {display: flex;flex-direction: column;z-index: 1;position: relative;background-color: white;}#sk-container-id-2 div.sk-parallel-item:first-child::after {align-self: flex-end;width: 50%;}#sk-container-id-2 div.sk-parallel-item:last-child::after {align-self: flex-start;width: 50%;}#sk-container-id-2 div.sk-parallel-item:only-child::after {width: 0;}#sk-container-id-2 div.sk-dashed-wrapped {border: 1px dashed gray;margin: 0 0.4em 0.5em 0.4em;box-sizing: border-box;padding-bottom: 0.4em;background-color: white;}#sk-container-id-2 div.sk-label label {font-family: monospace;font-weight: bold;display: inline-block;line-height: 1.2em;}#sk-container-id-2 div.sk-label-container {text-align: center;}#sk-container-id-2 div.sk-container {/* jupyter's `normalize.less` sets `[hidden] { display: none; }` but bootstrap.min.css set `[hidden] { display: none !important; }` so we also need the `!important` here to be able to override the default hidden behavior on the sphinx rendered scikit-learn.org. See: https://github.com/scikit-learn/scikit-learn/issues/21755 */display: inline-block !important;position: relative;}#sk-container-id-2 div.sk-text-repr-fallback {display: none;}</style><div id=\"sk-container-id-2\" class=\"sk-top-container\"><div class=\"sk-text-repr-fallback\"><pre>Lasso(alpha=50.0, max_iter=5000, random_state=42, selection=&#x27;random&#x27;)</pre><b>In a Jupyter environment, please rerun this cell to show the HTML representation or trust the notebook. <br />On GitHub, the HTML representation is unable to render, please try loading this page with nbviewer.org.</b></div><div class=\"sk-container\" hidden><div class=\"sk-item\"><div class=\"sk-estimator sk-toggleable\"><input class=\"sk-toggleable__control sk-hidden--visually\" id=\"sk-estimator-id-2\" type=\"checkbox\" checked><label for=\"sk-estimator-id-2\" class=\"sk-toggleable__label sk-toggleable__label-arrow\">Lasso</label><div class=\"sk-toggleable__content\"><pre>Lasso(alpha=50.0, max_iter=5000, random_state=42, selection=&#x27;random&#x27;)</pre></div></div></div></div></div>"
      ],
      "text/plain": [
       "Lasso(alpha=50.0, max_iter=5000, random_state=42, selection='random')"
      ]
     },
     "execution_count": 53,
     "metadata": {},
     "output_type": "execute_result"
    }
   ],
   "source": [
    "lasso.fit(X_train1_s, y_train1)"
   ]
  },
  {
   "cell_type": "code",
   "execution_count": 54,
   "id": "5802b9c9",
   "metadata": {},
   "outputs": [],
   "source": [
    "lasso_preds = lasso.predict(X_test1_s)"
   ]
  },
  {
   "cell_type": "code",
   "execution_count": 55,
   "id": "0b506685",
   "metadata": {},
   "outputs": [
    {
     "data": {
      "text/plain": [
       "29435.685412282655"
      ]
     },
     "execution_count": 55,
     "metadata": {},
     "output_type": "execute_result"
    }
   ],
   "source": [
    "np.sqrt(mean_squared_error(lasso.predict(X_test1_s), y_test1))"
   ]
  },
  {
   "cell_type": "code",
   "execution_count": 56,
   "id": "d73f45aa",
   "metadata": {},
   "outputs": [
    {
     "data": {
      "text/plain": [
       "<matplotlib.lines.Line2D at 0x18620c4c0>"
      ]
     },
     "execution_count": 56,
     "metadata": {},
     "output_type": "execute_result"
    },
    {
     "data": {
      "image/png": "[encoded data removed]",
      "text/plain": [
       "<Figure size 2000x1000 with 1 Axes>"
      ]
     },
     "metadata": {},
     "output_type": "display_data"
    }
   ],
   "source": [
    "plt.figure(figsize=(20,10))\n",
    "plt.scatter(range(len(y_test1)), lasso.predict(X_test1_s) - y_test1)\n",
    "plt.axhline(0, c='r')\n",
    "plt.axhline(20000, c='g')\n",
    "plt.axhline(-20000, c='g')"
   ]
  },
  {
   "cell_type": "markdown",
   "id": "1158c3b9",
   "metadata": {},
   "source": [
    "### SVR"
   ]
  },
  {
   "cell_type": "code",
   "execution_count": 57,
   "id": "7f473a0f",
   "metadata": {},
   "outputs": [],
   "source": [
    "from sklearn.svm import SVR"
   ]
  },
  {
   "cell_type": "code",
   "execution_count": 58,
   "id": "df1078eb",
   "metadata": {},
   "outputs": [],
   "source": [
    "svr = SVR(kernel='linear', \n",
    "          degree=1, \n",
    "          gamma='scale', \n",
    "          coef0=0.0, \n",
    "          tol=0.001, \n",
    "          C=300.0, \n",
    "          epsilon=0.1, \n",
    "          shrinking=True, \n",
    "          cache_size=200, \n",
    "          verbose=False, \n",
    "          max_iter=10000)"
   ]
  },
  {
   "cell_type": "code",
   "execution_count": 59,
   "id": "621be433",
   "metadata": {},
   "outputs": [
    {
     "name": "stderr",
     "output_type": "stream",
     "text": [
      "/Users/gdyskin/opt/anaconda3/envs/YDATA/lib/python3.10/site-packages/sklearn/svm/_base.py:299: ConvergenceWarning: Solver terminated early (max_iter=10000).  Consider pre-processing your data with StandardScaler or MinMaxScaler.\n",
      "  warnings.warn(\n"
     ]
    },
    {
     "data": {
      "text/html": [
       "<style>#sk-container-id-3 {color: black;background-color: white;}#sk-container-id-3 pre{padding: 0;}#sk-container-id-3 div.sk-toggleable {background-color: white;}#sk-container-id-3 label.sk-toggleable__label {cursor: pointer;display: block;width: 100%;margin-bottom: 0;padding: 0.3em;box-sizing: border-box;text-align: center;}#sk-container-id-3 label.sk-toggleable__label-arrow:before {content: \"▸\";float: left;margin-right: 0.25em;color: #696969;}#sk-container-id-3 label.sk-toggleable__label-arrow:hover:before {color: black;}#sk-container-id-3 div.sk-estimator:hover label.sk-toggleable__label-arrow:before {color: black;}#sk-container-id-3 div.sk-toggleable__content {max-height: 0;max-width: 0;overflow: hidden;text-align: left;background-color: #f0f8ff;}#sk-container-id-3 div.sk-toggleable__content pre {margin: 0.2em;color: black;border-radius: 0.25em;background-color: #f0f8ff;}#sk-container-id-3 input.sk-toggleable__control:checked~div.sk-toggleable__content {max-height: 200px;max-width: 100%;overflow: auto;}#sk-container-id-3 input.sk-toggleable__control:checked~label.sk-toggleable__label-arrow:before {content: \"▾\";}#sk-container-id-3 div.sk-estimator input.sk-toggleable__control:checked~label.sk-toggleable__label {background-color: #d4ebff;}#sk-container-id-3 div.sk-label input.sk-toggleable__control:checked~label.sk-toggleable__label {background-color: #d4ebff;}#sk-container-id-3 input.sk-hidden--visually {border: 0;clip: rect(1px 1px 1px 1px);clip: rect(1px, 1px, 1px, 1px);height: 1px;margin: -1px;overflow: hidden;padding: 0;position: absolute;width: 1px;}#sk-container-id-3 div.sk-estimator {font-family: monospace;background-color: #f0f8ff;border: 1px dotted black;border-radius: 0.25em;box-sizing: border-box;margin-bottom: 0.5em;}#sk-container-id-3 div.sk-estimator:hover {background-color: #d4ebff;}#sk-container-id-3 div.sk-parallel-item::after {content: \"\";width: 100%;border-bottom: 1px solid gray;flex-grow: 1;}#sk-container-id-3 div.sk-label:hover label.sk-toggleable__label {background-color: #d4ebff;}#sk-container-id-3 div.sk-serial::before {content: \"\";position: absolute;border-left: 1px solid gray;box-sizing: border-box;top: 0;bottom: 0;left: 50%;z-index: 0;}#sk-container-id-3 div.sk-serial {display: flex;flex-direction: column;align-items: center;background-color: white;padding-right: 0.2em;padding-left: 0.2em;position: relative;}#sk-container-id-3 div.sk-item {position: relative;z-index: 1;}#sk-container-id-3 div.sk-parallel {display: flex;align-items: stretch;justify-content: center;background-color: white;position: relative;}#sk-container-id-3 div.sk-item::before, #sk-container-id-3 div.sk-parallel-item::before {content: \"\";position: absolute;border-left: 1px solid gray;box-sizing: border-box;top: 0;bottom: 0;left: 50%;z-index: -1;}#sk-container-id-3 div.sk-parallel-item {display: flex;flex-direction: column;z-index: 1;position: relative;background-color: white;}#sk-container-id-3 div.sk-parallel-item:first-child::after {align-self: flex-end;width: 50%;}#sk-container-id-3 div.sk-parallel-item:last-child::after {align-self: flex-start;width: 50%;}#sk-container-id-3 div.sk-parallel-item:only-child::after {width: 0;}#sk-container-id-3 div.sk-dashed-wrapped {border: 1px dashed gray;margin: 0 0.4em 0.5em 0.4em;box-sizing: border-box;padding-bottom: 0.4em;background-color: white;}#sk-container-id-3 div.sk-label label {font-family: monospace;font-weight: bold;display: inline-block;line-height: 1.2em;}#sk-container-id-3 div.sk-label-container {text-align: center;}#sk-container-id-3 div.sk-container {/* jupyter's `normalize.less` sets `[hidden] { display: none; }` but bootstrap.min.css set `[hidden] { display: none !important; }` so we also need the `!important` here to be able to override the default hidden behavior on the sphinx rendered scikit-learn.org. See: https://github.com/scikit-learn/scikit-learn/issues/21755 */display: inline-block !important;position: relative;}#sk-container-id-3 div.sk-text-repr-fallback {display: none;}</style><div id=\"sk-container-id-3\" class=\"sk-top-container\"><div class=\"sk-text-repr-fallback\"><pre>SVR(C=300.0, degree=1, kernel=&#x27;linear&#x27;, max_iter=10000)</pre><b>In a Jupyter environment, please rerun this cell to show the HTML representation or trust the notebook. <br />On GitHub, the HTML representation is unable to render, please try loading this page with nbviewer.org.</b></div><div class=\"sk-container\" hidden><div class=\"sk-item\"><div class=\"sk-estimator sk-toggleable\"><input class=\"sk-toggleable__control sk-hidden--visually\" id=\"sk-estimator-id-3\" type=\"checkbox\" checked><label for=\"sk-estimator-id-3\" class=\"sk-toggleable__label sk-toggleable__label-arrow\">SVR</label><div class=\"sk-toggleable__content\"><pre>SVR(C=300.0, degree=1, kernel=&#x27;linear&#x27;, max_iter=10000)</pre></div></div></div></div></div>"
      ],
      "text/plain": [
       "SVR(C=300.0, degree=1, kernel='linear', max_iter=10000)"
      ]
     },
     "execution_count": 59,
     "metadata": {},
     "output_type": "execute_result"
    }
   ],
   "source": [
    "svr.fit(X_train1_s, y_train1)"
   ]
  },
  {
   "cell_type": "code",
   "execution_count": 60,
   "id": "3562aabe",
   "metadata": {},
   "outputs": [],
   "source": [
    "svr_preds = svr.predict(X_test1_s)"
   ]
  },
  {
   "cell_type": "code",
   "execution_count": 61,
   "id": "ec1799ef",
   "metadata": {},
   "outputs": [
    {
     "data": {
      "text/plain": [
       "33958.65137812534"
      ]
     },
     "execution_count": 61,
     "metadata": {},
     "output_type": "execute_result"
    }
   ],
   "source": [
    "np.sqrt(mean_squared_error(svr.predict(X_test1_s), y_test1))"
   ]
  },
  {
   "cell_type": "code",
   "execution_count": 62,
   "id": "906e810b",
   "metadata": {},
   "outputs": [
    {
     "data": {
      "text/plain": [
       "<matplotlib.lines.Line2D at 0x186282d70>"
      ]
     },
     "execution_count": 62,
     "metadata": {},
     "output_type": "execute_result"
    },
    {
     "data": {
      "image/png": "[encoded data removed]",
      "text/plain": [
       "<Figure size 2000x1000 with 1 Axes>"
      ]
     },
     "metadata": {},
     "output_type": "display_data"
    }
   ],
   "source": [
    "plt.figure(figsize=(20,10))\n",
    "plt.scatter(range(len(y_test1)), svr.predict(X_test1_s) - y_test1)\n",
    "plt.axhline(0, c='r')\n",
    "plt.axhline(20000, c='g')\n",
    "plt.axhline(-20000, c='g')"
   ]
  },
  {
   "cell_type": "code",
   "execution_count": 63,
   "id": "7f97e3f3",
   "metadata": {},
   "outputs": [],
   "source": [
    "ridge = Ridge(alpha=1.0, \n",
    "      fit_intercept=True, \n",
    "      copy_X=True, \n",
    "      max_iter=None, \n",
    "      tol=0.0001, \n",
    "      solver='auto', \n",
    "      positive=False, \n",
    "      random_state=42)"
   ]
  },
  {
   "cell_type": "code",
   "execution_count": 64,
   "id": "09ea4b12",
   "metadata": {},
   "outputs": [
    {
     "data": {
      "text/html": [
       "<style>#sk-container-id-4 {color: black;background-color: white;}#sk-container-id-4 pre{padding: 0;}#sk-container-id-4 div.sk-toggleable {background-color: white;}#sk-container-id-4 label.sk-toggleable__label {cursor: pointer;display: block;width: 100%;margin-bottom: 0;padding: 0.3em;box-sizing: border-box;text-align: center;}#sk-container-id-4 label.sk-toggleable__label-arrow:before {content: \"▸\";float: left;margin-right: 0.25em;color: #696969;}#sk-container-id-4 label.sk-toggleable__label-arrow:hover:before {color: black;}#sk-container-id-4 div.sk-estimator:hover label.sk-toggleable__label-arrow:before {color: black;}#sk-container-id-4 div.sk-toggleable__content {max-height: 0;max-width: 0;overflow: hidden;text-align: left;background-color: #f0f8ff;}#sk-container-id-4 div.sk-toggleable__content pre {margin: 0.2em;color: black;border-radius: 0.25em;background-color: #f0f8ff;}#sk-container-id-4 input.sk-toggleable__control:checked~div.sk-toggleable__content {max-height: 200px;max-width: 100%;overflow: auto;}#sk-container-id-4 input.sk-toggleable__control:checked~label.sk-toggleable__label-arrow:before {content: \"▾\";}#sk-container-id-4 div.sk-estimator input.sk-toggleable__control:checked~label.sk-toggleable__label {background-color: #d4ebff;}#sk-container-id-4 div.sk-label input.sk-toggleable__control:checked~label.sk-toggleable__label {background-color: #d4ebff;}#sk-container-id-4 input.sk-hidden--visually {border: 0;clip: rect(1px 1px 1px 1px);clip: rect(1px, 1px, 1px, 1px);height: 1px;margin: -1px;overflow: hidden;padding: 0;position: absolute;width: 1px;}#sk-container-id-4 div.sk-estimator {font-family: monospace;background-color: #f0f8ff;border: 1px dotted black;border-radius: 0.25em;box-sizing: border-box;margin-bottom: 0.5em;}#sk-container-id-4 div.sk-estimator:hover {background-color: #d4ebff;}#sk-container-id-4 div.sk-parallel-item::after {content: \"\";width: 100%;border-bottom: 1px solid gray;flex-grow: 1;}#sk-container-id-4 div.sk-label:hover label.sk-toggleable__label {background-color: #d4ebff;}#sk-container-id-4 div.sk-serial::before {content: \"\";position: absolute;border-left: 1px solid gray;box-sizing: border-box;top: 0;bottom: 0;left: 50%;z-index: 0;}#sk-container-id-4 div.sk-serial {display: flex;flex-direction: column;align-items: center;background-color: white;padding-right: 0.2em;padding-left: 0.2em;position: relative;}#sk-container-id-4 div.sk-item {position: relative;z-index: 1;}#sk-container-id-4 div.sk-parallel {display: flex;align-items: stretch;justify-content: center;background-color: white;position: relative;}#sk-container-id-4 div.sk-item::before, #sk-container-id-4 div.sk-parallel-item::before {content: \"\";position: absolute;border-left: 1px solid gray;box-sizing: border-box;top: 0;bottom: 0;left: 50%;z-index: -1;}#sk-container-id-4 div.sk-parallel-item {display: flex;flex-direction: column;z-index: 1;position: relative;background-color: white;}#sk-container-id-4 div.sk-parallel-item:first-child::after {align-self: flex-end;width: 50%;}#sk-container-id-4 div.sk-parallel-item:last-child::after {align-self: flex-start;width: 50%;}#sk-container-id-4 div.sk-parallel-item:only-child::after {width: 0;}#sk-container-id-4 div.sk-dashed-wrapped {border: 1px dashed gray;margin: 0 0.4em 0.5em 0.4em;box-sizing: border-box;padding-bottom: 0.4em;background-color: white;}#sk-container-id-4 div.sk-label label {font-family: monospace;font-weight: bold;display: inline-block;line-height: 1.2em;}#sk-container-id-4 div.sk-label-container {text-align: center;}#sk-container-id-4 div.sk-container {/* jupyter's `normalize.less` sets `[hidden] { display: none; }` but bootstrap.min.css set `[hidden] { display: none !important; }` so we also need the `!important` here to be able to override the default hidden behavior on the sphinx rendered scikit-learn.org. See: https://github.com/scikit-learn/scikit-learn/issues/21755 */display: inline-block !important;position: relative;}#sk-container-id-4 div.sk-text-repr-fallback {display: none;}</style><div id=\"sk-container-id-4\" class=\"sk-top-container\"><div class=\"sk-text-repr-fallback\"><pre>Ridge(random_state=42)</pre><b>In a Jupyter environment, please rerun this cell to show the HTML representation or trust the notebook. <br />On GitHub, the HTML representation is unable to render, please try loading this page with nbviewer.org.</b></div><div class=\"sk-container\" hidden><div class=\"sk-item\"><div class=\"sk-estimator sk-toggleable\"><input class=\"sk-toggleable__control sk-hidden--visually\" id=\"sk-estimator-id-4\" type=\"checkbox\" checked><label for=\"sk-estimator-id-4\" class=\"sk-toggleable__label sk-toggleable__label-arrow\">Ridge</label><div class=\"sk-toggleable__content\"><pre>Ridge(random_state=42)</pre></div></div></div></div></div>"
      ],
      "text/plain": [
       "Ridge(random_state=42)"
      ]
     },
     "execution_count": 64,
     "metadata": {},
     "output_type": "execute_result"
    }
   ],
   "source": [
    "ridge.fit(X_train1_s, y_train1)"
   ]
  },
  {
   "cell_type": "code",
   "execution_count": 65,
   "id": "2b18a4ba",
   "metadata": {},
   "outputs": [],
   "source": [
    "ridge_preds = ridge.predict(X_test1_s)"
   ]
  },
  {
   "cell_type": "code",
   "execution_count": 66,
   "id": "aa13a129",
   "metadata": {},
   "outputs": [
    {
     "data": {
      "text/plain": [
       "29569.959131196803"
      ]
     },
     "execution_count": 66,
     "metadata": {},
     "output_type": "execute_result"
    }
   ],
   "source": [
    "np.sqrt(mean_squared_error(ridge.predict(X_test1_s), y_test1))"
   ]
  },
  {
   "cell_type": "code",
   "execution_count": 67,
   "id": "f673f101",
   "metadata": {},
   "outputs": [
    {
     "data": {
      "text/plain": [
       "<matplotlib.lines.Line2D at 0x1869d2b90>"
      ]
     },
     "execution_count": 67,
     "metadata": {},
     "output_type": "execute_result"
    },
    {
     "data": {
      "image/png": "[encoded data removed]",
      "text/plain": [
       "<Figure size 2000x1000 with 1 Axes>"
      ]
     },
     "metadata": {},
     "output_type": "display_data"
    }
   ],
   "source": [
    "plt.figure(figsize=(20,10))\n",
    "plt.scatter(range(len(y_test1)), ridge.predict(X_test1_s) - y_test1)\n",
    "plt.axhline(0, c='r')\n",
    "plt.axhline(20000, c='g')\n",
    "plt.axhline(-20000, c='g')"
   ]
  },
  {
   "cell_type": "code",
   "execution_count": 68,
   "id": "ad23607c",
   "metadata": {},
   "outputs": [],
   "source": [
    "import xgboost \n",
    "\n",
    "\n",
    "\n"
   ]
  },
  {
   "cell_type": "code",
   "execution_count": 69,
   "id": "02841be8",
   "metadata": {},
   "outputs": [
    {
     "data": {
      "text/plain": [
       "23307.358103496957"
      ]
     },
     "execution_count": 69,
     "metadata": {},
     "output_type": "execute_result"
    }
   ],
   "source": [
    "model_xgb = xgboost.XGBRegressor(max_depth=3, \n",
    "                                 booster=\"gbtree\", \n",
    "                                 learning_rate=0.1, \n",
    "                                 subsample=0.3, \n",
    "                                 reg_lambda=5, \n",
    "                                 n_estimators=100)\n",
    "model_xgb.fit(X_train1_s, y_train1)\n",
    "test_predictions = model_xgb.predict(X_test1_s)\n",
    "\n",
    "np.sqrt(mean_squared_error(y_test1, test_predictions))"
   ]
  },
  {
   "cell_type": "code",
   "execution_count": 70,
   "id": "4a5957ed",
   "metadata": {},
   "outputs": [
    {
     "data": {
      "text/plain": [
       "<matplotlib.lines.Line2D at 0x186a6f970>"
      ]
     },
     "execution_count": 70,
     "metadata": {},
     "output_type": "execute_result"
    },
    {
     "data": {
      "image/png": "[encoded data removed]",
      "text/plain": [
       "<Figure size 2000x1000 with 1 Axes>"
      ]
     },
     "metadata": {},
     "output_type": "display_data"
    }
   ],
   "source": [
    "plt.figure(figsize=(20,10))\n",
    "plt.scatter(range(len(y_test1)), model_xgb.predict(X_test1_s) - y_test1)\n",
    "plt.axhline(0, c='r')\n",
    "plt.axhline(20000, c='g')\n",
    "plt.axhline(-20000, c='g')"
   ]
  },
  {
   "cell_type": "markdown",
   "id": "2514c36f",
   "metadata": {},
   "source": [
    "### CatBoost processed features"
   ]
  },
  {
   "cell_type": "code",
   "execution_count": 71,
   "id": "d68a37cc",
   "metadata": {},
   "outputs": [
    {
     "name": "stdout",
     "output_type": "stream",
     "text": [
      "0:\tlearn: 51855.2625288\ttotal: 1.3ms\tremaining: 1.17s\n",
      "100:\tlearn: 13285.5415820\ttotal: 79ms\tremaining: 625ms\n",
      "200:\tlearn: 11389.3999528\ttotal: 143ms\tremaining: 497ms\n",
      "300:\tlearn: 10405.8495192\ttotal: 205ms\tremaining: 407ms\n",
      "400:\tlearn: 9775.6636255\ttotal: 264ms\tremaining: 329ms\n",
      "500:\tlearn: 9266.5751523\ttotal: 326ms\tremaining: 260ms\n",
      "600:\tlearn: 8907.3667959\ttotal: 385ms\tremaining: 192ms\n",
      "700:\tlearn: 8602.4227583\ttotal: 445ms\tremaining: 126ms\n",
      "800:\tlearn: 8347.2860300\ttotal: 506ms\tremaining: 62.6ms\n",
      "899:\tlearn: 8101.5208783\ttotal: 566ms\tremaining: 0us\n"
     ]
    },
    {
     "data": {
      "text/plain": [
       "20278.260443005132"
      ]
     },
     "execution_count": 71,
     "metadata": {},
     "output_type": "execute_result"
    }
   ],
   "source": [
    "# initialize Pool\n",
    "train_pool = Pool(X_train, \n",
    "                  y_train, \n",
    "                  cat_features=cat_features)\n",
    "\n",
    "#test_pool = Pool(test, \n",
    "#                 cat_features=cat_features) \n",
    "\n",
    "eval_pool = Pool(X_test, \n",
    "                 y_test, \n",
    "                 cat_features=cat_features)\n",
    "\n",
    "# specify the training parameters \n",
    "model = CatBoostRegressor(iterations=900, \n",
    "                          depth=3, \n",
    "                          learning_rate=0.1, \n",
    "                          loss_function='MAE',\n",
    "                          l2_leaf_reg=6,\n",
    "                          one_hot_max_size=30,\n",
    "                          #od_type = \"Iter\",\n",
    "                          #od_wait = 100,\n",
    "                          random_state=42,\n",
    "                          random_strength=1,\n",
    "                          \n",
    "                          #ignored_features=ignored_features,\n",
    "                          \n",
    "                          verbose=100\n",
    "                          )\n",
    "#train the model\n",
    "model.fit(X_train1_s, y_train1)#, eval_set=eval_pool, early_stopping_rounds=20)\n",
    "# make the prediction using the resulting model\n",
    "preds = model.predict(X_test1_s)\n",
    "np.sqrt(mean_squared_error(preds, y_test1))"
   ]
  },
  {
   "cell_type": "code",
   "execution_count": 72,
   "id": "6d587557",
   "metadata": {},
   "outputs": [
    {
     "data": {
      "text/plain": [
       "0.11941153139758208"
      ]
     },
     "execution_count": 72,
     "metadata": {},
     "output_type": "execute_result"
    }
   ],
   "source": [
    "np.sqrt(mean_squared_log_error(preds, y_test))"
   ]
  },
  {
   "cell_type": "code",
   "execution_count": 73,
   "id": "b4dc7b6a",
   "metadata": {},
   "outputs": [
    {
     "data": {
      "text/plain": [
       "0.9253281230511682"
      ]
     },
     "execution_count": 73,
     "metadata": {},
     "output_type": "execute_result"
    }
   ],
   "source": [
    "r2_score(preds, y_test)"
   ]
  },
  {
   "cell_type": "code",
   "execution_count": 74,
   "id": "1cc8ef01",
   "metadata": {},
   "outputs": [
    {
     "data": {
      "text/plain": [
       "1182   -136825.496526\n",
       "608     -79306.423137\n",
       "218     -76581.510301\n",
       "426     -55049.985041\n",
       "322     -54499.835079\n",
       "            ...      \n",
       "825      53660.986232\n",
       "30       54003.757970\n",
       "666      55585.731200\n",
       "1173     55749.344005\n",
       "70       57365.319525\n",
       "Name: SalePrice, Length: 365, dtype: float64"
      ]
     },
     "execution_count": 74,
     "metadata": {},
     "output_type": "execute_result"
    }
   ],
   "source": [
    "pd.Series((preds - y_test).sort_values(ascending=True))"
   ]
  },
  {
   "cell_type": "code",
   "execution_count": 75,
   "id": "63744cd1",
   "metadata": {},
   "outputs": [
    {
     "data": {
      "text/plain": [
       "<matplotlib.lines.Line2D at 0x186b0cf40>"
      ]
     },
     "execution_count": 75,
     "metadata": {},
     "output_type": "execute_result"
    },
    {
     "data": {
      "image/png": "[encoded data removed]",
      "text/plain": [
       "<Figure size 2000x1000 with 1 Axes>"
      ]
     },
     "metadata": {},
     "output_type": "display_data"
    }
   ],
   "source": [
    "plt.figure(figsize=(20,10))\n",
    "plt.scatter(range(len(preds)), (preds - y_test))\n",
    "plt.axhline(0, c='r')\n",
    "plt.axhline(20000, c='g')\n",
    "plt.axhline(-20000, c='g')"
   ]
  },
  {
   "cell_type": "code",
   "execution_count": null,
   "id": "39156b80",
   "metadata": {},
   "outputs": [],
   "source": []
  },
  {
   "cell_type": "markdown",
   "id": "69a964ba",
   "metadata": {},
   "source": [
    "### Submission"
   ]
  },
  {
   "cell_type": "code",
   "execution_count": 121,
   "id": "ef752dd2",
   "metadata": {},
   "outputs": [],
   "source": [
    "X, y = prepare_and_split_data(train)"
   ]
  },
  {
   "cell_type": "code",
   "execution_count": 122,
   "id": "8c57a1bb",
   "metadata": {},
   "outputs": [],
   "source": [
    "sub_train_pool = Pool(X, y, \n",
    "                 cat_features=cat_features)"
   ]
  },
  {
   "cell_type": "code",
   "execution_count": 123,
   "id": "4ba62ecf",
   "metadata": {},
   "outputs": [
    {
     "name": "stdout",
     "output_type": "stream",
     "text": [
      "0:\tlearn: 51814.9607116\ttotal: 3.74ms\tremaining: 2.24s\n",
      "100:\tlearn: 11140.1915367\ttotal: 147ms\tremaining: 724ms\n",
      "200:\tlearn: 8632.0361269\ttotal: 278ms\tremaining: 552ms\n",
      "300:\tlearn: 7350.8616170\ttotal: 408ms\tremaining: 405ms\n",
      "400:\tlearn: 6564.7767657\ttotal: 535ms\tremaining: 266ms\n",
      "500:\tlearn: 6023.2187467\ttotal: 660ms\tremaining: 130ms\n",
      "599:\tlearn: 5573.6097631\ttotal: 788ms\tremaining: 0us\n"
     ]
    },
    {
     "data": {
      "text/plain": [
       "<catboost.core.CatBoostRegressor at 0x1869f7910>"
      ]
     },
     "execution_count": 123,
     "metadata": {},
     "output_type": "execute_result"
    }
   ],
   "source": [
    "model.fit(sub_train_pool)"
   ]
  },
  {
   "cell_type": "code",
   "execution_count": 124,
   "id": "795600d6",
   "metadata": {},
   "outputs": [],
   "source": [
    "test = pd.read_csv('test_preprocessed.csv')"
   ]
  },
  {
   "cell_type": "code",
   "execution_count": 125,
   "id": "82a7f1a8",
   "metadata": {},
   "outputs": [],
   "source": [
    "preds = model.predict(test)"
   ]
  },
  {
   "cell_type": "code",
   "execution_count": 126,
   "id": "f6d6fb91",
   "metadata": {},
   "outputs": [
    {
     "data": {
      "text/plain": [
       "array([131622.0703173 , 167729.88615071, 197458.63573431, ...,\n",
       "       158875.03871057, 120157.43806988, 210300.96934268])"
      ]
     },
     "execution_count": 126,
     "metadata": {},
     "output_type": "execute_result"
    }
   ],
   "source": [
    "preds"
   ]
  },
  {
   "cell_type": "code",
   "execution_count": 82,
   "id": "0ab19a97",
   "metadata": {},
   "outputs": [],
   "source": [
    "test_id = pd.read_csv('test.csv')"
   ]
  },
  {
   "cell_type": "code",
   "execution_count": 83,
   "id": "6e113079",
   "metadata": {},
   "outputs": [],
   "source": [
    "sub_test = test_id.copy()"
   ]
  },
  {
   "cell_type": "code",
   "execution_count": 84,
   "id": "123eae9a",
   "metadata": {},
   "outputs": [],
   "source": [
    "sub_test['SalePrice'] = pd.Series(preds)"
   ]
  },
  {
   "cell_type": "markdown",
   "id": "e1890ccb",
   "metadata": {},
   "source": [
    "### Output"
   ]
  },
  {
   "cell_type": "code",
   "execution_count": 85,
   "id": "23d0e007",
   "metadata": {},
   "outputs": [],
   "source": [
    "#sub_test[['Id', 'SalePrice']].to_csv('out.csv', index=False)"
   ]
  },
  {
   "cell_type": "code",
   "execution_count": 86,
   "id": "6d67e2ce",
   "metadata": {},
   "outputs": [],
   "source": [
    "#np.sqrt(mean_squared_error(model.predict(X), y))"
   ]
  },
  {
   "cell_type": "code",
   "execution_count": null,
   "id": "7633e6e1",
   "metadata": {},
   "outputs": [],
   "source": []
  }
 ],
 "metadata": {
  "kernelspec": {
   "display_name": "Python 3 (ipykernel)",
   "language": "python",
   "name": "python3"
  },
  "language_info": {
   "codemirror_mode": {
    "name": "ipython",
    "version": 3
   },
   "file_extension": ".py",
   "mimetype": "text/x-python",
   "name": "python",
   "nbconvert_exporter": "python",
   "pygments_lexer": "ipython3",
   "version": "3.10.8"
  }
 },
 "nbformat": 4,
 "nbformat_minor": 5
}
