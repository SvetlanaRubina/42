{
 "cells": [
  {
   "cell_type": "code",
   "execution_count": 1,
   "id": "b9bf4239",
   "metadata": {},
   "outputs": [],
   "source": [
    "import pandas as pd\n",
    "import matplotlib.pyplot as plt\n",
    "import numpy as np\n",
    "import seaborn as sns"
   ]
  },
  {
   "cell_type": "code",
   "execution_count": 2,
   "id": "f8644c1f",
   "metadata": {},
   "outputs": [],
   "source": [
    "train = pd.read_csv('test.csv')"
   ]
  },
  {
   "cell_type": "code",
   "execution_count": 4,
   "id": "8fe1b5ab",
   "metadata": {},
   "outputs": [],
   "source": [
    "for col in train.columns:\n",
    "    if train[col].dtype == 'object':\n",
    "        train[col].fillna('NA', inplace=True)\n",
    "    else:\n",
    "        train[col].fillna(0, inplace=True)"
   ]
  },
  {
   "cell_type": "code",
   "execution_count": 5,
   "id": "ca990ce6",
   "metadata": {},
   "outputs": [],
   "source": [
    "train['yr_since_renovation'] = (train['YrSold'] - train['YearRemodAdd'])"
   ]
  },
  {
   "cell_type": "code",
   "execution_count": 7,
   "id": "e5cd07cd",
   "metadata": {},
   "outputs": [],
   "source": [
    "train.loc[(train['LotShape'].isin(['IR1', 'IR2', 'IR3'])), 'LotShape'] = 'IR'"
   ]
  },
  {
   "cell_type": "code",
   "execution_count": 16,
   "id": "27673a46",
   "metadata": {},
   "outputs": [],
   "source": [
    "train['yr_since_renovation'] = train['YrSold'] - train['YearRemodAdd']"
   ]
  },
  {
   "cell_type": "code",
   "execution_count": 21,
   "id": "0421fe14",
   "metadata": {},
   "outputs": [],
   "source": [
    "train.loc[(train['Exterior1st'].isin(['AsbShng', 'AsphShn', 'BrkComm', 'CBlock'])), 'Exterior1st'] = 'Lvl_1'\n",
    "train.loc[(train['Exterior1st'].isin(['HdBoard', 'MetalSd', 'Plywood', 'Stucco', 'Wd Sdng', 'WdShing'])), 'Exterior1st'] = 'Lvl_2'\n",
    "train.loc[(train['Exterior1st'].isin(['VinylSd', 'BrkFace', 'CemntBd', 'Stone', 'ImStucc'])), 'Exterior1st'] = 'Lvl_3'"
   ]
  },
  {
   "cell_type": "code",
   "execution_count": 23,
   "id": "3165b967",
   "metadata": {},
   "outputs": [],
   "source": [
    "train.loc[(train['MasVnrType'].isin(['BrkFace', 'NA'])), 'MasVnrType'] = 'Lvl_2'\n",
    "train.loc[(train['MasVnrType'].isin(['BrkCmn', 'None'])), 'MasVnrType'] = 'Lvl_1'\n",
    "train.loc[(train['MasVnrType'].isin(['Stone'])), 'MasVnrType'] = 'Lvl_3'"
   ]
  },
  {
   "cell_type": "code",
   "execution_count": 24,
   "id": "d8c29d0f",
   "metadata": {},
   "outputs": [],
   "source": [
    "train.loc[(train['MasVnrArea'] == 0), 'MasVnrArea'] = 0\n",
    "train.loc[(train['MasVnrArea'] > 0), 'MasVnrArea'] = 1"
   ]
  },
  {
   "cell_type": "code",
   "execution_count": 26,
   "id": "4430f42d",
   "metadata": {},
   "outputs": [],
   "source": [
    "train.loc[(train['ExterQual'].isin(['Fa', 'TA'])), 'ExterQual'] = 0\n",
    "train.loc[(train['ExterQual'].isin(['Ex', 'Gd'])), 'ExterQual'] = 1"
   ]
  },
  {
   "cell_type": "code",
   "execution_count": 27,
   "id": "59fa17ce",
   "metadata": {},
   "outputs": [],
   "source": [
    "train.loc[(train['ExterCond'].isin(['Fa', 'Po'])), 'ExterCond'] = 0\n",
    "train.loc[(train['ExterCond'].isin(['Ex', 'Gd', 'TA'])), 'ExterCond'] = 1"
   ]
  },
  {
   "cell_type": "code",
   "execution_count": 28,
   "id": "a8fb2516",
   "metadata": {},
   "outputs": [],
   "source": [
    "train.loc[(~train['Foundation'].isin(['PConc'])), 'Foundation'] = 0\n",
    "train.loc[(train['Foundation'].isin(['PConc'])), 'Foundation'] = 1"
   ]
  },
  {
   "cell_type": "code",
   "execution_count": 29,
   "id": "beac6071",
   "metadata": {},
   "outputs": [],
   "source": [
    "train.loc[(train['BsmtQual'].isin(['Gd', 'Ex'])), 'BsmtQual'] = 1\n",
    "train.loc[(train['BsmtQual'].isin(['Fa', 'NA', 'TA'])), 'BsmtQual'] = 0"
   ]
  },
  {
   "cell_type": "code",
   "execution_count": 30,
   "id": "45d9ff08",
   "metadata": {},
   "outputs": [],
   "source": [
    "train.loc[(train['BsmtCond'].isin(['Gd', 'TA'])), 'BsmtCond'] = 1\n",
    "train.loc[(train['BsmtCond'].isin(['Fa', 'NA', 'Po'])), 'BsmtCond'] = 0"
   ]
  },
  {
   "cell_type": "code",
   "execution_count": 31,
   "id": "b34ab70d",
   "metadata": {},
   "outputs": [],
   "source": [
    "train.loc[(train['BsmtExposure'].isin(['Gd', 'Av', 'Mn'])), 'BsmtExposure'] = 1\n",
    "train.loc[(train['BsmtExposure'].isin(['NA', 'No'])), 'BsmtExposure'] = 0"
   ]
  },
  {
   "cell_type": "code",
   "execution_count": 35,
   "id": "0f47431d",
   "metadata": {},
   "outputs": [],
   "source": [
    "train.loc[(train['HeatingQC'].isin(['Ex'])), 'HeatingQC'] = 1\n",
    "train.loc[(train['HeatingQC'].isin(['Fa', 'Gd', 'Po', 'TA'])), 'HeatingQC'] = 0"
   ]
  },
  {
   "cell_type": "code",
   "execution_count": 36,
   "id": "58690c03",
   "metadata": {},
   "outputs": [],
   "source": [
    "train.loc[(~train['Electrical'].isin(['SBrkr', 'NA'])), 'Electrical'] = 0\n",
    "train.loc[(train['Electrical'].isin(['SBrkr', 'NA'])), 'Electrical'] = 1"
   ]
  },
  {
   "cell_type": "code",
   "execution_count": 41,
   "id": "f21120fa",
   "metadata": {},
   "outputs": [],
   "source": [
    "train.loc[(train['FullBath'] <= 1), 'FullBath'] = 1\n",
    "train.loc[(train['FullBath'] > 1), 'FullBath'] = 2"
   ]
  },
  {
   "cell_type": "code",
   "execution_count": 46,
   "id": "a4378fd9",
   "metadata": {},
   "outputs": [],
   "source": [
    "train.loc[(train['Fireplaces'] >= 1), 'Fireplaces'] = 1"
   ]
  },
  {
   "cell_type": "code",
   "execution_count": 47,
   "id": "5858e4e2",
   "metadata": {},
   "outputs": [],
   "source": [
    "train.loc[(train['FireplaceQu'].isin(['Gd', 'TA'])), 'FireplaceQu'] = 'Gd'\n",
    "train.loc[(train['FireplaceQu'].isin(['Fa', 'NA', 'Po'])), 'FireplaceQu'] = 'Low'"
   ]
  },
  {
   "cell_type": "code",
   "execution_count": 39,
   "id": "04f233b7",
   "metadata": {},
   "outputs": [],
   "source": [
    "train.loc[(train['BsmtFullBath'] > 0), 'BsmtFullBath'] = 1"
   ]
  },
  {
   "cell_type": "code",
   "execution_count": null,
   "id": "62137ebf",
   "metadata": {},
   "outputs": [],
   "source": []
  },
  {
   "cell_type": "code",
   "execution_count": 6,
   "id": "2ca9897a",
   "metadata": {},
   "outputs": [],
   "source": [
    "train.drop('Alley', axis=1, inplace=True)"
   ]
  },
  {
   "cell_type": "code",
   "execution_count": 8,
   "id": "f48a5c5c",
   "metadata": {},
   "outputs": [],
   "source": [
    "train.drop('LandContour', axis=1, inplace=True)"
   ]
  },
  {
   "cell_type": "code",
   "execution_count": 9,
   "id": "7721c787",
   "metadata": {},
   "outputs": [],
   "source": [
    "train.drop('Utilities', axis=1, inplace=True)"
   ]
  },
  {
   "cell_type": "code",
   "execution_count": 10,
   "id": "c79b26fb",
   "metadata": {},
   "outputs": [],
   "source": [
    "train.drop('LotConfig', axis=1, inplace=True)"
   ]
  },
  {
   "cell_type": "code",
   "execution_count": 11,
   "id": "f5193369",
   "metadata": {},
   "outputs": [],
   "source": [
    "train.drop('LandSlope', axis=1, inplace=True)"
   ]
  },
  {
   "cell_type": "code",
   "execution_count": 12,
   "id": "d8c85da9",
   "metadata": {},
   "outputs": [],
   "source": [
    "train.drop(['Condition1', 'Condition2'], axis=1, inplace=True)"
   ]
  },
  {
   "cell_type": "code",
   "execution_count": 13,
   "id": "a86e8206",
   "metadata": {},
   "outputs": [],
   "source": [
    "train.drop('BldgType', axis=1, inplace=True)"
   ]
  },
  {
   "cell_type": "code",
   "execution_count": 14,
   "id": "6ce70b8b",
   "metadata": {},
   "outputs": [],
   "source": [
    "train.drop('HouseStyle', axis=1, inplace=True)"
   ]
  },
  {
   "cell_type": "code",
   "execution_count": 15,
   "id": "bc5723fc",
   "metadata": {},
   "outputs": [],
   "source": [
    "train.drop('OverallCond', axis=1, inplace=True)"
   ]
  },
  {
   "cell_type": "code",
   "execution_count": 17,
   "id": "1e04f803",
   "metadata": {},
   "outputs": [],
   "source": [
    "train.drop(['YearRemodAdd', 'YearBuilt'], axis=1, inplace=True)"
   ]
  },
  {
   "cell_type": "code",
   "execution_count": 18,
   "id": "c9065130",
   "metadata": {},
   "outputs": [],
   "source": [
    "train.drop(['MoSold', 'YrSold'], axis=1, inplace=True)"
   ]
  },
  {
   "cell_type": "code",
   "execution_count": 19,
   "id": "51925e00",
   "metadata": {},
   "outputs": [],
   "source": [
    "train.drop('RoofStyle', axis=1, inplace=True)"
   ]
  },
  {
   "cell_type": "code",
   "execution_count": 20,
   "id": "d1e0897a",
   "metadata": {},
   "outputs": [],
   "source": [
    "train.drop('RoofMatl', axis=1, inplace=True)"
   ]
  },
  {
   "cell_type": "code",
   "execution_count": 22,
   "id": "fc38e9c5",
   "metadata": {},
   "outputs": [],
   "source": [
    "train.drop('Exterior2nd', axis=1, inplace=True)"
   ]
  },
  {
   "cell_type": "code",
   "execution_count": 25,
   "id": "882e8a53",
   "metadata": {},
   "outputs": [],
   "source": [
    "train.drop('MasVnrArea', axis=1, inplace=True)"
   ]
  },
  {
   "cell_type": "code",
   "execution_count": 32,
   "id": "39a99b0b",
   "metadata": {},
   "outputs": [],
   "source": [
    "train.drop('BsmtFinType1', axis=1, inplace=True)"
   ]
  },
  {
   "cell_type": "code",
   "execution_count": 33,
   "id": "e072e2a0",
   "metadata": {},
   "outputs": [],
   "source": [
    "train.drop(['BsmtFinSF1', 'BsmtFinType2', 'BsmtFinSF2', 'BsmtUnfSF'], axis=1, inplace=True)"
   ]
  },
  {
   "cell_type": "code",
   "execution_count": 34,
   "id": "966e44e9",
   "metadata": {},
   "outputs": [],
   "source": [
    "train.drop('Heating', axis=1, inplace=True)"
   ]
  },
  {
   "cell_type": "code",
   "execution_count": 37,
   "id": "6e9a3d2c",
   "metadata": {},
   "outputs": [],
   "source": [
    "train.drop('LowQualFinSF', axis=1, inplace=True)"
   ]
  },
  {
   "cell_type": "code",
   "execution_count": 40,
   "id": "cd5139bf",
   "metadata": {},
   "outputs": [],
   "source": [
    "train.drop('BsmtHalfBath', axis=1, inplace=True)"
   ]
  },
  {
   "cell_type": "code",
   "execution_count": 42,
   "id": "77047d6e",
   "metadata": {},
   "outputs": [],
   "source": [
    "train.drop('HalfBath', axis=1, inplace=True)"
   ]
  },
  {
   "cell_type": "code",
   "execution_count": 43,
   "id": "e7ebd22f",
   "metadata": {},
   "outputs": [],
   "source": [
    "train.drop('BedroomAbvGr', axis=1, inplace=True)"
   ]
  },
  {
   "cell_type": "code",
   "execution_count": 44,
   "id": "f2545136",
   "metadata": {},
   "outputs": [],
   "source": [
    "train.drop('KitchenAbvGr', axis=1, inplace=True)"
   ]
  },
  {
   "cell_type": "code",
   "execution_count": 45,
   "id": "49fe20a9",
   "metadata": {},
   "outputs": [],
   "source": [
    "train.drop('Functional', axis=1, inplace=True)"
   ]
  },
  {
   "cell_type": "code",
   "execution_count": 48,
   "id": "d8f91269",
   "metadata": {},
   "outputs": [],
   "source": [
    "train.drop('GarageType', axis=1, inplace=True)"
   ]
  },
  {
   "cell_type": "code",
   "execution_count": 49,
   "id": "305b59e4",
   "metadata": {},
   "outputs": [],
   "source": [
    "train.drop('GarageYrBlt', axis=1, inplace=True)"
   ]
  },
  {
   "cell_type": "code",
   "execution_count": 50,
   "id": "319f66f8",
   "metadata": {},
   "outputs": [],
   "source": [
    "train.drop('GarageQual', axis=1, inplace=True)"
   ]
  },
  {
   "cell_type": "code",
   "execution_count": 51,
   "id": "7e0d771f",
   "metadata": {},
   "outputs": [],
   "source": [
    "train.drop('GarageCond', axis=1, inplace=True)"
   ]
  },
  {
   "cell_type": "code",
   "execution_count": 52,
   "id": "31225920",
   "metadata": {},
   "outputs": [],
   "source": [
    "train.drop('EnclosedPorch', axis=1, inplace=True)"
   ]
  },
  {
   "cell_type": "code",
   "execution_count": 53,
   "id": "6cef714b",
   "metadata": {},
   "outputs": [],
   "source": [
    "train.drop('3SsnPorch', axis=1, inplace=True)"
   ]
  },
  {
   "cell_type": "code",
   "execution_count": 54,
   "id": "d00e7532",
   "metadata": {},
   "outputs": [],
   "source": [
    "train.drop('ScreenPorch', axis=1, inplace=True)"
   ]
  },
  {
   "cell_type": "code",
   "execution_count": 55,
   "id": "7247c01e",
   "metadata": {},
   "outputs": [],
   "source": [
    "train.drop('PoolArea', axis=1, inplace=True)"
   ]
  },
  {
   "cell_type": "code",
   "execution_count": 56,
   "id": "c048296e",
   "metadata": {},
   "outputs": [],
   "source": [
    "train.drop('PoolQC', axis=1, inplace=True)"
   ]
  },
  {
   "cell_type": "code",
   "execution_count": 57,
   "id": "99454dd5",
   "metadata": {},
   "outputs": [],
   "source": [
    "train.drop('Fence', axis=1, inplace=True)"
   ]
  },
  {
   "cell_type": "code",
   "execution_count": 58,
   "id": "33df71bb",
   "metadata": {},
   "outputs": [],
   "source": [
    "train.drop('MiscFeature', axis=1, inplace=True)"
   ]
  },
  {
   "cell_type": "code",
   "execution_count": 59,
   "id": "f4064eb9",
   "metadata": {},
   "outputs": [],
   "source": [
    "train.drop('MiscVal', axis=1, inplace=True)"
   ]
  },
  {
   "cell_type": "code",
   "execution_count": 60,
   "id": "108a1975",
   "metadata": {},
   "outputs": [],
   "source": [
    "train.drop('SaleType', axis=1, inplace=True)"
   ]
  },
  {
   "cell_type": "code",
   "execution_count": 61,
   "id": "ea1abcbf",
   "metadata": {},
   "outputs": [],
   "source": [
    "train.drop('SaleCondition', axis=1, inplace=True)"
   ]
  },
  {
   "cell_type": "code",
   "execution_count": 62,
   "id": "b2145f7f",
   "metadata": {},
   "outputs": [],
   "source": [
    "train.drop('Id', axis=1, inplace=True)"
   ]
  },
  {
   "cell_type": "code",
   "execution_count": 63,
   "id": "a610c3fd",
   "metadata": {},
   "outputs": [],
   "source": [
    "train.drop('LotFrontage', axis=1, inplace=True)"
   ]
  },
  {
   "cell_type": "code",
   "execution_count": 64,
   "id": "68ea7d83",
   "metadata": {},
   "outputs": [],
   "source": [
    "train.drop('MSSubClass', axis=1, inplace=True)"
   ]
  },
  {
   "cell_type": "code",
   "execution_count": 65,
   "id": "1f0cd196",
   "metadata": {},
   "outputs": [],
   "source": [
    "train.drop('MSZoning', axis=1, inplace=True)"
   ]
  },
  {
   "cell_type": "code",
   "execution_count": 66,
   "id": "62d37814",
   "metadata": {},
   "outputs": [],
   "source": [
    "train.drop('Street', axis=1, inplace=True)"
   ]
  },
  {
   "cell_type": "code",
   "execution_count": null,
   "id": "c6734e7a",
   "metadata": {},
   "outputs": [],
   "source": []
  },
  {
   "cell_type": "code",
   "execution_count": 68,
   "id": "bd5f95bc",
   "metadata": {},
   "outputs": [],
   "source": [
    "train.loc[train['Exterior1st'].isna(), 'Exterior1st'] = 'Lvl_2'\n",
    "train.loc[train['KitchenQual'].isna(), 'KitchenQual'] = 'TA'\n",
    "train.loc[train['GarageFinish'].isna(), 'GarageFinish'] = 'NA'"
   ]
  },
  {
   "cell_type": "code",
   "execution_count": 69,
   "id": "c7c06161",
   "metadata": {},
   "outputs": [],
   "source": [
    "train['TotalBsmtSF'] = train['TotalBsmtSF'].astype('int')\n",
    "train['BsmtFullBath'] = train['BsmtFullBath'].astype('int')\n",
    "train['GarageCars'] = train['GarageCars'].astype('int')\n",
    "train['GarageArea'] = train['GarageArea'].astype('int')"
   ]
  },
  {
   "cell_type": "code",
   "execution_count": null,
   "id": "a8db9fa7",
   "metadata": {},
   "outputs": [],
   "source": []
  },
  {
   "cell_type": "code",
   "execution_count": 70,
   "id": "980840d7",
   "metadata": {},
   "outputs": [],
   "source": [
    "train.to_csv('test_processed.csv', index=False)"
   ]
  },
  {
   "cell_type": "code",
   "execution_count": null,
   "id": "c6bedb31",
   "metadata": {},
   "outputs": [],
   "source": []
  }
 ],
 "metadata": {
  "kernelspec": {
   "display_name": "Python 3 (ipykernel)",
   "language": "python",
   "name": "python3"
  },
  "language_info": {
   "codemirror_mode": {
    "name": "ipython",
    "version": 3
   },
   "file_extension": ".py",
   "mimetype": "text/x-python",
   "name": "python",
   "nbconvert_exporter": "python",
   "pygments_lexer": "ipython3",
   "version": "3.10.8"
  }
 },
 "nbformat": 4,
 "nbformat_minor": 5
}
