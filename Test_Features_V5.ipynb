{
 "cells": [
  {
   "cell_type": "code",
   "execution_count": 1,
   "id": "df7e9b33",
   "metadata": {},
   "outputs": [],
   "source": [
    "import pandas as pd\n",
    "import matplotlib.pyplot as plt\n",
    "import numpy as np\n",
    "import seaborn as sns\n",
    "pd.set_option('display.max_columns', None)"
   ]
  },
  {
   "cell_type": "code",
   "execution_count": 2,
   "id": "56c5937b",
   "metadata": {},
   "outputs": [],
   "source": [
    "pd.set_option('display.max_rows', 100)"
   ]
  },
  {
   "cell_type": "code",
   "execution_count": 3,
   "id": "08b2948b",
   "metadata": {},
   "outputs": [],
   "source": [
    "train = pd.read_csv('test.csv')"
   ]
  },
  {
   "cell_type": "code",
   "execution_count": 4,
   "id": "70288bf0",
   "metadata": {},
   "outputs": [],
   "source": [
    "train.loc[train['LotArea'] > 30000, 'LotArea'] = 30000"
   ]
  },
  {
   "cell_type": "code",
   "execution_count": 5,
   "id": "5b4693c2",
   "metadata": {},
   "outputs": [],
   "source": [
    "for col in train.columns:\n",
    "    if train[col].dtype == 'object':\n",
    "        train[col].fillna('N_A', inplace=True)\n",
    "    else:\n",
    "        train[col].fillna(0, inplace=True)"
   ]
  },
  {
   "cell_type": "code",
   "execution_count": 6,
   "id": "5c5056d9",
   "metadata": {},
   "outputs": [],
   "source": [
    "mapping = {'N_A': 0, \n",
    "           'Po': 1, \n",
    "           'Fa': 2, \n",
    "           'TA': 3, \n",
    "           'Gd': 4, \n",
    "           'Ex': 5}"
   ]
  },
  {
   "cell_type": "code",
   "execution_count": 7,
   "id": "4d86a6d3",
   "metadata": {},
   "outputs": [],
   "source": [
    "for col in train.columns:\n",
    "    if train[col].unique().any() in ['TA', 'Gd', 'Fa', 'Po', 'Ex']:\n",
    "        train[col] = train[col].map(mapping)"
   ]
  },
  {
   "cell_type": "code",
   "execution_count": 8,
   "id": "58510aa5",
   "metadata": {},
   "outputs": [],
   "source": [
    "train['FireplaceQu'] = train['FireplaceQu'].map(mapping)"
   ]
  },
  {
   "cell_type": "code",
   "execution_count": 9,
   "id": "339049bb",
   "metadata": {},
   "outputs": [],
   "source": [
    "train.drop('Id', axis=1, inplace=True)"
   ]
  },
  {
   "cell_type": "code",
   "execution_count": 10,
   "id": "4f076173",
   "metadata": {},
   "outputs": [],
   "source": [
    "train.drop('LotFrontage', axis=1, inplace=True)"
   ]
  },
  {
   "cell_type": "code",
   "execution_count": 11,
   "id": "8b866b0b",
   "metadata": {},
   "outputs": [],
   "source": [
    "n_sorted = ['MeadowV', 'BrDale', 'IDOTRR', 'OldTown', 'Edwards', 'BrkSide',\n",
    "       'Sawyer', 'Blueste', 'SWISU', 'NAmes', 'NPkVill', 'Mitchel', 'SawyerW',\n",
    "       'Gilbert', 'NWAmes', 'Blmngtn', 'CollgCr', 'ClearCr', 'Crawfor',\n",
    "       'Veenker', 'Timber', 'Somerst', 'StoneBr', 'NoRidge', 'NridgHt']"
   ]
  },
  {
   "cell_type": "code",
   "execution_count": 12,
   "id": "a69e72e4",
   "metadata": {},
   "outputs": [],
   "source": [
    "for i, n in enumerate(n_sorted):\n",
    "    train.loc[train['Neighborhood'] == n, 'neighborhoods_ordinal'] = int(i+1)"
   ]
  },
  {
   "cell_type": "code",
   "execution_count": 13,
   "id": "532099ad",
   "metadata": {},
   "outputs": [],
   "source": [
    "train.drop('Neighborhood', axis=1, inplace=True)"
   ]
  },
  {
   "cell_type": "markdown",
   "id": "e1890ccb",
   "metadata": {},
   "source": [
    "### Output"
   ]
  },
  {
   "cell_type": "code",
   "execution_count": 14,
   "id": "23d0e007",
   "metadata": {},
   "outputs": [],
   "source": [
    "#train.to_csv('test_preprocessed.csv', index=False)"
   ]
  },
  {
   "cell_type": "code",
   "execution_count": null,
   "id": "7593970a",
   "metadata": {},
   "outputs": [],
   "source": []
  }
 ],
 "metadata": {
  "kernelspec": {
   "display_name": "Python 3 (ipykernel)",
   "language": "python",
   "name": "python3"
  },
  "language_info": {
   "codemirror_mode": {
    "name": "ipython",
    "version": 3
   },
   "file_extension": ".py",
   "mimetype": "text/x-python",
   "name": "python",
   "nbconvert_exporter": "python",
   "pygments_lexer": "ipython3",
   "version": "3.10.8"
  }
 },
 "nbformat": 4,
 "nbformat_minor": 5
}
